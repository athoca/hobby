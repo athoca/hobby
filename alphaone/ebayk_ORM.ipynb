{
 "metadata": {
  "language_info": {
   "codemirror_mode": {
    "name": "ipython",
    "version": 3
   },
   "file_extension": ".py",
   "mimetype": "text/x-python",
   "name": "python",
   "nbconvert_exporter": "python",
   "pygments_lexer": "ipython3",
   "version": "3.7.7-final"
  },
  "orig_nbformat": 2,
  "kernelspec": {
   "name": "python37764bitalphacondaaab9c9a66855494a8fee4fc0be8741dc",
   "display_name": "Python 3.7.7 64-bit ('alpha': conda)"
  }
 },
 "nbformat": 4,
 "nbformat_minor": 2,
 "cells": [
  {
   "cell_type": "code",
   "execution_count": null,
   "metadata": {},
   "outputs": [],
   "source": [
    "# Doc: https://docs.sqlalchemy.org/en/13/orm/tutorial.html\n",
    "import sqlalchemy\n",
    "sqlalchemy.__version__"
   ]
  },
  {
   "cell_type": "code",
   "execution_count": null,
   "metadata": {},
   "outputs": [],
   "source": [
    "from datetime import datetime\n",
    "from sqlalchemy import Column, Integer, String, Float, DateTime, Text, SmallInteger, BigInteger\n",
    "from sqlalchemy import ForeignKey\n",
    "from sqlalchemy.orm import relationship\n",
    "from sqlalchemy.ext.declarative import declarative_base\n",
    "Base = declarative_base()"
   ]
  },
  {
   "cell_type": "code",
   "execution_count": null,
   "metadata": {},
   "outputs": [],
   "source": [
    "# Because BigInteger not auto-incremetal as primary-key in sqlite, but others\n",
    "from sqlalchemy.dialects import postgresql, mysql, sqlite\n",
    "BigIntegerType = BigInteger()\n",
    "BigIntegerType = BigIntegerType.with_variant(postgresql.BIGINT(), 'postgresql')\n",
    "BigIntegerType = BigIntegerType.with_variant(mysql.BIGINT(), 'mysql')\n",
    "BigIntegerType = BigIntegerType.with_variant(sqlite.INTEGER(), 'sqlite')"
   ]
  },
  {
   "cell_type": "code",
   "execution_count": null,
   "metadata": {},
   "outputs": [],
   "source": [
    "from sqlalchemy import create_engine\n",
    "engine = create_engine('sqlite:///:memory:', echo=True)"
   ]
  },
  {
   "cell_type": "code",
   "execution_count": null,
   "metadata": {},
   "outputs": [],
   "source": [
    "class EKUser(Base):\n",
    "    __tablename__ = 'ek_users'\n",
    "    id = Column(Integer, primary_key=True, autoincrement=False)  # ebayK user Id\n",
    "    name = Column(String(50), nullable=False)\n",
    "    address = Column(String(255), nullable=False)\n",
    "    active_date = Column(DateTime, nullable=False)\n",
    "    phone = Column(String(30), nullable=True)\n",
    "    email = Column(String(255), nullable=True)\n",
    "\n",
    "    def _get_url(self):\n",
    "        return \"https://www.ebay-kleinanzeigen.de/s-bestandsliste.html?userId={}\".format(self.id)\n",
    "\n",
    "    def __repr__(self):\n",
    "        return \"<EKUser(id={}, name={}, active from {})> \\n  url: {}\".format(self.id, self.name, self.active_date, self._get_url())"
   ]
  },
  {
   "cell_type": "code",
   "execution_count": null,
   "metadata": {},
   "outputs": [],
   "source": [
    "class EKItem(Base):\n",
    "    __tablename__ = 'ek_items'\n",
    "    id = Column(BigInteger, primary_key=True, autoincrement=False)\n",
    "    title = Column(String(255), nullable=False)\n",
    "    price = Column(Float, nullable=False)\n",
    "    release_date = Column(DateTime, nullable=False)\n",
    "    stadt = Column(String(255), nullable=False)\n",
    "    category = Column(String(255), nullable=False)\n",
    "    sub_category = Column(String(255), nullable=False)\n",
    "    status = Column(String(30), nullable=True)\n",
    "    description =Column(Text, nullable=True)\n",
    "    image_nb = Column(Integer, nullable=True)\n",
    "    image_label = Column(String(255), nullable=True)\n",
    "    seller_id = Column(Integer, ForeignKey('ek_users.id'))\n",
    "    seller = relationship(\"EKUser\", back_populates=\"items\")\n",
    "\n",
    "    def _get_url(self):\n",
    "        return \"https://www.ebay-kleinanzeigen.de/s-anzeige/{}\".format(self.id)\n",
    "\n",
    "    def __repr__(self):\n",
    "        return \"<EKItem(id={}, title={}, status={})> \\n  url: {}\".format(self.id, self.title, self.status, self._get_url())\n",
    "\n",
    "EKUser.items = relationship(\"EKItem\", order_by=EKItem.id, back_populates=\"seller\")"
   ]
  },
  {
   "cell_type": "code",
   "execution_count": null,
   "metadata": {},
   "outputs": [],
   "source": [
    "class EKViewCount(Base):\n",
    "    __tablename__ = 'ek_view_counts'\n",
    "    id = Column(BigIntegerType, primary_key=True)    \n",
    "    count = Column(SmallInteger, nullable=False)\n",
    "    at = Column(Integer, nullable=False)   # each 1 minute is 1 increment\n",
    "    item_id = Column(BigInteger, ForeignKey('ek_items.id'), nullable=False)\n",
    "\n",
    "    def __repr__(self):\n",
    "        return \"<EKViewCount(of item={}, count={}, at={})>\".format(self.item_id, self.count, self.at)"
   ]
  },
  {
   "cell_type": "code",
   "execution_count": null,
   "metadata": {},
   "outputs": [],
   "source": [
    "# temporary to transfer data, do not need ForeignKey\n",
    "class EKMonitoringItem(Base):\n",
    "    __tablename__ = 'ek_monitoring_items'\n",
    "    id = Column(BigIntegerType, primary_key=True)   \n",
    "    item_id = Column(BigInteger, nullable=False)\n",
    "    seller_id = Column(Integer, nullable=False)\n",
    "    next_count_time = Column(DateTime, nullable=False)\n",
    "    count_duration = Column(Integer, nullable=False)\n",
    "\n",
    "    def __repr__(self):\n",
    "        return \"<EKMonitoringItem(item_id={}, seller_id={})>\".format(self.item_id, self.seller_id)"
   ]
  },
  {
   "cell_type": "code",
   "execution_count": null,
   "metadata": {
    "tags": []
   },
   "outputs": [],
   "source": [
    "Base.metadata.create_all(engine)"
   ]
  },
  {
   "cell_type": "code",
   "execution_count": null,
   "metadata": {},
   "outputs": [],
   "source": [
    "from sqlalchemy.orm import sessionmaker\n",
    "Session = sessionmaker(bind=engine)\n",
    "session = Session()"
   ]
  },
  {
   "cell_type": "code",
   "execution_count": null,
   "metadata": {},
   "outputs": [],
   "source": [
    "ek_user = EKUser(id=67461734, name='dorie', address='Home', active_date=datetime.utcnow())"
   ]
  },
  {
   "cell_type": "code",
   "execution_count": null,
   "metadata": {},
   "outputs": [],
   "source": [
    "first_item = EKItem(id=1477722139, title=\"Korg damper pedal (Japan) New\", price=35.0, \\\n",
    "    release_date=datetime.utcnow(), stadt=\"Munich\", category=\"1\", sub_category=\"2\")\n",
    "first_item.seller = ek_user"
   ]
  },
  {
   "cell_type": "code",
   "execution_count": null,
   "metadata": {},
   "outputs": [],
   "source": [
    "a_count = EKViewCount(count=10, at=1, item_id=first_item.id)"
   ]
  },
  {
   "cell_type": "code",
   "execution_count": null,
   "metadata": {},
   "outputs": [],
   "source": [
    "from datetime import timedelta\n",
    "a_monitoring_item = EKMonitoringItem(item_id=1477722139, seller_id=67461734, \\\n",
    "    next_count_time=datetime.utcnow() + timedelta(minutes=60), count_duration=0)"
   ]
  },
  {
   "cell_type": "code",
   "execution_count": null,
   "metadata": {
    "tags": []
   },
   "outputs": [],
   "source": [
    "session.add(ek_user)\n",
    "session.add(first_item)\n",
    "session.add(a_count)\n",
    "session.add(a_monitoring_item)\n",
    "session.commit()"
   ]
  },
  {
   "cell_type": "code",
   "execution_count": null,
   "metadata": {
    "tags": []
   },
   "outputs": [],
   "source": [
    "ek_user.items"
   ]
  },
  {
   "cell_type": "code",
   "execution_count": null,
   "metadata": {},
   "outputs": [],
   "source": [
    "first_item.seller"
   ]
  },
  {
   "cell_type": "code",
   "execution_count": null,
   "metadata": {
    "tags": []
   },
   "outputs": [],
   "source": [
    "a_count"
   ]
  },
  {
   "cell_type": "code",
   "execution_count": null,
   "metadata": {
    "tags": []
   },
   "outputs": [],
   "source": [
    "a_item = session.query(EKItem).filter_by(id=a_count.item_id).one()"
   ]
  },
  {
   "cell_type": "code",
   "execution_count": null,
   "metadata": {},
   "outputs": [],
   "source": [
    "a_item"
   ]
  },
  {
   "cell_type": "code",
   "execution_count": null,
   "metadata": {
    "tags": []
   },
   "outputs": [],
   "source": [
    "one_monitoring_item = session.query(EKMonitoringItem).one()"
   ]
  },
  {
   "cell_type": "code",
   "execution_count": null,
   "metadata": {},
   "outputs": [],
   "source": [
    "one_monitoring_item"
   ]
  },
  {
   "cell_type": "code",
   "execution_count": null,
   "metadata": {},
   "outputs": [],
   "source": [
    "datetime.utcnow() - one_monitoring_item.next_count_time > timedelta(seconds=1)"
   ]
  },
  {
   "cell_type": "code",
   "execution_count": null,
   "metadata": {},
   "outputs": [],
   "source": []
  }
 ]
}