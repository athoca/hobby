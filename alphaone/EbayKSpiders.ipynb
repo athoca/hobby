{
 "cells": [
  {
   "cell_type": "markdown",
   "metadata": {},
   "source": [
    "# For item spider"
   ]
  },
  {
   "cell_type": "markdown",
   "metadata": {},
   "source": [
    "## Search query"
   ]
  },
  {
   "cell_type": "code",
   "execution_count": 43,
   "metadata": {},
   "outputs": [],
   "source": [
    "import requests\n",
    "from bs4 import BeautifulSoup as soup\n",
    "import os.path\n",
    "import os\n",
    "import json\n",
    "from datetime import datetime\n",
    "from datetime import timedelta\n",
    "from datetime import datetime\n",
    "import os"
   ]
  },
  {
   "cell_type": "code",
   "execution_count": 2,
   "metadata": {},
   "outputs": [],
   "source": [
    "headers = {\n",
    "        'User-Agent': 'Mozilla/5.0 (iPhone; CPU iPhone OS 13_2_3 like Mac OS X) AppleWebKit/605.1.15 (KHTML, like Gecko) Version/13.0.3 Mobile/15E148 Safari/604.1',\n",
    "        'Connection' : 'keep-alive',\n",
    "        'Cache-Control' : 'max-age=0',\n",
    "        'Upgrade-Insecure-Requests' : '1',\n",
    "        'Accept' : 'text/html,application/xhtml+xml,application/xml;q=0.9,image/webp,image/apng,*/*;q=0.8,application/signed-exchange;v=b3;q=0.9',\n",
    "        'Accept-Encoding' : 'gzip, deflate, br',\n",
    "        'Accept-Language' : 'en-US,en;q=0.9,vi;q=0.8',\n",
    "    }"
   ]
  },
  {
   "cell_type": "code",
   "execution_count": 3,
   "metadata": {},
   "outputs": [],
   "source": [
    "search_url = \"https://m.ebay-kleinanzeigen.de/s-anzeigen/multimedia-elektronik-80331/c161-l6443?distance=100\""
   ]
  },
  {
   "cell_type": "code",
   "execution_count": 4,
   "metadata": {},
   "outputs": [],
   "source": [
    "response = requests.get(search_url, headers=headers)\n",
    "with open(\"myfile.html\", \"wb\") as f: \n",
    "    # Writing data to a file \n",
    "    f.write(response.content) "
   ]
  },
  {
   "cell_type": "code",
   "execution_count": 5,
   "metadata": {},
   "outputs": [],
   "source": [
    "page = response.text\n",
    "doc = soup(page, \"html.parser\")\n",
    "items = [element for element in doc.find_all('li', {\"class\": \"j-adlistitem adlist--item\"})]"
   ]
  },
  {
   "cell_type": "code",
   "execution_count": 8,
   "metadata": {},
   "outputs": [
    {
     "output_type": "execute_result",
     "data": {
      "text/plain": "<li class=\"j-adlistitem adlist--item\" data-adid=\"1490292530\" data-href=\"/s-anzeige/13-3-fujitsu-lifebook-s761-i5-prossesor-2-5gh/1490292530-278-5903\">\n<div class=\"adlist--item--imagebox adlist--item--imagebox-noBackground\">\n<img alt='13,3\" Fujitsu Lifebook S761 i5 Prossesor 2,5Gh' class=\"lazy\" data-src=\"https://i.ebayimg.com/00/s/MTYwMFgxMjA4/z/yKgAAOSwHuhfQDun/$_35.JPG\" data-srcset=\"https://i.ebayimg.com/00/s/MTYwMFgxMjA4/z/yKgAAOSwHuhfQDun/$_12.JPG 2x\"/>\n</div>\n<div class=\"adlist--item--descarea\">\n<div class=\"adlist--item--info\">\n<div class=\"adlist--item--info--location\">\n                                Bruckmühl\n                            </div>\n<div class=\"adlist--item--info--date\">\n                                    Heute, 23:27\n                                </div>\n</div>\n<strong class=\"adlist--item--title j-adlistitem-title\">\n<a href=\"/s-anzeige/13-3-fujitsu-lifebook-s761-i5-prossesor-2-5gh/1490292530-278-5903\">13,3\" Fujitsu Lifebook S761 i5 Prossesor 2,5Gh</a>\n</strong>\n<div class=\"adlist--item--price\">168 € VB</div>\n</div>\n</li>"
     },
     "metadata": {},
     "execution_count": 8
    }
   ],
   "source": [
    "item = ''\n",
    "if len(items) > 0:\n",
    "    item = items[0]\n",
    "item"
   ]
  },
  {
   "cell_type": "code",
   "execution_count": 9,
   "metadata": {},
   "outputs": [],
   "source": [
    "orign_url = \"https://m.ebay-kleinanzeigen.de\"\n",
    "item_url = orign_url + item.attrs['data-href']\n",
    "item_id = item.attrs['data-adid']"
   ]
  },
  {
   "cell_type": "code",
   "execution_count": 10,
   "metadata": {},
   "outputs": [],
   "source": [
    "div = item.find('div', {\"class\": \"adlist--item--info--location\"}).contents\n",
    "if len(div) == 1:\n",
    "    item_stadt = div[0].strip()\n",
    "else:\n",
    "    item_stadt = 'Deutschland'"
   ]
  },
  {
   "cell_type": "code",
   "execution_count": 11,
   "metadata": {
    "tags": []
   },
   "outputs": [],
   "source": [
    "# set release_time = now() => good enough, simple logic when 23:99 => 0:00\n",
    "release_time = datetime.now()\n",
    "\n",
    "# div = item.find('div', {\"class\": \"adlist--item--info--date\"}).contents\n",
    "# if len(div) == 1:\n",
    "#     release_time = div[0].split(',')[-1].strip()\n",
    "#     datetime.strptime(release_time, '%H:%M')\n",
    "#     # TODO: add day, month and year\n",
    "# else:\n",
    "#     release_time = datetime.now()"
   ]
  },
  {
   "cell_type": "code",
   "execution_count": 12,
   "metadata": {},
   "outputs": [],
   "source": [
    "item_title = item.find('a').text"
   ]
  },
  {
   "cell_type": "code",
   "execution_count": 13,
   "metadata": {},
   "outputs": [],
   "source": [
    "item_price = item.find('div', {\"class\": \"adlist--item--price\"}).text\n",
    "item_price = ''.join(filter(str.isdigit, item_price))   # keep only numerical price\n",
    "if not item_price:\n",
    "    item_price = -1.0 # not specified "
   ]
  },
  {
   "cell_type": "code",
   "execution_count": 15,
   "metadata": {
    "tags": []
   },
   "outputs": [
    {
     "output_type": "stream",
     "name": "stdout",
     "text": "https://m.ebay-kleinanzeigen.de/s-anzeige/13-3-fujitsu-lifebook-s761-i5-prossesor-2-5gh/1490292530-278-5903\n1490292530\n2020-08-24 23:29:47.023571\nBruckmühl\n13,3\" Fujitsu Lifebook S761 i5 Prossesor 2,5Gh\n168\n"
    }
   ],
   "source": [
    "print(item_url)\n",
    "print(item_id)\n",
    "print(release_time)\n",
    "print(item_stadt)\n",
    "print(item_title)\n",
    "print(item_price)\n",
    "\n",
    "# if item_id not in set => process item and add it into set, else stop and wait next time."
   ]
  },
  {
   "cell_type": "markdown",
   "metadata": {},
   "source": [
    "## Go to item url"
   ]
  },
  {
   "cell_type": "code",
   "execution_count": 16,
   "metadata": {},
   "outputs": [],
   "source": [
    "response = requests.get(item_url, headers=headers)\n",
    "with open(\"item.html\", \"wb\") as f: \n",
    "    # Writing data to a file \n",
    "    f.write(response.content)"
   ]
  },
  {
   "cell_type": "code",
   "execution_count": 17,
   "metadata": {},
   "outputs": [],
   "source": [
    "page = response.text\n",
    "doc = soup(page, \"html.parser\")"
   ]
  },
  {
   "cell_type": "code",
   "execution_count": 18,
   "metadata": {},
   "outputs": [],
   "source": [
    "a = doc.find('script',{'type':'text/javascript'})\n",
    "b = a.contents[0].split(\"\\n\")"
   ]
  },
  {
   "cell_type": "code",
   "execution_count": 19,
   "metadata": {},
   "outputs": [
    {
     "output_type": "execute_result",
     "data": {
      "text/plain": "'25957413'"
     },
     "metadata": {},
     "execution_count": 19
    }
   ],
   "source": [
    "seller_id = ''.join(filter(str.isdigit, b[9]))   # keep only numerical price\n",
    "seller_id"
   ]
  },
  {
   "cell_type": "code",
   "execution_count": 20,
   "metadata": {
    "tags": []
   },
   "outputs": [
    {
     "output_type": "stream",
     "name": "stdout",
     "text": "Multimedia_Elektronik\nNotebooks\n"
    }
   ],
   "source": [
    "item_category = b[36].split(\"\\\"\")[-2]\n",
    "item_subcategory = b[37].split(\"\\\"\")[-2]\n",
    "print(item_category)\n",
    "print(item_subcategory)"
   ]
  },
  {
   "cell_type": "code",
   "execution_count": 21,
   "metadata": {},
   "outputs": [],
   "source": [
    "# # other way to get category and sub-category\n",
    "# item_category = \"electronik\"\n",
    "# item_subcategory = doc.find('dl', {'class':'definition-list-addetails'}).find('dd').text\n",
    "# item_subcategory"
   ]
  },
  {
   "cell_type": "code",
   "execution_count": 22,
   "metadata": {},
   "outputs": [
    {
     "output_type": "execute_result",
     "data": {
      "text/plain": "'Angeboten wird ein 13, 3\" Fujitsu Lifebook S761 mit i5 Prossesor 2,5Gh, 4GB Ram und 160GB Festplatte. Der Laptop ist von einem Fachman komplett neu überarbeitet worden. Dabei wurde auch Windows 10 Prof.. und Office 2019 aufgespielt worden.Kamera mit mikrofon, Bluetooth system, HDMI und VGA ausgang für TV oder Monitor oder Beamer, SD Karten Einschub, DVD-RW Laufwerk usw.... vorhanden.Alles funktioniert einwandfrei. Das Gerät ist sehr gepflegt und hat auch keine sichtbare kratzer, Pixelfehler oder sonstiges. Netzteil und eine Schutztsche ist auch dabei.Privat Verkauf:„Der Verkauf erfolgt unter Ausschluss jeglicher Sach\\xadmangelhaftung.“Verletzungen von Gesundheit, Körper oder Leben und grob fahr\\xadlässiger und/oder vorsätzlicher Verletzungen meiner Pflichten als Verkäufer bleibt davon unbe\\xadrührt .“'"
     },
     "metadata": {},
     "execution_count": 22
    }
   ],
   "source": [
    "item_description = doc.find('p', {'class':'ad-keydetails--ad-description'}).text\n",
    "item_description"
   ]
  },
  {
   "cell_type": "code",
   "execution_count": 23,
   "metadata": {
    "tags": []
   },
   "outputs": [
    {
     "output_type": "stream",
     "name": "stdout",
     "text": "13\n['https://i.ebayimg.com/00/s/MTYwMFgxMjA4/z/yKgAAOSwHuhfQDun/$_59.JPG', 'https://i.ebayimg.com/00/s/MTA4MFgxNjAw/z/jqkAAOSwwBZfQDuo/$_59.JPG', 'https://i.ebayimg.com/00/s/OTg1WDE2MDA=/z/NxMAAOSwjipfQDuq/$_59.JPG', 'https://i.ebayimg.com/00/s/MTAwN1gxNjAw/z/gr4AAOSwBXRfQDus/$_59.JPG', 'https://i.ebayimg.com/00/s/OTI3WDE2MDA=/z/oLMAAOSw789fQDut/$_59.JPG', 'https://i.ebayimg.com/00/s/NjAzWDE2MDA=/z/TUAAAOSwY-ZfQDuu/$_59.JPG', 'https://i.ebayimg.com/00/s/NTUyWDE2MDA=/z/bz8AAOSwC29fQDuw/$_59.JPG', 'https://i.ebayimg.com/00/s/MTYwMFg4MDA=/z/bwkAAOSwj1hfQDuy/$_59.JPG', 'https://i.ebayimg.com/00/s/ODAwWDE2MDA=/z/A6cAAOSw0MpfQDuz/$_59.JPG', 'https://i.ebayimg.com/00/s/ODAwWDE2MDA=/z/NZEAAOSwAx1fQDu0/$_59.JPG', 'https://i.ebayimg.com/00/s/ODAwWDE2MDA=/z/YHkAAOSwXR1fQDu2/$_59.JPG', 'https://i.ebayimg.com/00/s/ODAwWDE2MDA=/z/C1UAAOSwYKpfQDu7/$_59.JPG', 'https://i.ebayimg.com/00/s/ODAwWDE2MDA=/z/7H8AAOSw155fQDu8/$_59.JPG']\n"
    }
   ],
   "source": [
    "item_images = doc.find('ul', {'id': 'vip-ad-picture-list'}).findAll('li', {'class':'imagegallery--item'})\n",
    "image_nb = len(item_images)\n",
    "image_nb\n",
    "image_urls = [ii.find('img').attrs['src'] for ii in item_images]\n",
    "print(image_nb)\n",
    "print(image_urls)"
   ]
  },
  {
   "cell_type": "markdown",
   "metadata": {},
   "source": [
    "## Download images, resize and save"
   ]
  },
  {
   "cell_type": "code",
   "execution_count": 41,
   "metadata": {},
   "outputs": [
    {
     "output_type": "execute_result",
     "data": {
      "text/plain": "['https://i.ebayimg.com/00/s/MTYwMFgxMjA4/z/yKgAAOSwHuhfQDun/$_59.JPG',\n 'https://i.ebayimg.com/00/s/MTA4MFgxNjAw/z/jqkAAOSwwBZfQDuo/$_59.JPG',\n 'https://i.ebayimg.com/00/s/OTg1WDE2MDA=/z/NxMAAOSwjipfQDuq/$_59.JPG',\n 'https://i.ebayimg.com/00/s/MTAwN1gxNjAw/z/gr4AAOSwBXRfQDus/$_59.JPG',\n 'https://i.ebayimg.com/00/s/OTI3WDE2MDA=/z/oLMAAOSw789fQDut/$_59.JPG',\n 'https://i.ebayimg.com/00/s/NjAzWDE2MDA=/z/TUAAAOSwY-ZfQDuu/$_59.JPG',\n 'https://i.ebayimg.com/00/s/NTUyWDE2MDA=/z/bz8AAOSwC29fQDuw/$_59.JPG',\n 'https://i.ebayimg.com/00/s/MTYwMFg4MDA=/z/bwkAAOSwj1hfQDuy/$_59.JPG',\n 'https://i.ebayimg.com/00/s/ODAwWDE2MDA=/z/A6cAAOSw0MpfQDuz/$_59.JPG',\n 'https://i.ebayimg.com/00/s/ODAwWDE2MDA=/z/NZEAAOSwAx1fQDu0/$_59.JPG',\n 'https://i.ebayimg.com/00/s/ODAwWDE2MDA=/z/YHkAAOSwXR1fQDu2/$_59.JPG',\n 'https://i.ebayimg.com/00/s/ODAwWDE2MDA=/z/C1UAAOSwYKpfQDu7/$_59.JPG',\n 'https://i.ebayimg.com/00/s/ODAwWDE2MDA=/z/7H8AAOSw155fQDu8/$_59.JPG']"
     },
     "metadata": {},
     "execution_count": 41
    }
   ],
   "source": [
    "image_urls"
   ]
  },
  {
   "cell_type": "code",
   "execution_count": 68,
   "metadata": {},
   "outputs": [],
   "source": [
    "k = 0\n",
    "img_url = image_urls[k]\n",
    "response = requests.get(img_url)"
   ]
  },
  {
   "cell_type": "code",
   "execution_count": 71,
   "metadata": {},
   "outputs": [],
   "source": [
    "storage_folder = os.path.join('images', item_id)\n",
    "filename = os.path.join(storage_folder, \"{}_{}.jpg\".format(item_id, k))\n",
    "from pathlib import Path\n",
    "Path(storage_folder).mkdir(parents=True, exist_ok=True)"
   ]
  },
  {
   "cell_type": "code",
   "execution_count": 72,
   "metadata": {},
   "outputs": [],
   "source": [
    "from PIL import Image\n",
    "from io import BytesIO\n",
    "\n",
    "MAX_SIZE = 256, 256\n",
    "img = Image.open(BytesIO(response.content))\n",
    "img.thumbnail(MAX_SIZE, Image.ANTIALIAS)\n",
    "img.save(filename)"
   ]
  },
  {
   "cell_type": "markdown",
   "metadata": {},
   "source": [
    "## Go to seller url"
   ]
  },
  {
   "cell_type": "code",
   "execution_count": 24,
   "metadata": {},
   "outputs": [],
   "source": [
    "seller_url = \"https://m.ebay-kleinanzeigen.de/s-anzeigen/deutschland/c0-l0?userIds={}\".format(seller_id)"
   ]
  },
  {
   "cell_type": "code",
   "execution_count": 25,
   "metadata": {},
   "outputs": [],
   "source": [
    "response = requests.get(seller_url, headers=headers)\n",
    "with open(\"seller.html\", \"wb\") as f: \n",
    "    # Writing data to a file \n",
    "    f.write(response.content)"
   ]
  },
  {
   "cell_type": "code",
   "execution_count": 26,
   "metadata": {},
   "outputs": [],
   "source": [
    "page = response.text\n",
    "doc = soup(page, \"html.parser\")"
   ]
  },
  {
   "cell_type": "code",
   "execution_count": 27,
   "metadata": {},
   "outputs": [
    {
     "output_type": "execute_result",
     "data": {
      "text/plain": "'Kaderci Hayati'"
     },
     "metadata": {},
     "execution_count": 27
    }
   ],
   "source": [
    "seller_name = doc.find('h2',{'class': 'userprofile--title'}).text\n",
    "seller_name"
   ]
  },
  {
   "cell_type": "code",
   "execution_count": 28,
   "metadata": {},
   "outputs": [],
   "source": [
    "seller_address = item_stadt"
   ]
  },
  {
   "cell_type": "code",
   "execution_count": 29,
   "metadata": {},
   "outputs": [
    {
     "output_type": "execute_result",
     "data": {
      "text/plain": "'15.11.2014'"
     },
     "metadata": {},
     "execution_count": 29
    }
   ],
   "source": [
    "def is_digit_or_point(c):\n",
    "    return c.isdigit() or c=='.'\n",
    "\n",
    "seller_active_date = doc.find('span',{'class': 'userprofile--usersince'}).text\n",
    "seller_active_date = ''.join(c for c in seller_active_date if is_digit_or_point(c))\n",
    "seller_active_date"
   ]
  },
  {
   "cell_type": "markdown",
   "metadata": {},
   "source": [
    "## Go to view count"
   ]
  },
  {
   "cell_type": "code",
   "execution_count": 30,
   "metadata": {},
   "outputs": [
    {
     "output_type": "execute_result",
     "data": {
      "text/plain": "'https://m.ebay-kleinanzeigen.de/s-vac/?adId=1490292530&userId=25957413'"
     },
     "metadata": {},
     "execution_count": 30
    }
   ],
   "source": [
    "cookies_dict = {}\n",
    "release_time_dict = {}\n",
    "view_count_url = \"https://m.ebay-kleinanzeigen.de/s-vac/?adId={}&userId={}\".format(item_id, seller_id)\n",
    "view_count_url"
   ]
  },
  {
   "cell_type": "code",
   "execution_count": 39,
   "metadata": {},
   "outputs": [],
   "source": [
    "if item_id in cookies_dict.keys():\n",
    "    r2 = requests.get(view_count_url, headers=headers, cookies=cookies_dict[item_id])\n",
    "else:\n",
    "    r2 = requests.get(view_count_url, headers=headers)\n",
    "    cookies_dict[item_id] = r2.cookies\n"
   ]
  },
  {
   "cell_type": "code",
   "execution_count": 40,
   "metadata": {},
   "outputs": [
    {
     "output_type": "execute_result",
     "data": {
      "text/plain": "74"
     },
     "metadata": {},
     "execution_count": 40
    }
   ],
   "source": [
    "view_count = r2.json()['counter']\n",
    "view_count"
   ]
  },
  {
   "cell_type": "code",
   "execution_count": 33,
   "metadata": {},
   "outputs": [
    {
     "output_type": "execute_result",
     "data": {
      "text/plain": "1"
     },
     "metadata": {},
     "execution_count": 33
    }
   ],
   "source": [
    "if item_id in release_time_dict.keys():\n",
    "    release_time = release_time_dict[item_id]\n",
    "else:\n",
    "    # TODO: query release_time of item_id for release_time, add to release_time_dict\n",
    "    pass\n",
    "view_count_at = datetime.now() - release_time\n",
    "view_count_at = view_count_at.seconds // 60 # in minute from published\n",
    "view_count_at"
   ]
  },
  {
   "cell_type": "code",
   "execution_count": 34,
   "metadata": {},
   "outputs": [],
   "source": [
    "COUNT_MAX_DURATION = 43200 # in minutes, equals 30 days.\n",
    "if view_count_at > COUNT_MAX_DURATION:\n",
    "    # TODO: remove item_id from cookies_dict and release_time_dict and check list\n",
    "    pass"
   ]
  },
  {
   "cell_type": "code",
   "execution_count": null,
   "metadata": {},
   "outputs": [],
   "source": []
  },
  {
   "cell_type": "code",
   "execution_count": null,
   "metadata": {},
   "outputs": [],
   "source": []
  },
  {
   "cell_type": "raw",
   "metadata": {},
   "source": []
  }
 ],
 "metadata": {
  "kernelspec": {
   "display_name": "Python 3.7.7 64-bit ('alpha': conda)",
   "language": "python",
   "name": "python_defaultSpec_1598277465177"
  },
  "language_info": {
   "codemirror_mode": {
    "name": "ipython",
    "version": 3
   },
   "file_extension": ".py",
   "mimetype": "text/x-python",
   "name": "python",
   "nbconvert_exporter": "python",
   "pygments_lexer": "ipython3",
   "version": "3.7.7-final"
  }
 },
 "nbformat": 4,
 "nbformat_minor": 2
}