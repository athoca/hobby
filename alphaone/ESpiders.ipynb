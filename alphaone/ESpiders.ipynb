{
 "cells": [
  {
   "cell_type": "markdown",
   "metadata": {},
   "source": [
    "# For EBAY spider"
   ]
  },
  {
   "cell_type": "code",
   "execution_count": 1,
   "metadata": {},
   "outputs": [],
   "source": [
    "import logging\n",
    "logging.basicConfig(level=logging.DEBUG)\n",
    "\n",
    "import requests\n",
    "from bs4 import BeautifulSoup as soup\n",
    "import os.path\n",
    "import json\n",
    "from datetime import datetime\n",
    "from datetime import timedelta\n",
    "import time\n",
    "import os\n",
    "import re\n",
    "import imgkit\n"
   ]
  },
  {
   "cell_type": "code",
   "execution_count": 2,
   "metadata": {},
   "outputs": [],
   "source": [
    "from PIL import Image\n",
    "from io import BytesIO\n",
    "def _download_image(img_url, dest):\n",
    "    response = requests.get(img_url)\n",
    "    MAX_SIZE = 256, 256\n",
    "    img = Image.open(BytesIO(response.content))\n",
    "    img = img.convert(\"RGB\") # to solve OSError: cannot write mode RGBA as JPEG\n",
    "    img.thumbnail(MAX_SIZE, Image.ANTIALIAS)\n",
    "    img.save(dest)"
   ]
  },
  {
   "cell_type": "code",
   "execution_count": 3,
   "metadata": {},
   "outputs": [],
   "source": [
    "headers = {\n",
    "        'User-Agent': 'Mozilla/5.0 (iPhone; CPU iPhone OS 13_2_3 like Mac OS X) AppleWebKit/605.1.15 (KHTML, like Gecko) Version/13.0.3 Mobile/15E148 Safari/604.1',\n",
    "        'Connection' : 'keep-alive',\n",
    "        'Cache-Control' : 'max-age=0',\n",
    "        'Upgrade-Insecure-Requests' : '1',\n",
    "        'Accept' : 'text/html,application/xhtml+xml,application/xml;q=0.9,image/webp,image/apng,*/*;q=0.8,application/signed-exchange;v=b3;q=0.9',\n",
    "        'Accept-Encoding' : 'gzip, deflate, br',\n",
    "        'Accept-Language' : 'en-US,en;q=0.9,vi;q=0.8',\n",
    "    }"
   ]
  },
  {
   "cell_type": "markdown",
   "metadata": {},
   "source": [
    "## For search query"
   ]
  },
  {
   "cell_type": "code",
   "execution_count": 4,
   "metadata": {},
   "outputs": [],
   "source": [
    "# ending soon and page =200\n",
    "search_url = \"https://www.ebay.de/sch/i.html?_from=R40&_nkw=apple&LH_TitleDesc=1&LH_Auction=1&_sop=1&_ipg=200\"\n",
    "\n",
    "# # Best results and page = 200\n",
    "# search_url = \"https://www.ebay.de/sch/i.html?_from=R40&_nkw=apple&LH_TitleDesc=1&LH_Auction=1&_sop=12&_ipg=200\""
   ]
  },
  {
   "cell_type": "code",
   "execution_count": 5,
   "metadata": {
    "tags": []
   },
   "outputs": [
    {
     "output_type": "stream",
     "name": "stderr",
     "text": "DEBUG:urllib3.connectionpool:Starting new HTTPS connection (1): www.ebay.de:443\nDEBUG:urllib3.connectionpool:https://www.ebay.de:443 \"GET /sch/i.html?_from=R40&_nkw=apple&LH_TitleDesc=1&LH_Auction=1&_sop=1&_ipg=200 HTTP/1.1\" 200 None\n"
    }
   ],
   "source": [
    "response = requests.get(search_url, headers=headers)\n",
    "with open(\"myfile.html\", \"wb\") as f: \n",
    "    # Writing data to a file \n",
    "    f.write(response.content) "
   ]
  },
  {
   "cell_type": "code",
   "execution_count": 6,
   "metadata": {
    "tags": []
   },
   "outputs": [],
   "source": [
    "# CRAWL_FREQUENCE_IN_SECONDS = 3\n",
    "# count = 0\n",
    "# crawl_next_call = time.time()\n",
    "# while True:\n",
    "#     status_code = requests.get(search_url, headers=headers)\n",
    "#     count += 1\n",
    "#     crawl_next_call = crawl_next_call + CRAWL_FREQUENCE_IN_SECONDS\n",
    "#     sleep_duration = max(crawl_next_call - time.time(), 0.001)\n",
    "#     logging.debug(\"Turn {}.\".format(count))\n",
    "#     logging.debug(\"Time to next crawling turn = {}.\".format(crawl_next_call - time.time()))\n",
    "#     logging.info(\"*********************************************************************************************\")\n",
    "#     time.sleep(sleep_duration)"
   ]
  },
  {
   "cell_type": "code",
   "execution_count": 7,
   "metadata": {},
   "outputs": [
    {
     "output_type": "execute_result",
     "data": {
      "text/plain": "201"
     },
     "metadata": {},
     "execution_count": 7
    }
   ],
   "source": [
    "page = response.text\n",
    "doc = soup(page, \"html.parser\")\n",
    "items = [element for element in doc.find_all('li', {\"class\": \"s-item\"})]\n",
    "len(items)"
   ]
  },
  {
   "cell_type": "code",
   "execution_count": 34,
   "metadata": {
    "tags": []
   },
   "outputs": [
    {
     "output_type": "stream",
     "name": "stdout",
     "text": "https://www.ebay.de/itm/Apple-iPhone-7-32GB-Gold-Ohne-Simlock-A1778-GSM/184415707172?epid=225203755&hash=item2af0086024%3Ag%3AW7kAAOSwdO9fQuOb&LH_Auction=1\nhttps://i.ebayimg.com/thumbs/images/g/W7kAAOSwdO9fQuOb/s-l140.webp\n184415707172\nApple iPhone 7 - 32GB - Gold (Ohne Simlock) A1778 (GSM)\nGebraucht\nEUR 142,00\n+EUR 4,99 Versand\n20 Gebote\n29Sek\nNone\n********************************************************************************\nhttps://www.ebay.de/itm/Apple-ipad-air-Schutzfolie-Dispo-crystalclear-inkl-Rakel-und-Anleitung-1-Stuck/293703407184?hash=item4462165650%3Ag%3Aut4AAOSwxxJenDbk&LH_Auction=1\nhttps://i.ebayimg.com/thumbs/images/g/ut4AAOSwxxJenDbk/s-l140.webp\n293703407184\nApple ipad air Schutzfolie Dispo crystalclear inkl. Rakel und Anleitung -1 Stück\nBrandneu\nEUR 1,00\n+EUR 4,99 Versand\n0 Gebote\n1 Min\nSofort-Kaufen\n********************************************************************************\nhttps://www.ebay.de/itm/Apple-iPhone-11-256GB-Schwarz-black-unlocked-A2221-Smartphone-NEU-OVP/303667177102?epid=17034267268&hash=item46b3f9668e%3Ag%3AR6cAAOSwcVZfSCtC&LH_Auction=1\nhttps://i.ebayimg.com/thumbs/images/g/R6cAAOSwcVZfSCtC/s-l140.webp\n303667177102\nApple iPhone 11 - 256GB - Schwarz black unlocked A2221 Smartphone NEU & OVP\nBrandneu\nEUR 720,00\n+EUR 5,00 Versand\n42 Gebote\n4 Min\nNone\n********************************************************************************\nhttps://www.ebay.de/itm/iPhone-8-spacegrey-64-GB/114372479883?hash=item1aa1218b8b%3Ag%3A41kAAOSwh8xfQuax&LH_Auction=1\nhttps://i.ebayimg.com/thumbs/images/g/41kAAOSwh8xfQuax/s-l140.webp\n114372479883\niPhone 8 spacegrey - 64 GB\nGebraucht\nEUR 203,00\n+EUR 4,99 Versand\n14 Gebote\n6 Min\nNone\n********************************************************************************\nhttps://www.ebay.de/itm/Apple-Iphone-X-64GB-Ohne-Simlock-TOP-mit-OVP/193634790400?hash=item2d15886c00%3Ag%3A38gAAOSwkgZfHsBs&LH_Auction=1\nhttps://i.ebayimg.com/thumbs/images/g/38gAAOSwkgZfHsBs/s-l140.webp\n193634790400\nApple Iphone X 64GB (Ohne Simlock) TOP mit OVP \nGebraucht\nEUR 126,00\n+EUR 4,99 Versand\n17 Gebote\n6 Min\nNone\n********************************************************************************\nhttps://www.ebay.de/itm/Iphone-5-Backcover-Schwarz-A1429/193634790629?hash=item2d15886ce5%3Ag%3A%7ERQAAOSwL0xe36m5&LH_Auction=1\nhttps://i.ebayimg.com/thumbs/images/g/~RQAAOSwL0xe36m5/s-l140.webp\n193634790629\nIphone 5 Backcover Schwarz A1429\nNur Ersatzteile\nEUR 4,00\n+EUR 1,55 Versand\n0 Gebote\n7 Min\nNone\n********************************************************************************\nhttps://www.ebay.de/itm/Apple-Iphone-5-Schwarz-Backcover/193634790734?hash=item2d15886d4e%3Ag%3AXegAAOSwLRde36ua&LH_Auction=1\nhttps://i.ebayimg.com/thumbs/images/g/XegAAOSwLRde36ua/s-l140.webp\n193634790734\nApple Iphone 5 Schwarz Backcover\nGebraucht\nEUR 4,00\n+EUR 1,55 Versand\n0 Gebote\n7 Min\nNone\n********************************************************************************\nhttps://www.ebay.de/itm/Apple-iPhone-6-16GB-Space-Grau-Ohne-Simlock-A1586-CDMA-GSM/124309860146?epid=203705724&hash=item1cf171ef32%3Ag%3A7QcAAOSwSQFfI0Mb&LH_Auction=1\nhttps://i.ebayimg.com/thumbs/images/g/7QcAAOSwSQFfI0Mb/s-l140.webp\n124309860146\nApple iPhone 6 - 16GB - Space Grau (Ohne Simlock) A1586 (CDMA + GSM)\nGebraucht\nEUR 80,00\n+EUR 4,99 Versand\n0 Gebote\n7 Min\nNone\n********************************************************************************\nhttps://www.ebay.de/itm/Apple-Iphone-5-Backcover/193634790890?hash=item2d15886dea%3Ag%3AcC0AAOSwEXJe362A&LH_Auction=1\nhttps://i.ebayimg.com/thumbs/images/g/cC0AAOSwEXJe362A/s-l140.webp\n193634790890\nApple Iphone 5 Backcover\nGebraucht\nEUR 4,00\n+EUR 1,55 Versand\n0 Gebote\n7 Min\nNone\n********************************************************************************\nhttps://www.ebay.de/itm/Apple-iPhone-5-16GB-Schwarz-Graphit-A1429/193634791598?hash=item2d158870ae%3Ag%3AGy4AAOSw27Ze9fzD&LH_Auction=1\nhttps://i.ebayimg.com/thumbs/images/g/Gy4AAOSw27Ze9fzD/s-l140.webp\n193634791598\nApple iPhone 5 - 16GB - Schwarz & Graphit A1429\nNur Ersatzteile\nEUR 2,00\n+EUR 1,55 Versand\n2 Gebote\n8 Min\nNone\n********************************************************************************\nhttps://www.ebay.de/itm/Apple-iPhone-SE-16GB-Silber-A1723-CDMA-GSM-gesperrt/184415716663?epid=243780200&hash=item2af0088537%3Ag%3AanQAAOSwVexfQucX&LH_Auction=1\nhttps://i.ebayimg.com/thumbs/images/g/anQAAOSwVexfQucX/s-l140.webp\n184415716663\nApple iPhone SE - 16GB - Silber A1723 (CDMA + GSM) gesperrt\nGebraucht\nEUR 32,00\n+EUR 5,99 Versand\n0 Gebote\n9 Min\nNone\n********************************************************************************\nhttps://www.ebay.de/itm/Apple-MacBook-Pro-13-Mid-2010-2-4-GHz-120GB-SSD-4GB-RAM-TOP/193634791903?hash=item2d158871df%3Ag%3AzlEAAOSwq1xfMbGy&LH_Auction=1\nhttps://i.ebayimg.com/thumbs/images/g/zlEAAOSwq1xfMbGy/s-l140.webp\n193634791903\nApple MacBook Pro 13\" Mid 2010 2,4 GHz/120GB SSD/4GB RAM TOP!\nGebraucht\nEUR 71,00\n+EUR 5,99 Versand\n29 Gebote\n9 Min\nNone\n********************************************************************************\nhttps://www.ebay.de/itm/Apple-iPhone-5-16GB-Schwarz-Graphit-A1429-inkl-OVP/193634792234?hash=item2d1588732a%3Ag%3AZawAAOSwOahe9ggK&LH_Auction=1\nhttps://i.ebayimg.com/thumbs/images/g/ZawAAOSwOahe9ggK/s-l140.webp\n193634792234\nApple iPhone 5 - 16GB - Schwarz & Graphit A1429 inkl. OVP!\nNur Ersatzteile\nEUR 1,00\n+EUR 4,99 Versand\n1 Gebot\n9 Min\nNone\n********************************************************************************\nhttps://www.ebay.de/itm/Apple-iPhone-6-16GB-Space-Grau-A1586-CDMA-GSM/193634792514?epid=203705724&hash=item2d15887442%3Ag%3Ah50AAOSw-bBfAhF5&LH_Auction=1\nhttps://i.ebayimg.com/thumbs/images/g/h50AAOSw-bBfAhF5/s-l140.webp\n193634792514\nApple iPhone 6 - 16GB - Space Grau  A1586 (CDMA + GSM)\nNur Ersatzteile\nEUR 10,50\n+EUR 4,99 Versand\n6 Gebote\n10 Min\nNone\n********************************************************************************\nhttps://www.ebay.de/itm/Apple-iPhone-7-256GB-Rosegold-A1778-GSM/193634792742?epid=225210049&hash=item2d15887526%3Ag%3AZK8AAOSwLg1e47eU&LH_Auction=1\nhttps://i.ebayimg.com/thumbs/images/g/ZK8AAOSwLg1e47eU/s-l140.webp\n193634792742\nApple iPhone 7 - 256GB - Roségold A1778 (GSM) !\nNur Ersatzteile\nEUR 40,49\n+EUR 1,55 Versand\n12 Gebote\n10 Min\nNone\n********************************************************************************\nhttps://www.ebay.de/itm/Apple-iPhone-5s-16GB-Space-Grau-A1457-GSM/193634792944?epid=168512999&hash=item2d158875f0%3Ag%3AzIYAAOSw7z1e93kl&LH_Auction=1\nhttps://i.ebayimg.com/thumbs/images/g/zIYAAOSw7z1e93kl/s-l140.webp\n193634792944\nApple iPhone 5s - 16GB - Space Grau A1457 (GSM)\nNur Ersatzteile\nEUR 5,00\n+EUR 1,55 Versand\n0 Gebote\n11 Min\nNone\n********************************************************************************\nhttps://www.ebay.de/itm/Apple-iPhone-5-32GB-Schwarz-Graphit-Ohne-Simlock-A1429-TOP/193634793189?hash=item2d158876e5%3Ag%3A9T4AAOSwKHNe9f-B&LH_Auction=1\nhttps://i.ebayimg.com/thumbs/images/g/9T4AAOSwKHNe9f-B/s-l140.webp\n193634793189\nApple iPhone 5 - 32GB - Schwarz & Graphit (Ohne Simlock) A1429 TOP!\nGebraucht\nEUR 10,67\n+EUR 1,55 Versand\n9 Gebote\n11 Min\nNone\n********************************************************************************\nhttps://www.ebay.de/itm/Apple-iPad-mini-3-Cellular-Silber-64GB-WiFi-LTE-SIM-Lock-frei-und-entsperrt/224133431650?hash=item342f64c162%3Ag%3AJ6IAAOSwpxRfRYvv&LH_Auction=1\nhttps://i.ebayimg.com/thumbs/images/g/J6IAAOSwpxRfRYvv/s-l140.webp\n224133431650\nApple iPad mini 3 Cellular Silber 64GB WiFi + LTE (SIM-Lock frei und entsperrt)\nNeu (Sonstige)\nEUR 267,50\n+EUR 7,49 Versand\n0 Gebote\n12 Min\nNone\n********************************************************************************\nhttps://www.ebay.de/itm/CorelDRAW-Graphics-Suite-11-Vollversion-fur-Windows-und-Macintosh/154056887554?hash=item23de818d02%3Ag%3AVXAAAOSwDXldl6Vg&LH_Auction=1\nhttps://i.ebayimg.com/thumbs/images/g/VXAAAOSwDXldl6Vg/s-l140.webp\n154056887554\nCorelDRAW Graphics Suite 11 Vollversion  für Windows und Macintosh \nGebraucht\nEUR 120,00\n+EUR 5,95 Versand\n0 Gebote\n13 Min\nNone\n********************************************************************************\nhttps://www.ebay.de/itm/Apple-Watch-Series-3-42mm-Edelstahlgehause-defekt-mit-OVP/124309866772?epid=239054780&hash=item1cf1720914%3Ag%3AY8IAAOSwt2lfQuUU&LH_Auction=1\nhttps://i.ebayimg.com/thumbs/images/g/Y8IAAOSwt2lfQuUU/s-l140.webp\n124309866772\nApple Watch Series 3 42mm Edelstahlgehäuse defekt mit OVP\nNur Ersatzteile\nEUR 53,00\n+EUR 5,95 Versand\n21 Gebote\n15 Min\nNone\n********************************************************************************\nhttps://www.ebay.de/itm/Original-Apple-iPhone-USB-Power-Adapter-A1385-US-USA-STECKER-NETZTEIL-NEU/254697751251?hash=item3b4d2b42d3%3Ag%3AZP8AAOSw7HpewUe6&LH_Auction=1\nhttps://i.ebayimg.com/thumbs/images/g/ZP8AAOSw7HpewUe6/s-l140.webp\n254697751251\nOriginal Apple iPhone USB Power Adapter A1385 US USA STECKER NETZTEIL   NEU\nBrandneu\nEUR 3,99\n+EUR 2,70 Versand\n1 Gebot\n15 Min\nNone\n********************************************************************************\nhttps://www.ebay.de/itm/Original-Apple-iPhone-5s-64GB-Gold-Verpackung-A1457-OVP-Karton-Leerkarton/154056889872?hash=item23de819610%3Ag%3Aq%7E4AAOSwyANfOIlg&LH_Auction=1\nhttps://i.ebayimg.com/thumbs/images/g/q~4AAOSwyANfOIlg/s-l140.webp\n154056889872\nOriginal Apple iPhone 5s 64GB Gold Verpackung A1457 OVP Karton Leerkarton\nGebraucht\nEUR 3,99\n+EUR 4,99 Versand\n0 Gebote\n17 Min\nNone\n********************************************************************************\nhttps://www.ebay.de/itm/Blu-ray-2-Tage-New-York-mit-Julie-Delpy-Chris-Rock-Albert-Delpy-Alex-Nahon/154065014428?hash=item23defd8e9c%3Ag%3A71gAAOSwn7JYDnGm&LH_Auction=1\nhttps://i.ebayimg.com/thumbs/images/g/71gAAOSwn7JYDnGm/s-l140.webp\n154065014428\nBlu-ray \"2 Tage New York\" mit Julie Delpy, Chris Rock, Albert Delpy, Alex Nahon\nGebraucht\nEUR 3,99\n+EUR 2,00 Versand\n0 Gebote\n28 Min\nNone\n********************************************************************************\nhttps://www.ebay.de/itm/Jack-Daniel-s-Tennessee-Apple-Longdrink-Glaser-NEU-2er-Set/164353301148?hash=item2644385a9c%3Ag%3ABFkAAOSwjFVfRY%7E6&LH_Auction=1\nhttps://i.ebayimg.com/thumbs/images/g/BFkAAOSwjFVfRY~6/s-l140.webp\n164353301148\nJack Daniel‘s Tennessee Apple Longdrink Gläser, NEU, 2er Set\nBrandneu\nEUR 18,00\n+EUR 4,50 Versand\n0 Gebote\n31 Min\nNone\n********************************************************************************\nhttps://www.ebay.de/itm/Apple-iPhone-SE-2-Gen-PRODUCT-RED-128GB-Ohne-Simlock-A2296-GSM/353186032111?epid=3037860126&hash=item523b8729ef%3Ag%3ANk0AAOSwXjRfSkTk&LH_Auction=1\nhttps://i.ebayimg.com/thumbs/images/g/Nk0AAOSwXjRfSkTk/s-l140.webp\n353186032111\nApple iPhone SE 2. Gen (PRODUCT)RED - 128GB (Ohne Simlock) A2296 (GSM)\nBrandneu\nEUR 400,00\nNone\n0 Gebote\n33 Min\nNone\n********************************************************************************\nhttps://www.ebay.de/itm/ipad-2-16-GB-gebraucht-neuwertig/283988377624?hash=item421f06c018%3Ag%3A5TgAAOSw%7EdFe5NcY&LH_Auction=1\nhttps://i.ebayimg.com/thumbs/images/g/5TgAAOSw~dFe5NcY/s-l140.webp\n283988377624\nipad 2 - 16 GB - gebraucht neuwertig\nGebraucht\nEUR 50,00\n+EUR 4,50 Versand\n0 Gebote\n35 Min\nNone\n********************************************************************************\nhttps://www.ebay.de/itm/Apple-iPhone-7-mit-Fortnite-128GB-Schwarz-Ohne-Simlock/392918090870?epid=225208914&hash=item5b7bbe4476%3Ag%3Af%7E0AAOSwNupfQbEs&LH_Auction=1\nhttps://i.ebayimg.com/thumbs/images/g/f~0AAOSwNupfQbEs/s-l140.webp\n392918090870\nApple iPhone 7 mit Fortnite - 128GB - Schwarz (Ohne Simlock)\nGebraucht\nEUR 299,00\n+EUR 4,99 Versand\n0 Gebote\n46 Min\nSofort-Kaufen\n********************************************************************************\nhttps://www.ebay.de/itm/Apple-Kabelloses-Ladecase-fur-AirPods/193639334558?epid=16030710418&hash=item2d15cdc29e%3Ag%3Av%7EMAAOSwS-xfQ61o&LH_Auction=1\nhttps://i.ebayimg.com/thumbs/images/g/v~MAAOSwS-xfQ61o/s-l140.webp\n193639334558\nApple Kabelloses Ladecase für AirPods\nGebraucht\nEUR 38,50\n+EUR 4,99 Versand\n16 Gebote\n53 Min\nNone\n********************************************************************************\nhttps://www.ebay.de/itm/APPLE-IPhone-Ipone-I-Phone-Handy-MINI-Display-DVI-Adapter-Gunstig-0rig-MB570-Z-B/143696570683?epid=21009498187&hash=item2174fba93b%3Ag%3AVgIAAOSwi5VdvwxB&LH_Auction=1\nhttps://i.ebayimg.com/thumbs/images/g/VgIAAOSwi5VdvwxB/s-l140.webp\n143696570683\nAPPLE IPhone Ipone I-Phone Handy MINI Display DVI Adapter Günstig 0rig MB570 Z/B\nBrandneu\nEUR 15,00\n+EUR 2,00 Versand\n0 Gebote\n53 Min\nNone\n********************************************************************************\nhttps://www.ebay.de/itm/Puro-Apple-iphone-5-car-Holder-Navihalter-Auto-halter-halterung/133501168809?hash=item1f154a2ca9%3Ag%3AJi4AAOSwNuxfQG6x&LH_Auction=1\nhttps://i.ebayimg.com/thumbs/images/g/Ji4AAOSwNuxfQG6x/s-l140.webp\n133501168809\nPuro Apple iphone 5 car Holder Navihalter Auto halter halterung \nBrandneu\nEUR 2,00\n+EUR 3,79 Versand\n0 Gebote\n54 Min\nNone\n********************************************************************************\nhttps://www.ebay.de/itm/Case-fur-Apple-iPhone-X-Xs-Peony-Pink-Blitzversand/133498703489?hash=item1f15248e81%3Ag%3AsnYAAOSwaTherfOn&LH_Auction=1\nhttps://i.ebayimg.com/thumbs/images/g/snYAAOSwaTherfOn/s-l140.webp\n133498703489\nCase für Apple iPhone X/Xs Peony Pink Blitzversand!\nBrandneu\nEUR 15,00\n+EUR 2,50 Versand\n0 Gebote\n1Std 10 Min\nNone\n********************************************************************************\nhttps://www.ebay.de/itm/Top-moderne-und-angesagte-iPhone-X-XS-Handy-Hulle/193641645123?hash=item2d15f10443%3Ag%3A2%7EYAAOSwlztfSt99&LH_Auction=1\nhttps://i.ebayimg.com/thumbs/images/g/2~YAAOSwlztfSt99/s-l140.webp\n193641645123\nTop moderne und angesagte iPhone X / XS Handy Hülle\nBrandneu\nEUR 10,00\nKostenloser Versand\n0 Gebote\n1Std 17 Min\nSofort-Kaufen\n********************************************************************************\nhttps://www.ebay.de/itm/My-little-Pony-Apple-Jack-goldig-Blind-Bag/184415767496?hash=item2af0094bc8%3Ag%3A2GgAAOSwbNte77Iq&LH_Auction=1\nhttps://i.ebayimg.com/thumbs/images/g/2GgAAOSwbNte77Iq/s-l140.webp\n184415767496\nMy little Pony - Apple Jack goldig ✨*** Blind Bag\nGebraucht\nEUR 2,90\n+EUR 2,50 Versand\n0 Gebote\n1Std 18 Min\nSofort-Kaufen\n********************************************************************************\nhttps://www.ebay.de/itm/Apple-Siri-Ich-EINE-MODERE-LIEBESGESCHICHTE/333698151315?hash=item4db1f5b393%3Ag%3AWtgAAOSwDtFc7U8H&LH_Auction=1\nhttps://i.ebayimg.com/thumbs/images/g/WtgAAOSwDtFc7U8H/s-l140.webp\n333698151315\nApple Siri & Ich, EINE MODERE LIEBESGESCHICHTE\nGebraucht\nEUR 1,00\n+EUR 1,55 Versand\n0 Gebote\n1Std 18 Min\nNone\n********************************************************************************\nhttps://www.ebay.de/itm/Apple-ipad-1-generation/203086351591?hash=item2f48e3cce7%3Ag%3AqvgAAOSw0F9fQvhU&LH_Auction=1\nhttps://i.ebayimg.com/thumbs/images/g/qvgAAOSw0F9fQvhU/s-l140.webp\n203086351591\nApple ipad 1. generation \nGebraucht\nEUR 18,04\n+EUR 4,99 Versand\n6 Gebote\n1Std 19 Min\nNone\n********************************************************************************\nhttps://www.ebay.de/itm/Schutzhulle-beide-Seiten-fur-Apple-iPad-Mini-123-Tablet-Cover-Smart-Case-schwarz/333698154396?hash=item4db1f5bf9c%3Ag%3A2WsAAOSw1gVew8C1&LH_Auction=1\nhttps://i.ebayimg.com/thumbs/images/g/2WsAAOSw1gVew8C1/s-l140.webp\n333698154396\nSchutzhülle beide Seiten für Apple iPad Mini 123 Tablet Cover Smart Case schwarz\nBrandneu\nEUR 8,99\n+EUR 1,90 Versand\n0 Gebote\n1Std 25 Min\nNone\n********************************************************************************\nhttps://www.ebay.de/itm/Apple-iPhone-8-64GB-Space-Grau-A1905-GSM/383685425712?epid=0&hash=item59556efa30%3Ag%3AzHkAAOSwoMhfPwZU&LH_Auction=1\nhttps://i.ebayimg.com/thumbs/images/g/zHkAAOSwoMhfPwZU/s-l140.webp\n383685425712\nApple iPhone 8 - 64GB - Space Grau A1905 (GSM)\nGebraucht\nEUR 350,00\nNone\n0 Gebote\n1Std 29 Min\nNone\n********************************************************************************\nhttps://www.ebay.de/itm/Case-fur-Apple-iPhone-X-Xs-Farbe-Flieder-Blitzversand/133498719948?hash=item1f1524cecc%3Ag%3A340AAOSwUAVerfRo&LH_Auction=1\nhttps://i.ebayimg.com/thumbs/images/g/340AAOSwUAVerfRo/s-l140.webp\n133498719948\nCase für Apple iPhone X/Xs Farbe Flieder Blitzversand!\nBrandneu\nEUR 15,00\n+EUR 2,50 Versand\n0 Gebote\n1Std 37 Min\nNone\n********************************************************************************\nhttps://www.ebay.de/itm/Case-fur-Apple-iPhone-X-Xs-Cape-Cod-Blau-Blitzversand/133498720270?hash=item1f1524d00e%3Ag%3AgfMAAOSwkBterfwg&LH_Auction=1\nhttps://i.ebayimg.com/thumbs/images/g/gfMAAOSwkBterfwg/s-l140.webp\n133498720270\nCase für Apple iPhone X/Xs Cape Cod Blau Blitzversand!\nBrandneu\nEUR 15,00\n+EUR 2,50 Versand\n0 Gebote\n1Std 38 Min\nNone\n********************************************************************************\nhttps://www.ebay.de/itm/APPLE-POWERBOOK-POWER-PC-G4-ALU-MAINBOARD-HAUPTPLATINE-USB-LAN-FIREWIRE-SOUND/164350355203?hash=item26440b6703%3Ag%3AUzAAAOSwXwdfMIfz&LH_Auction=1\nhttps://i.ebayimg.com/thumbs/images/g/UzAAAOSwXwdfMIfz/s-l140.webp\n164350355203\n★ APPLE POWERBOOK POWER PC G4 ALU MAINBOARD HAUPTPLATINE USB LAN FIREWIRE SOUND★\nNur Ersatzteile\nEUR 1,00\n+EUR 4,99 Versand\n0 Gebote\n1Std 41 Min\nNone\n********************************************************************************\nhttps://www.ebay.de/itm/Apple-Watch-7000-Alu-Silber-Sportarmband-PINK-weitere-OVP/254701956827?hash=item3b4d6b6edb%3Ag%3ApGwAAOSwsVJfSES5&LH_Auction=1\nhttps://i.ebayimg.com/thumbs/images/g/pGwAAOSwsVJfSES5/s-l140.webp\n254701956827\nApple Watch 7000 Alu Silber Sportarmband PINK + weitere + OVP\nGebraucht\nEUR 135,00\n+EUR 6,00 Versand\n0 Gebote\n1Std 51 Min\nNone\n********************************************************************************\nhttps://www.ebay.de/itm/Defekt-Apple-iPhone-XS-64GB-Gold-Ohne-Simlock/392920127185?epid=9023696728&hash=item5b7bdd56d1%3Ag%3AU9wAAOSwNC1fOHI7&LH_Auction=1\nhttps://i.ebayimg.com/thumbs/images/g/U9wAAOSwNC1fOHI7/s-l140.webp\n392920127185\nDefekt Apple iPhone XS - 64GB - Gold (Ohne Simlock)\nNur Ersatzteile\nEUR 399,00\n+EUR 4,99 Versand\n0 Gebote\n2Std 12 Min\nNone\n********************************************************************************\nhttps://www.ebay.de/itm/Apple-iPad-mini-1-Gen-16GB-WLAN-Cellular-20-07-cm-7-9-Zoll-Weis/264841980251?epid=117352987&hash=item3da9cfe95b%3Ag%3AmdoAAOSwiXZfLQyd&LH_Auction=1\nhttps://i.ebayimg.com/thumbs/images/g/mdoAAOSwiXZfLQyd/s-l140.webp\n264841980251\nApple iPad mini 1. Gen. 16GB, WLAN + Cellular, 20,07 cm, (7,9 Zoll) - Weiß\nGebraucht\nEUR 29,50\n+EUR 4,99 Versand\n7 Gebote\n2Std 20 Min\nNone\n********************************************************************************\nhttps://www.ebay.de/itm/Apple-Mac-Mini-2-1-A1176-Core2Duo-1-83-GHz-2-GB-SDRAM-80-GB-HDD-OK-bis-auf-DVD/203086392131?hash=item2f48e46b43%3Ag%3AdGAAAOSwrH1fGhjC&LH_Auction=1\nhttps://i.ebayimg.com/thumbs/images/g/dGAAAOSwrH1fGhjC/s-l140.webp\n203086392131\nApple Mac Mini 2.1 A1176 Core2Duo 1,83 GHz 2 GB SDRAM 80 GB HDD OK bis auf DVD\nGebraucht\nEUR 69,90\n+EUR 9,50 Versand\n0 Gebote\n2Std 25 Min\nSofort-Kaufen\n********************************************************************************\nhttps://www.ebay.de/itm/iPhone-X-Display-Defekt-Original/164350388708?hash=item26440be9e4%3Ag%3AWrwAAOSwzTpfFOOR&LH_Auction=1\nhttps://i.ebayimg.com/thumbs/images/g/WrwAAOSwzTpfFOOR/s-l140.webp\n164350388708\niPhone X Display Defekt Original\nNur Ersatzteile\nEUR 10,00\n+EUR 4,99 Versand\n0 Gebote\n2Std 27 Min\nNone\n********************************************************************************\nhttps://www.ebay.de/itm/Apple-Smart-Battery-Case-fur-iPhone-XS/392920145027?epid=19036898859&hash=item5b7bdd9c83%3Ag%3AYmEAAOSwzAtfOHoe&LH_Auction=1\nhttps://i.ebayimg.com/thumbs/images/g/YmEAAOSwzAtfOHoe/s-l140.webp\n392920145027\nApple Smart Battery Case für iPhone XS\nGebraucht\nEUR 54,00\n+EUR 4,99 Versand\n0 Gebote\n2Std 30 Min\nNone\n********************************************************************************\nhttps://www.ebay.de/itm/CPU-Prozessor-Lufter-Kuhler-Kuhlkorper-FAN-Apple-PowerBook-G4-A1046/164350392140?hash=item26440bf74c%3Ag%3AANkAAOSwODZfMJS5&LH_Auction=1\nhttps://i.ebayimg.com/thumbs/images/g/ANkAAOSwODZfMJS5/s-l140.webp\n164350392140\nCPU Prozessor Lüfter Kühler Kühlkörper FAN Apple PowerBook G4 A1046\nGebraucht\nEUR 4,99\n+EUR 4,99 Versand\n0 Gebote\n2Std 34 Min\nNone\n********************************************************************************\nhttps://www.ebay.de/itm/Apple-iPhone-6s-32GB-Silber-Ohne-Simlock-A1688-CDMA-GSM/254697851212?epid=228517242&hash=item3b4d2cc94c%3Ag%3AkIsAAOSwT-hfB7Ub&LH_Auction=1\nhttps://i.ebayimg.com/thumbs/images/g/kIsAAOSwT-hfB7Ub/s-l140.webp\n254697851212\nApple iPhone 6s - 32GB - Silber (Ohne Simlock) A1688 (CDMA + GSM)\nGebraucht\nEUR 150,00\n+EUR 4,99 Versand\n0 Gebote\n2Std 36 Min\nNone\n********************************************************************************\nhttps://www.ebay.de/itm/Apple-MacBook-Air-13-3-512GB-SSD-Intel-Core-i5-1-1GHz-8GB-RAM-Notebook/303665297513?epid=4038023402&hash=item46b3dcb869%3Ag%3AaJUAAOSw4VJfRazN&LH_Auction=1\nhttps://i.ebayimg.com/thumbs/images/g/aJUAAOSw4VJfRazN/s-l140.webp\n303665297513\nApple MacBook Air 13.3\" 512GB SSD Intel Core i5 1.1GHz 8GB RAM Notebook -...\nNeu (Sonstige)\nEUR 954,00\n+EUR 6,50 Versand\n10 Gebote\n2Std 43 Min\nNone\n********************************************************************************\nhttps://www.ebay.de/itm/Powerbook-G4-Lautsprecher-2-Stuck-aus-A1138-und-A1095/164350405982?hash=item26440c2d5e%3Ag%3AXp0AAOSwU59fMJkX&LH_Auction=1\nhttps://i.ebayimg.com/thumbs/images/g/Xp0AAOSwU59fMJkX/s-l140.webp\n164350405982\nPowerbook G4 Lautsprecher 2 Stück aus A1138 und A1095\nGebraucht\nEUR 1,00\n+EUR 1,55 Versand\n0 Gebote\n2Std 55 Min\nNone\n********************************************************************************\nhttps://www.ebay.de/itm/Hama-Booklet-Guard-Pro-fur-Apple-iPhone-X-Xs-schwarz-Kunstleder-Handyhulle/274469959193?epid=13036354727&hash=item3fe7af3619%3Ag%3AC8AAAOSwbNteyzpj&LH_Auction=1\nhttps://i.ebayimg.com/thumbs/images/g/C8AAAOSwbNteyzpj/s-l140.webp\n274469959193\nHama Booklet \"Guard Pro\" für Apple iPhone X/Xs, schwarz Kunstleder Handyhülle\nBrandneu\nEUR 1,00\n+EUR 1,90 Versand\n1 Gebot\n3Std 9 Min\nNone\n********************************************************************************\nhttps://www.ebay.de/itm/Ersatzteilspender-Apple-PowerBook-G4/164350419540?hash=item26440c6254%3Ag%3AKO4AAOSwc01fMJxL&LH_Auction=1\nhttps://ir.ebaystatic.com/cr/v/c1/s_1x2.gif\n164350419540\nErsatzteilspender Apple PowerBook G4 \nGebraucht\nEUR 10,50\n+EUR 1,55 Versand\n0 Gebote\n3Std 10 Min\nNone\n********************************************************************************\nhttps://www.ebay.de/itm/100-Latex-Rubber-Schwarz-Rot-Boxer-Shorts-Pants-Slips-Crotch-Zip-Feste-Grose-XL/293706126192?hash=item44623fd370%3Ag%3A%7EXoAAOSw5d9fRbcX&LH_Auction=1\nhttps://ir.ebaystatic.com/cr/v/c1/s_1x2.gif\n293706126192\n100%Latex Rubber Schwarz&Rot Boxer Shorts/Pants Slips Crotch Zip Feste Größe XL\nBrandneu\nEUR 2,99\n+EUR 9,90 Versand\n0 Gebote\n3Std 14 Min\nNone\n********************************************************************************\nhttps://www.ebay.de/itm/100-Pure-Latex-Rubber-Schwarz-Rot-Long-Strumpfe-Stockings-Tight-Feste-Grose-XL/293706132240?hash=item44623feb10%3Ag%3AZFwAAOSw1%7EZfRbkM&LH_Auction=1\nhttps://ir.ebaystatic.com/cr/v/c1/s_1x2.gif\n293706132240\n 100% Pure Latex Rubber Schwarz&Rot Long Strümpfe Stockings Tight Feste Größe XL\nBrandneu\nEUR 3,35\n+EUR 9,90 Versand\n2 Gebote\n3Std 28 Min\nNone\n********************************************************************************\nhttps://www.ebay.de/itm/100-Pure-Latex-Rubber-Blau-Long-Boxer-Shorts-Pants-Slips-Loose-Feste-Grose-XL/293706133535?hash=item44623ff01f%3Ag%3Af6wAAOSw9odfRbnK&LH_Auction=1\nhttps://ir.ebaystatic.com/cr/v/c1/s_1x2.gif\n293706133535\n 100% Pure Latex Rubber Blau Long Boxer Shorts/Pants Slips Loose Feste Größe XL\nBrandneu\nEUR 7,50\n+EUR 9,90 Versand\n2 Gebote\n3Std 29 Min\nNone\n********************************************************************************\nhttps://www.ebay.de/itm/Latex-Rubber-Rot-Niedrige-Taille-Pants-Tight-Hose-trousers-Sock-Feste-Grose-XL/293706139217?hash=item4462400651%3Ag%3ALgYAAOSwwh5fRbpG&LH_Auction=1\nhttps://ir.ebaystatic.com/cr/v/c1/s_1x2.gif\n293706139217\nLatex Rubber Rot Niedrige Taille Pants Tight Hose trousers Sock Feste Größe XL\nBrandneu\nEUR 15,99\n+EUR 19,90 Versand\n1 Gebot\n3Std 34 Min\nNone\n********************************************************************************\nhttps://www.ebay.de/itm/100-Latex-Rubber-Schwarz-Rot-Boxer-Shorts-Pants-Slips-Tight-Zip-Feste-Grose-XL/293706141018?hash=item4462400d5a%3Ag%3AfHoAAOSwAQpfRbqt&LH_Auction=1\nhttps://ir.ebaystatic.com/cr/v/c1/s_1x2.gif\n293706141018\n 100% Latex Rubber Schwarz&Rot Boxer Shorts/Pants Slips Tight Zip Feste Größe XL\nBrandneu\nEUR 2,78\n+EUR 9,90 Versand\n0 Gebote\n3Std 35 Min\nNone\n********************************************************************************\nhttps://www.ebay.de/itm/Latex-Rubber-Rot-Boxer-Niedrige-Taille-Shorts-Pants-Slips-Zip-Feste-Grose-XXS/293706142417?hash=item44624012d1%3Ag%3AeQQAAOSwjJpfRbs5&LH_Auction=1\nhttps://ir.ebaystatic.com/cr/v/c1/s_1x2.gif\n293706142417\nLatex Rubber Rot Boxer Niedrige Taille Shorts/Pants Slips Zip Feste Größe XXS\nBrandneu\nEUR 3,55\n+EUR 9,90 Versand\n0 Gebote\n3Std 37 Min\nNone\n********************************************************************************\nhttps://www.ebay.de/itm/Apple-Magic-Keyboard-Tastatur-A1243-USB-Schweizerdeutsch-QWERTZ-MB110D-B/402370343241?hash=item5daf243149%3Ag%3AoOUAAOSwqehe731r&LH_Auction=1\nhttps://ir.ebaystatic.com/cr/v/c1/s_1x2.gif\n402370343241\nApple Magic Keyboard Tastatur A1243 USB Schweizerdeutsch QWERTZ MB110D/B\nNur Ersatzteile\nEUR 21,00\nKostenloser Versand\n0 Gebote\n3Std 41 Min\nNone\n********************************************************************************\nhttps://www.ebay.de/itm/10xLadekabel-fur-Apple-iPod-iPad-iPhone-4-4S-3-3G-weis-1-Meter/333698241292?hash=item4db1f7130c%3Ag%3Aj1sAAOSwu0Fe3jFm&LH_Auction=1\nhttps://ir.ebaystatic.com/cr/v/c1/s_1x2.gif\n333698241292\n10xLadekabel für Apple iPod / iPad / iPhone 4 4S 3 3G weiß 1 Meter ,\nBrandneu\nEUR 37,00\n+EUR 2,40 Versand\n0 Gebote\n3Std 43 Min\nNone\n********************************************************************************\nhttps://www.ebay.de/itm/100-Pure-Latex-Rubber-Schwarz-Rot-Long-Boxer-Shorts-Pants-Slips-Feste-Grose-XXL/293706150256?hash=item4462403170%3Ag%3AhtMAAOSwfY9fRbuX&LH_Auction=1\nhttps://ir.ebaystatic.com/cr/v/c1/s_1x2.gif\n293706150256\n 100%Pure Latex Rubber Schwarz&Rot Long Boxer Shorts/Pants Slips Feste Größe XXL\nBrandneu\nEUR 6,99\n+EUR 19,90 Versand\n0 Gebote\n3Std 45 Min\nNone\n********************************************************************************\nhttps://www.ebay.de/itm/100-Latex-Rubber-Schwarz-Kurzarm-Top-Beilaufig-Coat-Lace-0-4mm-Feste-Grose-L/293706151399?hash=item44624035e7%3Ag%3Ac9EAAOSwq4tfRbsj&LH_Auction=1\nhttps://ir.ebaystatic.com/cr/v/c1/s_1x2.gif\n293706151399\n 100% Latex Rubber Schwarz Kurzarm Top Beiläufig Coat Lace 0.4mm Feste Größe L\nBrandneu\nEUR 16,89\n+EUR 19,90 Versand\n0 Gebote\n3Std 46 Min\nNone\n********************************************************************************\nhttps://www.ebay.de/itm/Fortnite-Installed-Apple-iPhone-11-Pro-Max-512GB-Space-Gray/303663544453?hash=item46b3c1f885%3Ag%3AhZ8AAOSwArNfQxlU&LH_Auction=1\nhttps://ir.ebaystatic.com/cr/v/c1/s_1x2.gif\n303663544453\nFortnite Installed Apple iPhone 11 Pro Max - 512GB - Space Gray\nGebraucht\nEUR 801,74\n+EUR 9,62 Versand\n34 Gebote\n3Std 57 Min\nNone\n********************************************************************************\nhttps://www.ebay.de/itm/AppleMac-10-6/203086448131?hash=item2f48e54603%3Ag%3As6MAAOSw%7EedfAoa4&LH_Auction=1\nhttps://ir.ebaystatic.com/cr/v/c1/s_1x2.gif\n203086448131\nAppleMac 10,6  🖥\nGebraucht\nEUR 110,00\n+EUR 8,49 Versand\n0 Gebote\n4Std 18 Min\nNone\n********************************************************************************\nhttps://www.ebay.de/itm/Apple-iPhone-11-Pro-64GB-Silber-Ohne-Simlock-A2215-CDMA-GSM/392920330339?epid=23034220762&hash=item5b7be07063%3Ag%3AhJYAAOSwZDlfRcrV&LH_Auction=1\nhttps://ir.ebaystatic.com/cr/v/c1/s_1x2.gif\n392920330339\nApple iPhone 11 Pro - 64GB - Silber (Ohne Simlock) A2215 (CDMA + GSM)\nNeu (Sonstige)\nEUR 635,00\n+EUR 4,99 Versand\n55 Gebote\n4Std 43 Min\nNone\n********************************************************************************\nhttps://www.ebay.de/itm/Handy-Tasche-Book-Style-Classic-Smartphone-in-schw-od-weis-Hulle-Etui-Neu/283988493767?hash=item421f0885c7%3Ag%3A6KMAAOSw2Yta40gp&LH_Auction=1\nhttps://ir.ebaystatic.com/cr/v/c1/s_1x2.gif\n283988493767\nHandy Tasche Book Style Classic Smartphone in schw.od.weiß, Hülle Etui,Neu!\nBrandneu\nEUR 1,99\n+EUR 1,77 Versand\n0 Gebote\n4Std 55 Min\nNone\n********************************************************************************\nhttps://www.ebay.de/itm/FN-Account-OG-mit-Ikonik-Skin-und-Blauer-Knappe-200-weitere-Skins/333704185125?hash=item4db251c525%3Ag%3AiBIAAOSwIftfSxjz&LH_Auction=1\nhttps://ir.ebaystatic.com/cr/v/c1/s_1x2.gif\n333704185125\nFN Account OG mit Ikonik Skin und Blauer Knappe+ 200 weitere Skins !!!\nGebraucht\nEUR 52,00\n+EUR 3,79 Versand\n3 Gebote\n5Std 17 Min\nNone\n********************************************************************************\nhttps://www.ebay.de/itm/Umm-Al-Quwain-Beach-Hotel-T-Shirt-Shirt-VAE-Vereinigte-Arabische-Emirate-UAE-rar/203088730280?hash=item2f490818a8%3Ag%3AteoAAOSwvmNbFqlD&LH_Auction=1\nhttps://ir.ebaystatic.com/cr/v/c1/s_1x2.gif\n203088730280\nUmm Al-Quwain Beach Hotel T-Shirt Shirt VAE Vereinigte Arabische Emirate UAE rar\nGebraucht\nEUR 1,00\n+EUR 2,00 Versand\n0 Gebote\n5Std 37 Min\nSofort-Kaufen\n********************************************************************************\nhttps://www.ebay.de/itm/AVM-FritzBox-7490-1300-Mbps-WLAN-Router-Fritz-Box-VDSL-ADSL-deutsche-Version/164350511512?epid=219495192&hash=item26440dc998%3Ag%3AXgsAAOSw3npe4G2g&LH_Auction=1\nhttps://ir.ebaystatic.com/cr/v/c1/s_1x2.gif\n164350511512\nAVM FritzBox 7490 1300 Mbps WLAN Router / Fritz!Box VDSL/ADSL, deutsche Version\nGebraucht\nEUR 70,00\n+EUR 5,00 Versand\n1 Gebot\n6Std 15 Min\nNone\n********************************************************************************\nhttps://www.ebay.de/itm/Apple-iPhone-7-Plus-32gb-Schwarz-Ohne-Simlock-A1784-GSM-Ohne-ladekabel/124315425850?epid=225208894&hash=item1cf1c6dc3a%3Ag%3AUh8AAOSwFNhfQlno&LH_Auction=1\nhttps://ir.ebaystatic.com/cr/v/c1/s_1x2.gif\n124315425850\nApple iPhone 7 Plus - 32gb- Schwarz (Ohne Simlock) A1784 (GSM) Ohne ladekabel\nGebraucht\nEUR 163,88\n+EUR 4,99 Versand\n14 Gebote\n6Std 21 Min\nNone\n********************************************************************************\nhttps://www.ebay.de/itm/Apple-iPhone-11-Pro-256GB-Space-Grau-Ohne-Simlock-A2215-CDMA-GSM/193639558700?epid=23034220742&hash=item2d15d12e2c%3Ag%3AxtgAAOSwpMdfSIVp&LH_Auction=1\nhttps://ir.ebaystatic.com/cr/v/c1/s_1x2.gif\n193639558700\nApple iPhone 11 Pro - 256GB - Space Grau (Ohne Simlock) A2215 (CDMA + GSM)\nGebraucht\nEUR 836,00\nKostenloser Versand\n21 Gebote\n6Std 31 Min\nNone\n********************************************************************************\nhttps://www.ebay.de/itm/9-Android-Autoradio-GPS-Navi-DAB-Bluetooth-DVD-WIFI-fur-BMW-Range-Rover-L322/283992399192?hash=item421f441d58%3Ag%3AIAsAAOSwAQpfSIsD&LH_Auction=1\nhttps://ir.ebaystatic.com/cr/v/c1/s_1x2.gif\n283992399192\n9\" Android Autoradio GPS Navi DAB+ Bluetooth DVD WIFI für BMW Range Rover L322\nBrandneu\nEUR 354,99\nKostenloser Versand\n0 Gebote\n6Std 45 Min\nNone\n********************************************************************************\nhttps://www.ebay.de/itm/Stutzen-Gr-2-Senior-Jakosport-Apple-black-NEU/333698342545?hash=item4db1f89e91%3Ag%3A0HgAAOSwhmlezAVr&LH_Auction=1\nhttps://ir.ebaystatic.com/cr/v/c1/s_1x2.gif\n333698342545\nStutzen Gr.2 Senior Jakosport, Apple/black NEU\nBrandneu\nEUR 4,00\n+EUR 1,90 Versand\n0 Gebote\n6Std 46 Min\nNone\n********************************************************************************\nhttps://www.ebay.de/itm/5-Meter-Hakelbordure-blau-dklbla-4cm-breit-Kurzwaren-Bordure-Landha-nahen-appl/392918309338?hash=item5b7bc199da%3Ag%3AMi0AAOSwaB5XufJn&LH_Auction=1\nhttps://ir.ebaystatic.com/cr/v/c1/s_1x2.gif\n392918309338\n5 Meter Häkelbordüre blau+dklbla 4cm breit  Kurzwaren Bordüre  Landha nähen appl\nBrandneu\nEUR 12,00\n+EUR 2,00 Versand\n0 Gebote\n6Std 47 Min\nSofort-Kaufen\n********************************************************************************\nhttps://www.ebay.de/itm/iPhone-XR-64GB-Unlocked-fortnite-install-60-FPS-2-month-used-no-crack-or-damage/313190770810?hash=item48eb9fe87a%3Ag%3A%7EB4AAOSwk8JfPveK&LH_Auction=1\nhttps://ir.ebaystatic.com/cr/v/c1/s_1x2.gif\n313190770810\niPhone XR  64GB Unlocked fortnite install 60 FPS 2 month used no crack or damage\nGebraucht\nEUR 641,39\n+EUR 32,07 Versand\n0 Gebote\n6Std 51 Min\nNone\n********************************************************************************\nhttps://www.ebay.de/itm/AVIATO-Gliederarmand-Edelstahl-Apple-Watch-38-40mm-wie-neu/254698012297?hash=item3b4d2f3e89%3Ag%3ASF0AAOSwSmJfMNFe&LH_Auction=1\nhttps://ir.ebaystatic.com/cr/v/c1/s_1x2.gif\n254698012297\nAVIATO Gliederarmand Edelstahl Apple Watch 38/ 40mm *wie neu*\nGebraucht\nEUR 20,00\n+EUR 6,99 Versand\n0 Gebote\n6Std 53 Min\nNone\n********************************************************************************\nhttps://www.ebay.de/itm/Skoda-Superb-Kombi-1-8-Benziner-DSG-Getriebe-L-K-Ausstattung-5J-Garantie/143689412254?hash=item21748e6e9e%3Ag%3AiPwAAOSwV1xfF8VL&LH_Auction=1\nhttps://ir.ebaystatic.com/cr/v/c1/s_1x2.gif\n143689412254\nSkoda Superb, Kombi, 1,8 Benziner, DSG Getriebe, L&K Ausstattung, 5J. Garantie\nGebraucht\nEUR 24.000,00\nNone\n0 Gebote\n6Std 59 Min\nNone\n********************************************************************************\nhttps://www.ebay.de/itm/I-Phone4-4s-Inkl-diverse-Hullen/264842119500?hash=item3da9d2094c%3Ag%3AkVgAAOSwWGBfBzzf&LH_Auction=1\nhttps://ir.ebaystatic.com/cr/v/c1/s_1x2.gif\n264842119500\nI Phone4 &4s Inkl.diverse Hüllen\nGebraucht\nEUR 2,90\n+EUR 4,99 Versand\n0 Gebote\n7Std\nNone\n********************************************************************************\nhttps://www.ebay.de/itm/Apple-iPhone-8-64GB-Gold-Ohne-Simlock-A1905-GSM/184418720111?epid=239086589&hash=item2af036596f%3Ag%3Ay%7E0AAOSwt4xfRe0B&LH_Auction=1\nhttps://ir.ebaystatic.com/cr/v/c1/s_1x2.gif\n184418720111\nApple iPhone 8 - 64GB - Gold (Ohne Simlock) A1905 (GSM)\nGebraucht\nEUR 181,00\n+EUR 4,99 Versand\n4 Gebote\n7Std 8 Min\nNone\n********************************************************************************\nhttps://www.ebay.de/itm/Apple-iPhone-7-128GB-Diamantschwarz-Ohne-Simlock-A1778-GSM/324271190232?epid=225209989&hash=item4b8011b0d8%3Ag%3A7BMAAOSwfdVfQ0ta&LH_Auction=1\nhttps://ir.ebaystatic.com/cr/v/c1/s_1x2.gif\n324271190232\nApple iPhone 7 - 128GB - Diamantschwarz (Ohne Simlock) A1778 (GSM)\nNur Ersatzteile\nEUR 31,50\n+EUR 4,99 Versand\n4 Gebote\n7Std 14 Min\nNone\n********************************************************************************\nhttps://www.ebay.de/itm/Apple-Macig-Keyboard-Art-A-1314/283985679804?hash=item421edd95bc%3Ag%3AEIUAAOSwFxpe4nFr&LH_Auction=1\nhttps://ir.ebaystatic.com/cr/v/c1/s_1x2.gif\n283985679804\nApple Macig Keyboard Art.  A 1314\nGebraucht\nEUR 49,90\n+EUR 4,50 Versand\n0 Gebote\n7Std 14 Min\nNone\n********************************************************************************\nhttps://www.ebay.de/itm/Apple-iPad-2-16GB-Silber-mit-Case/184416046104?hash=item2af00d8c18%3Ag%3AIuAAAOSwOFNfFIm%7E&LH_Auction=1\nhttps://ir.ebaystatic.com/cr/v/c1/s_1x2.gif\n184416046104\nApple iPad 2 16GB Silber mit Case\nGebraucht\nEUR 89,00\n+EUR 5,99 Versand\n0 Gebote\n7Std 20 Min\nNone\n********************************************************************************\nhttps://www.ebay.de/itm/PREMIUM-SILIKON-SCHUTZHULLE-Kristallklar-durchsichtig-Fur-iPhone-7-8-Plus/154057159317?hash=item23de85b295%3Ag%3AOEYAAOSwdz9ePwzO&LH_Auction=1\nhttps://ir.ebaystatic.com/cr/v/c1/s_1x2.gif\n154057159317\nPREMIUM SILIKON SCHUTZHÜLLE | Kristallklar & durchsichtig | Für iPhone 7/8 Plus \nBrandneu\nEUR 1,00\n+EUR 3,00 Versand\n0 Gebote\n7Std 22 Min\nSofort-Kaufen\n********************************************************************************\nhttps://www.ebay.de/itm/Fliegen-mit-dem-Mikro/333698365245?hash=item4db1f8f73d%3Ag%3AaD4AAOSw7Wxd2p4P&LH_Auction=1\nhttps://ir.ebaystatic.com/cr/v/c1/s_1x2.gif\n333698365245\nFliegen mit dem Mikro\nGebraucht\nEUR 2,20\n+EUR 4,90 Versand\n0 Gebote\n7Std 27 Min\nNone\n********************************************************************************\nhttps://www.ebay.de/itm/Hama-KFZ-12V-zu-5V-LADEKABEL-Charger-APPLE-IPHONE-3G-3G-S-4-HA-089434-NEU/324277771888?epid=1804219685&hash=item4b80761e70%3Ag%3AlngAAOSwoRBaiFbG&LH_Auction=1\nhttps://ir.ebaystatic.com/cr/v/c1/s_1x2.gif\n324277771888\nHama KFZ 12V zu 5V LADEKABEL Charger APPLE IPHONE 3G/3G S/4 HA  089434 - NEU -\nNeu (Sonstige)\nEUR 1,40\n+EUR 3,00 Versand\n0 Gebote\n7Std 27 Min\nSofort-Kaufen\n********************************************************************************\nhttps://www.ebay.de/itm/Apple-iphone-6G-6s-hochwertiger-Schutzhullen-NEU-OVP/313194509593?hash=item48ebd8f519%3Ag%3Ak9wAAOSwPjNekgoK&LH_Auction=1\nhttps://ir.ebaystatic.com/cr/v/c1/s_1x2.gif\n313194509593\nApple iphone 6G / 6s  hochwertiger Schutzhüllen  NEU+OVP\nBrandneu\nEUR 19,00\n+EUR 5,99 Versand\n0 Gebote\n7Std 28 Min\nNone\n********************************************************************************\nhttps://www.ebay.de/itm/Photoshop-fur-das-Web-inkl-CD-ROM-Klaus-Rudolf-Bittl-fur-Apple-MAC-und-PC/114367803396?hash=item1aa0da3004%3Ag%3AmvIAAOSwPg9cUxIb&LH_Auction=1\nhttps://ir.ebaystatic.com/cr/v/c1/s_1x2.gif\n114367803396\nPhotoshop für das Web, inkl. CD-ROM - Klaus Rudolf Bittl für Apple MAC und PC\nGebraucht\nEUR 1,00\n+EUR 1,90 Versand\n0 Gebote\n7Std 30 Min\nNone\n********************************************************************************\nhttps://www.ebay.de/itm/Handy-Hulle-Apple-I-Phone-8-Maison-Kitsune-Paris-NEW/164350543734?hash=item26440e4776%3Ag%3AuV0AAOSwwnpeiZyY&LH_Auction=1\nhttps://ir.ebaystatic.com/cr/v/c1/s_1x2.gif\n164350543734\nHandy Hülle Apple I-Phone 8 \"Maison Kitsune Paris\" NEW\nBrandneu\nEUR 7,00\n+EUR 3,00 Versand\n0 Gebote\n7Std 31 Min\nNone\n********************************************************************************\nhttps://www.ebay.de/itm/Apple-iPad-Cover-9-7-Zoll-ECHT-LEDER-Tasche-Case-Schutz-Hulle-Etui-NEU/313194512404?hash=item48ebd90014%3Ag%3An-IAAOSwSvNekeuF&LH_Auction=1\nhttps://ir.ebaystatic.com/cr/v/c1/s_1x2.gif\n313194512404\nApple iPad Cover 9.7 Zoll ECHT LEDER Tasche Case Schutz Hülle Etui NEU \nBrandneu\nEUR 14,00\n+EUR 5,99 Versand\n0 Gebote\n7Std 32 Min\nNone\n********************************************************************************\nhttps://www.ebay.de/itm/Apple-iPad-4-Gen-16GB-WLAN-24-64-cm-9-7-Zoll-Weis-NEU-OVP/313194513118?epid=129519675&hash=item48ebd902de%3Ag%3ArH0AAOSwOHVd8711&LH_Auction=1\nhttps://ir.ebaystatic.com/cr/v/c1/s_1x2.gif\n313194513118\nApple iPad 4. Gen. 16GB, WLAN, 24,64 cm, (9,7 Zoll) - Weiß  NEU+OVP\nBrandneu\nEUR 319,00\n+EUR 5,99 Versand\n0 Gebote\n7Std 33 Min\nNone\n********************************************************************************\nhttps://www.ebay.de/itm/Dave-Gahan-Live-Monsters-DVD/133501362939?hash=item1f154d22fb%3Ag%3A8PUAAOSwfIpfKkNV&LH_Auction=1\nhttps://ir.ebaystatic.com/cr/v/c1/s_1x2.gif\n133501362939\nDave Gahan Live Monsters DVD\nGebraucht\nEUR 2,00\n+EUR 1,70 Versand\n0 Gebote\n7Std 37 Min\nNone\n********************************************************************************\nhttps://www.ebay.de/itm/Apple-Mac-Book-Air-13-Zoll-Mitte-2011-i5-1-7GHz-4GB-120GB/324271206281?hash=item4b8011ef89%3Ag%3AbZ0AAOSwxEde4KzC&LH_Auction=1\nhttps://ir.ebaystatic.com/cr/v/c1/s_1x2.gif\n324271206281\nApple Mac Book Air (13 Zoll, Mitte 2011)   i5 1,7GHz 4GB 120GB\nGebraucht\nEUR 195,00\n+EUR 6,99 Versand\n0 Gebote\n7Std 39 Min\nNone\n********************************************************************************\nhttps://www.ebay.de/itm/APPLE-Watch-Series-4-GPS-Silber-44-mm-mit-Sportarmband-kein-Cellular/164353653456?epid=0&hash=item26443dbad0%3Ag%3AIr8AAOSwJ2lfRfXA&LH_Auction=1\nhttps://ir.ebaystatic.com/cr/v/c1/s_1x2.gif\n164353653456\nAPPLE Watch Series 4 GPS Silber, 44 mm mit Sportarmband    kein Cellular\nGebraucht\nEUR 233,00\n+EUR 4,99 Versand\n12 Gebote\n7Std 45 Min\nNone\n********************************************************************************\nhttps://www.ebay.de/itm/iPhone-6-Handyhulle-pinke-Sprenkel-gebraucht-aber-OVP-in-Original-Packung/164347074763?hash=item2643d958cb%3Ag%3A3ZkAAOSwMwZfFB3e&LH_Auction=1\nhttps://ir.ebaystatic.com/cr/v/c1/s_1x2.gif\n164347074763\niPhone 6 - Handyhülle - pinke Sprenkel - gebraucht aber OVP in Original-Packung\nGebraucht\nEUR 1,00\n+EUR 2,90 Versand\n0 Gebote\n8Std 4 Min\nNone\n********************************************************************************\nhttps://www.ebay.de/itm/Original-Audi-USB-Ladeadapter-fur-Mobiltelefone-mit-Apple-Dock-Connector/333698390371?hash=item4db1f95963%3Ag%3ARSkAAOSwhe1e7xvE&LH_Auction=1\nhttps://ir.ebaystatic.com/cr/v/c1/s_1x2.gif\n333698390371\nOriginal Audi USB-Ladeadapter für Mobiltelefone mit Apple Dock Connector\nBrandneu\nEUR 17,90\n+EUR 1,90 Versand\n0 Gebote\n8Std 10 Min\nSofort-Kaufen\n********************************************************************************\nhttps://www.ebay.de/itm/Apple-iPhone-XR-64GB-Weis-Ohne-Simlock-A2105-GSM/224136281159?epid=18023709694&hash=item342f903c47%3Ag%3AXx8AAOSwBxpfSJzv&LH_Auction=1\nhttps://ir.ebaystatic.com/cr/v/c1/s_1x2.gif\n224136281159\nApple iPhone XR - 64GB - Weiß (Ohne Simlock) A2105 (GSM)\nNeu (Sonstige)\nEUR 353,00\n+EUR 4,99 Versand\n3 Gebote\n8Std 13 Min\nNone\n********************************************************************************\nhttps://www.ebay.de/itm/Apple-iPhone-6-64GB-Gold-Ohne-Simlock-A1586-CDMA-GSM-Glas-defekt/174406731042?epid=203742290&hash=item289b738522%3Ag%3AtvwAAOSwMWhfQ1q3&LH_Auction=1\nhttps://ir.ebaystatic.com/cr/v/c1/s_1x2.gif\n174406731042\nApple iPhone 6 - 64GB - Gold (Ohne Simlock) A1586 (CDMA + GSM), Glas defekt \nNur Ersatzteile\nEUR 35,00\n+EUR 5,00 Versand\n0 Gebote\n8Std 21 Min\nNone\n********************************************************************************\nhttps://www.ebay.de/itm/Freiwild-Sleeve-Filz-Apple-MacBook-Air-11-NEU/233690624842?hash=item36690bf34a%3Ag%3AChMAAOSwc7Ve05BR&LH_Auction=1\nhttps://ir.ebaystatic.com/cr/v/c1/s_1x2.gif\n233690624842\nFreiwild Sleeve Filz Apple MacBook Air 11“ NEU\nBrandneu\nEUR 10,00\n+EUR 4,99 Versand\n0 Gebote\n8Std 26 Min\nNone\n********************************************************************************\nhttps://www.ebay.de/itm/APPLE-IPHONE-X-10-64GB-SPACE-GRAU-A1901-SCHWARZ-SMARTPHONE-OVP-GEBRAUCHT-BLACK/264848057434?epid=239093195&hash=item3daa2ca45a%3Ag%3Ac9oAAOSwlDNfJpyO&LH_Auction=1\nhttps://ir.ebaystatic.com/cr/v/c1/s_1x2.gif\n264848057434\nAPPLE IPHONE X 10 64GB SPACE GRAU A1901 SCHWARZ SMARTPHONE OVP GEBRAUCHT BLACK\nGebraucht\nEUR 549,00\nKostenloser Versand\n0 Gebote\n8Std 26 Min\nSofort-Kaufen\n********************************************************************************\nhttps://www.ebay.de/itm/Apple-iPhone-3G-8GB-Schwarz-Ohne-Simlock-A1241-GSM/124310150205?epid=101728119&hash=item1cf1765c3d%3Ag%3AdKMAAOSw49pfI7QS&LH_Auction=1\nhttps://ir.ebaystatic.com/cr/v/c1/s_1x2.gif\n124310150205\nApple iPhone 3G - 8GB - Schwarz (Ohne Simlock) A1241 (GSM)\nNur Ersatzteile\nEUR 4,00\n+EUR 4,99 Versand\n0 Gebote\n8Std 27 Min\nNone\n********************************************************************************\nhttps://www.ebay.de/itm/Apple-iPhone-7-128GB-Diamantschwarz-Ohne-Simlock-A1778-GSM/124315537093?hash=item1cf1c88ec5%3Ag%3AZM4AAOSwBztfGDn4&LH_Auction=1\nhttps://ir.ebaystatic.com/cr/v/c1/s_1x2.gif\n124315537093\nApple iPhone 7 - 128GB - Diamantschwarz (Ohne Simlock) A1778 (GSM)\nNur Ersatzteile\nEUR 105,00\n+EUR 15,00 Versand\n0 Gebote\n8Std 27 Min\nNone\n********************************************************************************\nhttps://www.ebay.de/itm/Original-Apple-Lightning-to-SD-card-Camera-Reader-iPhone-iPad-MJYT2ZM-A-Neu-OVP/402379388461?epid=26007251639&hash=item5dafae362d%3Ag%3AA7sAAOSwh4ZfHnIZ&LH_Auction=1\nhttps://ir.ebaystatic.com/cr/v/c1/s_1x2.gif\n402379388461\nOriginal Apple Lightning to SD card Camera Reader iPhone iPad MJYT2ZM/A Neu OVP\nBrandneu\nEUR 35,99\n+EUR 1,55 Versand\n0 Gebote\n8Std 27 Min\nNone\n********************************************************************************\nhttps://www.ebay.de/itm/2-Apple-TV-4-und-4K-Packungen-Model-A1842-und-A1625-jeweils-32-GB/224130873435?hash=item342f3db85b%3Ag%3Avb8AAOSws6tedjGX&LH_Auction=1\nhttps://ir.ebaystatic.com/cr/v/c1/s_1x2.gif\n224130873435\n2 Apple TV - 4 und 4K Packungen Model A1842 und A1625 jeweils 32 GB\nGebraucht\nEUR 1,00\n+EUR 5,00 Versand\n0 Gebote\n8Std 27 Min\nSofort-Kaufen\n********************************************************************************\nhttps://www.ebay.de/itm/3-Apple-iPad-Packungen-iPad-6th-und-7th-Generation-sowie-iPad-Air/224130874362?hash=item342f3dbbfa%3Ag%3AaqUAAOSwsKNediJQ&LH_Auction=1\nhttps://ir.ebaystatic.com/cr/v/c1/s_1x2.gif\n224130874362\n3 Apple iPad Packungen - iPad 6th und 7th Generation sowie iPad Air\nGebraucht\nEUR 1,00\n+EUR 6,00 Versand\n0 Gebote\n8Std 28 Min\nNone\n********************************************************************************\nhttps://www.ebay.de/itm/4-Apple-AirPods-Packungen-1-und-2-Generation-A1523-A1722-A1602-A2032-A2031/224130874854?hash=item342f3dbde6%3Ag%3AVgkAAOSwt3tedibM&LH_Auction=1\nhttps://ir.ebaystatic.com/cr/v/c1/s_1x2.gif\n224130874854\n4 Apple AirPods Packungen - 1. und 2. Generation A1523 A1722 A1602 A2032 A2031\nGebraucht\nEUR 1,00\n+EUR 4,50 Versand\n0 Gebote\n8Std 29 Min\nSofort-Kaufen\n********************************************************************************\nhttps://www.ebay.de/itm/iPad-smart-cover-schwarz-gebraucht-Original-von-Apple-Seitenrander-gehen-auf/184416092320?hash=item2af00e40a0%3Ag%3AOCkAAOSwo4pYQszM&LH_Auction=1\nhttps://ir.ebaystatic.com/cr/v/c1/s_1x2.gif\n184416092320\niPad smart cover schwarz gebraucht, Original von Apple, Seitenränder gehen auf\nGebraucht\nEUR 3,00\n+EUR 2,00 Versand\n0 Gebote\n8Std 30 Min\nSofort-Kaufen\n********************************************************************************\nhttps://www.ebay.de/itm/Tunika-Longshirt-Sommer-Shirt-blau-mit-Tropical-Appl-v-Gina-Benotti-Gr-XL/313194552564?hash=item48ebd99cf4%3Ag%3AmcMAAOSwy2pexUj0&LH_Auction=1\nhttps://ir.ebaystatic.com/cr/v/c1/s_1x2.gif\n313194552564\nTunika / Longshirt / Sommer Shirt blau mit Tropical Appl. v. Gina Benotti Gr:XL\nGebraucht\nEUR 7,00\n+EUR 3,00 Versand\n0 Gebote\n8Std 30 Min\nNone\n********************************************************************************\nhttps://www.ebay.de/itm/Ganzanzug-Gummi-100-Latex-Rubber-Hood-Cosplay-Sexy-Rot-handmade-0-4mm-S-XXL/392918362804?hash=item5b7bc26ab4%3Ag%3Ad%7EYAAOSwCMxe1Hqk&LH_Auction=1\nhttps://ir.ebaystatic.com/cr/v/c1/s_1x2.gif\n392918362804\nGanzanzug Gummi 100% Latex Rubber Hood Cosplay Sexy Rot handmade 0.4mm S-XXL\nBrandneu\nEUR 3,10\n+EUR 14,90 Versand\n0 Gebote\n8Std 30 Min\nNone\n********************************************************************************\nhttps://www.ebay.de/itm/Stickvorlagen-King-of-the-Roost-von-Green-Apple/313190845740?hash=item48eba10d2c%3Ag%3AtfYAAOSwe6FdOvQl&LH_Auction=1\nhttps://ir.ebaystatic.com/cr/v/c1/s_1x2.gif\n313190845740\nStickvorlagen - King of the Roost - von Green Apple\nGebraucht\nEUR 1,00\n+EUR 2,50 Versand\n0 Gebote\n8Std 30 Min\nNone\n********************************************************************************\nhttps://www.ebay.de/itm/100-Latex-Rubber-Weis-Tier-Headgear-Kostum-anti-clip-hair-Hood-Niet-0-4MM-S-XXL/392918362879?hash=item5b7bc26aff%3Ag%3Aq54AAOSwAchfDnc%7E&LH_Auction=1\nhttps://ir.ebaystatic.com/cr/v/c1/s_1x2.gif\n392918362879\n100%Latex Rubber Weiß Tier Headgear Kostüm anti-clip hair Hood Niet 0.4MM S-XXL\nBrandneu\nEUR 25,75\n+EUR 12,99 Versand\n0 Gebote\n8Std 31 Min\nNone\n********************************************************************************\nhttps://www.ebay.de/itm/100-Latex-Rubber-Schwarz-Weis-Headgear-Kostum-anti-clip-hair-Hood-0-4MM-S-XXL/174406756319?hash=item289b73e7df%3Ag%3ASRQAAOSwilpfDnzZ&LH_Auction=1\nhttps://ir.ebaystatic.com/cr/v/c1/s_1x2.gif\n174406756319\n100%Latex Rubber Schwarz&Weiß Headgear Kostüm anti-clip hair Hood  0.4MM S-XXL\nBrandneu\nEUR 27,85\n+EUR 12,99 Versand\n0 Gebote\n8Std 31 Min\nNone\n********************************************************************************\nhttps://www.ebay.de/itm/100-Latex-Rubber-Schwarz-Weis-Headgear-Kostum-anti-clip-hair-Hood-Lace-Zip-S-XXL/392918363100?hash=item5b7bc26bdc%3Ag%3AauUAAOSwr-1fDnmr&LH_Auction=1\nhttps://ir.ebaystatic.com/cr/v/c1/s_1x2.gif\n392918363100\n100%Latex Rubber Schwarz&Weiß Headgear Kostüm anti-clip hair Hood Lace Zip S-XXL\nBrandneu\nEUR 19,68\n+EUR 12,99 Versand\n0 Gebote\n8Std 31 Min\nNone\n********************************************************************************\nhttps://www.ebay.de/itm/Apple-iPhone-7-128GB-Rosegold-Ohne-Simlock-Homebutton-Defekt/224130878733?epid=225076561&hash=item342f3dcd0d%3Ag%3An2kAAOSwRoVfQ12o&LH_Auction=1\nhttps://ir.ebaystatic.com/cr/v/c1/s_1x2.gif\n224130878733\nApple iPhone 7 - 128GB - Roségold (Ohne Simlock) Homebutton Defekt.\nNur Ersatzteile\nEUR 52,88\n+EUR 4,99 Versand\n9 Gebote\n8Std 32 Min\nNone\n********************************************************************************\nhttps://www.ebay.de/itm/Ganzanzug-Gummi-Latex-Rubber-Cosplay-Sexy-Hood-Eyes-and-mouth-opening-0-4mmS-XXL/392918364988?hash=item5b7bc2733c%3Ag%3Aw5gAAOSwHcxe1Hqt&LH_Auction=1\nhttps://ir.ebaystatic.com/cr/v/c1/s_1x2.gif\n392918364988\nGanzanzug Gummi Latex Rubber Cosplay Sexy Hood Eyes and mouth opening 0.4mmS-XXL\nBrandneu\nEUR 9,08\n+EUR 14,90 Versand\n0 Gebote\n8Std 37 Min\nNone\n********************************************************************************\nhttps://www.ebay.de/itm/100-Latex-Rubber-rivet-Kostum-anti-clip-hair-Hood-Dinosaurier-Zipper-0-4MM-S-XXL/174406758605?hash=item289b73f0cd%3Ag%3A8jEAAOSwOzhfDmUA&LH_Auction=1\nhttps://ir.ebaystatic.com/cr/v/c1/s_1x2.gif\n174406758605\n100%Latex Rubber rivet Kostüm anti-clip hair Hood Dinosaurier Zipper 0.4MM S-XXL\nBrandneu\nEUR 26,99\n+EUR 14,90 Versand\n0 Gebote\n8Std 37 Min\nNone\n********************************************************************************\nhttps://www.ebay.de/itm/100-Latex-Rubber-Weis-Headgear-Kostum-anti-clip-hair-Hood-Three-Zip-0-4MM-S-XXL/392918365545?hash=item5b7bc27569%3Ag%3AUdYAAOSwo25fDnHZ&LH_Auction=1\nhttps://ir.ebaystatic.com/cr/v/c1/s_1x2.gif\n392918365545\n100% Latex Rubber Weiß Headgear Kostüm anti-clip hair Hood Three Zip 0.4MM S-XXL\nBrandneu\nEUR 9,99\n+EUR 14,90 Versand\n0 Gebote\n8Std 38 Min\nNone\n********************************************************************************\nhttps://www.ebay.de/itm/100-Latex-Rubber-Schwarz-Headgear-Kostum-anti-clip-hair-Hood-Zipper-0-4MM-S-XXL/174406759057?hash=item289b73f291%3Ag%3AC9IAAOSwvgtfDnOM&LH_Auction=1\nhttps://ir.ebaystatic.com/cr/v/c1/s_1x2.gif\n174406759057\n100% Latex Rubber Schwarz Headgear Kostüm anti-clip hair Hood Zipper 0.4MM S-XXL\nBrandneu\nEUR 2,54\n+EUR 12,99 Versand\n1 Gebot\n8Std 38 Min\nNone\n********************************************************************************\nhttps://www.ebay.de/itm/100-Latex-Rubber-Weis-Headgear-Kostum-anti-clip-hair-Hood-Mund-offen-0-4MM-S-XXL/392918365694?hash=item5b7bc275fe%3Ag%3AsrIAAOSwzSpfDnQm&LH_Auction=1\nhttps://ir.ebaystatic.com/cr/v/c1/s_1x2.gif\n392918365694\n100%Latex Rubber Weiß Headgear Kostüm anti-clip hair Hood Mund offen 0.4MM S-XXL\nBrandneu\nEUR 5,75\n+EUR 12,99 Versand\n1 Gebot\n8Std 38 Min\nNone\n********************************************************************************\nhttps://www.ebay.de/itm/100-Latex-Rubber-Schwarz-Rot-Headgear-Kostum-anti-clip-hair-Hood-Zip-0-4MM-S-XXL/392918365731?hash=item5b7bc27623%3Ag%3AQHoAAOSwNqxfDnoG&LH_Auction=1\nhttps://ir.ebaystatic.com/cr/v/c1/s_1x2.gif\n392918365731\n100%Latex Rubber Schwarz&Rot Headgear Kostüm anti-clip hair Hood Zip 0.4MM S-XXL\nBrandneu\nEUR 23,99\n+EUR 12,99 Versand\n0 Gebote\n8Std 38 Min\nNone\n********************************************************************************\nhttps://www.ebay.de/itm/Apple-Watch-Series-1-38mm-Silber/143710041395?hash=item2175c93533%3Ag%3A7LYAAOSwyG1fR1Ps&LH_Auction=1\nhttps://ir.ebaystatic.com/cr/v/c1/s_1x2.gif\n143710041395\nApple Watch Series 1 38mm Silber\nGebraucht\nEUR 80,00\n+EUR 4,99 Versand\n1 Gebot\n8Std 40 Min\nNone\n********************************************************************************\nhttps://www.ebay.de/itm/Apple-iPad-2-A1396-16GB-Wi-Fi-3G-silber-Display-beschadigt-funktionsfahig/174409314973?epid=13023945836&hash=item289b9af29d%3Ag%3AqJsAAOSwLSdfLTJy&LH_Auction=1\nhttps://ir.ebaystatic.com/cr/v/c1/s_1x2.gif\n174409314973\nApple iPad 2 A1396, 16GB, Wi-Fi 3G, silber, Display beschädigt, funktionsfähig \nGebraucht\nEUR 20,00\n+EUR 5,90 Versand\n0 Gebote\n8Std 42 Min\nNone\n********************************************************************************\nhttps://www.ebay.de/itm/Apple-iPhone-6-16GB-Space-Grau/203083569984?hash=item2f48b95b40%3Ag%3AeIMAAOSwAxdfP2lK&LH_Auction=1\nhttps://ir.ebaystatic.com/cr/v/c1/s_1x2.gif\n203083569984\nApple iPhone 6 - 16GB - Space Grau\nGebraucht\nEUR 51,00\n+EUR 4,99 Versand\n7 Gebote\n8Std 43 Min\nNone\n********************************************************************************\nhttps://www.ebay.de/itm/100-Pure-Latex-Rubber-Rot-Headgear-Kostum-anti-clip-hair-Hood-Tight-0-4MM-S-XXL/392918368524?hash=item5b7bc2810c%3Ag%3ABekAAOSwPndfDnPo&LH_Auction=1\nhttps://ir.ebaystatic.com/cr/v/c1/s_1x2.gif\n392918368524\n100% Pure Latex Rubber Rot Headgear Kostüm anti-clip hair Hood Tight 0.4MM S-XXL\nBrandneu\nEUR 3,56\n+EUR 14,90 Versand\n1 Gebot\n8Std 44 Min\nNone\n********************************************************************************\nhttps://www.ebay.de/itm/100-Latex-Rubber-Grun-Weis-Headgear-Kostum-anti-clip-hair-Hood-Zipper0-4MM-S-XXL/174406760748?hash=item289b73f92c%3Ag%3AR2oAAOSwMk5fDnkV&LH_Auction=1\nhttps://ir.ebaystatic.com/cr/v/c1/s_1x2.gif\n174406760748\n100%Latex Rubber Grün&Weiß Headgear Kostüm anti-clip hair Hood Zipper0.4MM S-XXL\nBrandneu\nEUR 26,95\n+EUR 12,99 Versand\n0 Gebote\n8Std 44 Min\nNone\n********************************************************************************\nhttps://www.ebay.de/itm/Apple-Nike-Adapter-A1191/203086605538?hash=item2f48e7ace2%3Ag%3AA2wAAOSwzddfJ7Hl&LH_Auction=1\nhttps://ir.ebaystatic.com/cr/v/c1/s_1x2.gif\n203086605538\nApple Nike+ Adapter A1191\nGebraucht\nEUR 1,00\n+EUR 0,80 Versand\n0 Gebote\n8Std 47 Min\nNone\n********************************************************************************\nhttps://www.ebay.de/itm/Apple-iPhone-X-64GB-Silber-Ohne-Simlock-A1901-GSM/203090841318?epid=239080866&hash=item2f49284ee6%3Ag%3Ay%7EQAAOSw5T5fO6IU&LH_Auction=1\nhttps://ir.ebaystatic.com/cr/v/c1/s_1x2.gif\n203090841318\nApple iPhone X - 64GB - Silber (Ohne Simlock) A1901 (GSM)\nGebraucht\nEUR 198,99\n+EUR 4,99 Versand\n8 Gebote\n8Std 48 Min\nNone\n********************************************************************************\nhttps://www.ebay.de/itm/Fachbucher-zu-Apple-Betriebssystem-Mac-OS-X10-5/264844124244?hash=item3da9f0a054%3Ag%3A%7EDMAAOSwLDtfPrb7&LH_Auction=1\nhttps://ir.ebaystatic.com/cr/v/c1/s_1x2.gif\n264844124244\nFachbücher zu Apple  Betriebssystem   Mac OS X10.5\nGebraucht\nEUR 13,00\n+EUR 7,49 Versand\n0 Gebote\n8Std 51 Min\nNone\n********************************************************************************\nhttps://www.ebay.de/itm/HAMA-Apple-iPhone-4-4s-Booklet-Case-Handyhulle-Neu/283985723211?hash=item421ede3f4b%3Ag%3AbTIAAOSwx4JfH-WN&LH_Auction=1\nhttps://ir.ebaystatic.com/cr/v/c1/s_1x2.gif\n283985723211\nHAMA Apple iPhone 4/4s Booklet Case Handyhülle - Neu !!!\nBrandneu\nEUR 1,00\n+EUR 4,99 Versand\n0 Gebote\n8Std 53 Min\nNone\n********************************************************************************\nhttps://www.ebay.de/itm/pajoma-Teelichte-unbeduftet-80-100-Stuck-B-Ware/333698407685?hash=item4db1f99d05%3Ag%3AvEcAAOSwHnhfN4Yw&LH_Auction=1\nhttps://ir.ebaystatic.com/cr/v/c1/s_1x2.gif\n333698407685\npajoma Teelichte unbeduftet 80-100 Stück, B-Ware\nNeu (Sonstige)\nEUR 3,13\n+EUR 4,90 Versand\n3 Gebote\n8Std 55 Min\nNone\n********************************************************************************\nhttps://www.ebay.de/itm/Apple-iPhone-XS-64GB-Space-Grau-wie-neu/124312699319?epid=7023712785&hash=item1cf19d41b7%3Ag%3A2moAAOSwWzJfRgNy&LH_Auction=1\nhttps://ir.ebaystatic.com/cr/v/c1/s_1x2.gif\n124312699319\nApple iPhone XS - 64GB - Space Grau, wie neu\nGebraucht\nEUR 354,00\n+EUR 4,99 Versand\n19 Gebote\n8Std 56 Min\nNone\n********************************************************************************\nhttps://www.ebay.de/itm/Flight-Girls-DVD-Gwyneth-Paltrow-Mike-Myers-Chr-Applegate-Flugzeug/164347119150?hash=item2643da062e%3Ag%3Af6UAAOSwkwVaU0el&LH_Auction=1\nhttps://ir.ebaystatic.com/cr/v/c1/s_1x2.gif\n164347119150\nFlight Girls * DVD * Gwyneth Paltrow * Mike Myers * Chr. Applegate * Flugzeug\nGebraucht\nEUR 1,00\n+EUR 1,95 Versand\n0 Gebote\n8Std 58 Min\nNone\n********************************************************************************\nhttps://www.ebay.de/itm/Turschild-aus-Holz-rustikal-Motiv-Kuh-Dekoration/254698091731?hash=item3b4d3074d3%3Ag%3Aid8AAOSwIGlegINV&LH_Auction=1\nhttps://ir.ebaystatic.com/cr/v/c1/s_1x2.gif\n254698091731\nTürschild aus Holz (rustikal) - Motiv: Kuh - Dekoration\nGebraucht\nEUR 2,00\n+EUR 4,50 Versand\n0 Gebote\n8Std 59 Min\nSofort-Kaufen\n********************************************************************************\nhttps://www.ebay.de/itm/Hozelock-Bewasserungstimer-Bewasserungsuhr-Bewasserung-Regler-Cloud-Controller/383698231616?epid=1574055594&hash=item5956326140%3Ag%3ArOgAAOSwD75fS03s&LH_Auction=1\nhttps://ir.ebaystatic.com/cr/v/c1/s_1x2.gif\n383698231616\nHozelock Bewässerungstimer Bewässerungsuhr Bewässerung Regler Cloud Controller\nBrandneu\nEUR 153,95\nKostenloser Versand\n0 Gebote\n9Std 1 Min\nNone\n********************************************************************************\nhttps://www.ebay.de/itm/IPad-Mini-2/353180055105?hash=item523b2bf641%3Ag%3AqfcAAOSwyxhfOimn&LH_Auction=1\nhttps://ir.ebaystatic.com/cr/v/c1/s_1x2.gif\n353180055105\nIPad Mini 2\nNeu (Sonstige)\nEUR 120,00\n+EUR 5,99 Versand\n0 Gebote\n9Std 2 Min\nSofort-Kaufen\n********************************************************************************\nhttps://www.ebay.de/itm/USB-Ladegerat-in-Apple-Optik-fur-KFZ-Zigarettenanzunder-weis-Neu/274474826506?hash=item3fe7f97b0a%3Ag%3A1oUAAOSwmGde65Pn&LH_Auction=1\nhttps://ir.ebaystatic.com/cr/v/c1/s_1x2.gif\n274474826506\nUSB Ladegerät in Apple-Optik für KFZ Zigarettenanzünder, weiß Neu!\nBrandneu\nEUR 6,50\n+EUR 2,20 Versand\n0 Gebote\n9Std 3 Min\nNone\n********************************************************************************\nhttps://www.ebay.de/itm/APPLE-iPod-Shuffle-2GB-Modell-2012-silber/353180056596?hash=item523b2bfc14%3Ag%3Ag0EAAOSw8-lc0no5&LH_Auction=1\nhttps://ir.ebaystatic.com/cr/v/c1/s_1x2.gif\n353180056596\nAPPLE iPod Shuffle 2GB (Modell 2012) silber \nGebraucht\nEUR 26,00\nKostenloser Versand\n3 Gebote\n9Std 4 Min\nNone\n********************************************************************************\nhttps://www.ebay.de/itm/Hama-Schutzhulle-Cover-fur-Apple-iPhone-4-4s/402371094322?hash=item5daf2fa732%3Ag%3AO7kAAOSwQC9eqHlU&LH_Auction=1\nhttps://ir.ebaystatic.com/cr/v/c1/s_1x2.gif\n402371094322\nHama Schutzhülle Cover für Apple iPhone 4 / 4s\nBrandneu\nEUR 1,90\n+EUR 2,00 Versand\n0 Gebote\n9Std 4 Min\nNone\n********************************************************************************\nhttps://www.ebay.de/itm/USB-Kabel-Apple-Lightning-fur-iPhone-Ipad-bis-Version-3-1-Meter-Neu/274474827684?hash=item3fe7f97fa4%3Ag%3At6cAAOSwW69e65Ai&LH_Auction=1\nhttps://ir.ebaystatic.com/cr/v/c1/s_1x2.gif\n274474827684\nUSB Kabel Apple Lightning für iPhone / Ipad bis Version 3 1 Meter Neu!\nBrandneu\nEUR 5,50\n+EUR 2,20 Versand\n0 Gebote\n9Std 4 Min\nNone\n********************************************************************************\nhttps://www.ebay.de/itm/Udapter-Kabel-Fuer-Apple/324271256869?hash=item4b8012b525%3Ag%3AQwsAAOSw8bFdKxTI&LH_Auction=1\nhttps://ir.ebaystatic.com/cr/v/c1/s_1x2.gif\n324271256869\nUdapter Kabel Fuer Apple \nBrandneu\nEUR 4,50\n+EUR 1,55 Versand\n0 Gebote\n9Std 4 Min\nNone\n********************************************************************************\nhttps://www.ebay.de/itm/IPhone-7-Rose-Gold-32GB/254698094196?hash=item3b4d307e74%3Ag%3AWCoAAOSwJJVeixN-&LH_Auction=1\nhttps://ir.ebaystatic.com/cr/v/c1/s_1x2.gif\n254698094196\nIPhone 7 Rosé Gold 32GB\nGebraucht\nEUR 200,00\n+EUR 7,49 Versand\n0 Gebote\n9Std 5 Min\nSofort-Kaufen\n********************************************************************************\nhttps://www.ebay.de/itm/Apple-iPhone-5-16GB-Weis-Silber-Ohne-Simlock-A1429-GSM/124310172149?epid=117394728&hash=item1cf176b1f5%3Ag%3AMCkAAOSwx%7EdfOirP&LH_Auction=1\nhttps://ir.ebaystatic.com/cr/v/c1/s_1x2.gif\n124310172149\nApple iPhone 5 - 16GB - Weiß & Silber (Ohne Simlock) A1429 (GSM)\nGebraucht\nEUR 40,00\n+EUR 4,99 Versand\n0 Gebote\n9Std 7 Min\nNone\n********************************************************************************\nhttps://www.ebay.de/itm/Apple-Watch-Series-2-inkl-Sportarmband-schwarz-42mm-Edelstahlgehause-schwarz/164350618741?epid=16011032811&hash=item26440f6c75%3Ag%3AAcMAAOSwXJ5fDf0%7E&LH_Auction=1\nhttps://ir.ebaystatic.com/cr/v/c1/s_1x2.gif\n164350618741\nApple Watch Series 2 [inkl. Sportarmband schwarz] 42mm Edelstahlgehäuse schwarz\nGebraucht\nEUR 127,00\n+EUR 4,99 Versand\n14 Gebote\n9Std 7 Min\nNone\n********************************************************************************\nhttps://www.ebay.de/itm/MeaVita-Bio-Baobab-Pulver-250g-MHD-09-2020/333698416223?epid=15029867813&hash=item4db1f9be5f%3Ag%3AIFEAAOSwQjlfM5R9&LH_Auction=1\nhttps://ir.ebaystatic.com/cr/v/c1/s_1x2.gif\n333698416223\nMeaVita Bio Baobab Pulver,250g, MHD 09-2020\nBrandneu\nEUR 2,50\n+EUR 4,90 Versand\n3 Gebote\n9Std 8 Min\nNone\n********************************************************************************\nhttps://www.ebay.de/itm/Apple-AirPort-Time-Capsule-2-TB-TOP-ZUSTAND/254694806960?epid=219488114&hash=item3b4cfe55b0%3Ag%3AxpQAAOSwGz9fP3ER&LH_Auction=1\nhttps://ir.ebaystatic.com/cr/v/c1/s_1x2.gif\n254694806960\nApple AirPort Time Capsule 2 TB *TOP ZUSTAND*\nGebraucht\nEUR 89,00\n+EUR 5,99 Versand\n10 Gebote\n9Std 9 Min\nNone\n********************************************************************************\nhttps://www.ebay.de/itm/NEU-Original-Apple-A1556-3-Stuck-UK-Adapter-Duckhead-fur-Ladegerat-Plug-England/324268376899?hash=item4b7fe6c343%3Ag%3AsoQAAOSw0Axd9MHS&LH_Auction=1\nhttps://ir.ebaystatic.com/cr/v/c1/s_1x2.gif\n324268376899\nNEU Original Apple A1556 3 Stück UK Adapter Duckhead für Ladegerät Plug England\nNeu (Sonstige)\nEUR 11,00\n+EUR 3,79 Versand\n0 Gebote\n9Std 9 Min\nNone\n********************************************************************************\nhttps://www.ebay.de/itm/Logitech-Keyboard-Cover-for-Apple-iPad-mini/333695301564?hash=item4db1ca37bc%3Ag%3Ao64AAOSwHoFe25db&LH_Auction=1\nhttps://ir.ebaystatic.com/cr/v/c1/s_1x2.gif\n333695301564\nLogitech Keyboard Cover for Apple iPad mini\nGebraucht\nEUR 1,00\n+EUR 7,00 Versand\n0 Gebote\n9Std 9 Min\nNone\n********************************************************************************\nhttps://www.ebay.de/itm/Apple-iPhone-4-16GB-Weis-T-Mobile-A1332-GSM/254698098107?epid=101728112&hash=item3b4d308dbb%3Ag%3AehsAAOSwTltfDAfo&LH_Auction=1\nhttps://ir.ebaystatic.com/cr/v/c1/s_1x2.gif\n254698098107\nApple iPhone 4 - 16GB - Weiß (T-Mobile) A1332 (GSM)\nGebraucht\nEUR 25,00\n+EUR 4,39 Versand\n0 Gebote\n9Std 13 Min\nNone\n********************************************************************************\nhttps://www.ebay.de/itm/Apple-iPhone-7-Plus-256GB-Schwarz-Ohne-Simlock-A1784-GSM/143697070113?epid=225300943&hash=item2175034821%3Ag%3ALa8AAOSwyL9fQ2eg&LH_Auction=1\nhttps://ir.ebaystatic.com/cr/v/c1/s_1x2.gif\n143697070113\nApple iPhone 7 Plus - 256GB - Schwarz (Ohne Simlock) A1784 (GSM)\nGebraucht\nEUR 230,00\n+EUR 4,99 Versand\n2 Gebote\n9Std 13 Min\nNone\n********************************************************************************\nhttps://www.ebay.de/itm/4GB-64G-Autoradio-Fur-AUDI-A4-S4-RS4-B6-B7-Android-10-GPS-NAVI-DVD-WIFI-CarPlay/313198796468?hash=item48ec1a5eb4%3Ag%3AltYAAOSwOoFespMk&LH_Auction=1\nhttps://ir.ebaystatic.com/cr/v/c1/s_1x2.gif\n313198796468\n4GB+64G Autoradio Für AUDI A4 S4 RS4 B6 B7 Android 10 GPS NAVI DVD WIFI CarPlay\nBrandneu\nEUR 232,12\nKostenloser Versand\n0 Gebote\n9Std 13 Min\nNone\n********************************************************************************\nhttps://www.ebay.de/itm/Apple-iPhone-7-128GB-Gold-Ohne-Simlock-A1778-GSM/313194581906?epid=225208826&hash=item48ebda0f92%3Ag%3A48sAAOSwMcBfQ2dD&LH_Auction=1\nhttps://ir.ebaystatic.com/cr/v/c1/s_1x2.gif\n313194581906\nApple iPhone 7 - 128GB - Gold (Ohne Simlock) A1778 (GSM)\nNur Ersatzteile\nEUR 30,50\n+EUR 4,99 Versand\n10 Gebote\n9Std 13 Min\nNone\n********************************************************************************\nhttps://www.ebay.de/itm/4GB-64GB-Android-10-0-Car-Radio-Fur-VW-Passat-Golf-Touran-Autoradio-GPS-BT-4-0/313198796572?hash=item48ec1a5f1c%3Ag%3Ad4gAAOSwlwRenWRI&LH_Auction=1\nhttps://ir.ebaystatic.com/cr/v/c1/s_1x2.gif\n313198796572\n4GB+64GB Android 10.0 Car Radio Für VW Passat Golf Touran Autoradio GPS BT-4.0\nBrandneu\nEUR 223,99\nKostenloser Versand\n0 Gebote\n9Std 13 Min\nNone\n********************************************************************************\nhttps://www.ebay.de/itm/Iphone-11-256-Gb-Violetta-offene-defekt/164357267966?hash=item264474e1fe%3Ag%3AFjEAAOSwHfdfOURg&LH_Auction=1\nhttps://ir.ebaystatic.com/cr/v/c1/s_1x2.gif\n164357267966\nIphone 11 256 Gb Violetta offene defekt \nNur Ersatzteile\nEUR 319,00\n+EUR 19,99 Versand\n0 Gebote\n9Std 14 Min\nNone\n********************************************************************************\nhttps://www.ebay.de/itm/MarmorVotivkerze-Weihnachtsduft-24-Stk-B-Ware/333698418296?epid=15021417181&hash=item4db1f9c678%3Ag%3A%7EGgAAOSw1NJfQ2ga&LH_Auction=1\nhttps://ir.ebaystatic.com/cr/v/c1/s_1x2.gif\n333698418296\nMarmorVotivkerze Weihnachtsduft, 24 Stk., B-Ware\nNeu (Sonstige)\nEUR 3,01\n+EUR 4,90 Versand\n3 Gebote\n9Std 14 Min\nNone\n********************************************************************************\nhttps://www.ebay.de/itm/iphone-7-plus-defekt-32gb/333698418844?hash=item4db1f9c89c%3Ag%3AnWoAAOSwcylfQ2dU&LH_Auction=1\nhttps://ir.ebaystatic.com/cr/v/c1/s_1x2.gif\n333698418844\niphone 7 plus defekt 32gb\nNur Ersatzteile\nEUR 71,00\n+EUR 4,99 Versand\n11 Gebote\n9Std 16 Min\nNone\n********************************************************************************\nhttps://www.ebay.de/itm/Apple-iPod-touch-4-Gen-MD059FD-A-64GB-White-NEU/283988619074?hash=item421f0a6f42%3Ag%3AvU4AAOSwrkJe2MtL&LH_Auction=1\nhttps://ir.ebaystatic.com/cr/v/c1/s_1x2.gif\n283988619074\nApple iPod touch 4. Gen. MD059FD/A 64GB White NEU\nNeu (Sonstige)\nEUR 249,00\nKostenloser Versand\n0 Gebote\n9Std 17 Min\nNone\n********************************************************************************\nhttps://www.ebay.de/itm/original-Apple-Ohrhohrer-Kopfhohrer-fur-ipad-oder-iphon-originalverpackt/233692718136?hash=item36692be438%3Ag%3AQmsAAOSw4F5fKD9M&LH_Auction=1\nhttps://ir.ebaystatic.com/cr/v/c1/s_1x2.gif\n233692718136\noriginal Apple Ohrhöhrer Kopfhöhrer für ipad oder iphon - originalverpackt\nNeu (Sonstige)\nEUR 10,50\nKeine Angaben zum Versand\n0 Gebote\n9Std 18 Min\nSofort-Kaufen\n********************************************************************************\nhttps://www.ebay.de/itm/OSRAM-Smart-Plug-EU-schaltbare-Steckdose-Bluetooth-Apple-homekit-4058075172197/184424351543?hash=item2af08c4737%3Ag%3AKDEAAOSwgdZe5zi1&LH_Auction=1\nhttps://ir.ebaystatic.com/cr/v/c1/s_1x2.gif\n184424351543\nOSRAM Smart+ Plug EU schaltbare Steckdose Bluetooth Apple homekit  4058075172197\nGebraucht\nEUR 22,00\n+EUR 6,00 Versand\n0 Gebote\n9Std 19 Min\nSofort-Kaufen\n********************************************************************************\nhttps://www.ebay.de/itm/Apple-iPhone-8-64GB-Space-Grau-Ohne-Simlock-A1905-GSM/154057222210?epid=239161103&hash=item23de86a842%3Ag%3A10kAAOSwwVBfMpRt&LH_Auction=1\nhttps://ir.ebaystatic.com/cr/v/c1/s_1x2.gif\n154057222210\nApple iPhone 8 - 64GB - Space Grau (Ohne Simlock) A1905 (GSM)\nGeneralüberholt\nEUR 181,00\n+EUR 4,99 Versand\n4 Gebote\n9Std 19 Min\nNone\n********************************************************************************\nhttps://www.ebay.de/itm/New-glass-9H-for-Apple-iPhone-7-8-Fil/114373045961?hash=item1aa12a2ec9%3Ag%3AUC0AAOSw9OpfQ2kd&LH_Auction=1\nhttps://ir.ebaystatic.com/cr/v/c1/s_1x2.gif\n114373045961\nNew glass 9H for Apple iPhone 7 8 Fil\nBrandneu\nEUR 3,70\n+EUR 1,55 Versand\n0 Gebote\n9Std 20 Min\nNone\n********************************************************************************\nhttps://www.ebay.de/itm/Original-Verpackung-OVP-Box-Schachtel-Karton-Apple-Ipad-Wi-Fi-7-TH-Gen-32GB-Leer/283988620053?hash=item421f0a7315%3Ag%3AeekAAOSwTltfDAe1&LH_Auction=1\nhttps://ir.ebaystatic.com/cr/v/c1/s_1x2.gif\n283988620053\nOriginal Verpackung OVP Box Schachtel Karton Apple Ipad Wi-Fi 7 TH Gen 32GB Leer\nGebraucht\nEUR 1,00\n+EUR 4,99 Versand\n0 Gebote\n9Std 20 Min\nNone\n********************************************************************************\nhttps://www.ebay.de/itm/mp3-player-Apple-ipod-shuffle-2GB-silber-schwarz-Model-A1373-wie-NEU/324273637413?hash=item4b80370825%3Ag%3AinoAAOSwA%7EVfOmQs&LH_Auction=1\nhttps://ir.ebaystatic.com/cr/v/c1/s_1x2.gif\n324273637413\nmp3 player Apple ipod shuffle 2GB, silber-schwarz Model A1373 wie NEU\nGebraucht\nEUR 15,00\n+EUR 4,99 Versand\n1 Gebot\n9Std 20 Min\nNone\n********************************************************************************\nhttps://www.ebay.de/itm/Morpheus-M4s-Case-fur-Apple-iPhone-XR-Hulle-fur-M4s-Halterungen-ohne-Halter/143697074678?hash=item21750359f6%3Ag%3Aq1UAAOSwGcpfHDTl&LH_Auction=1\nhttps://ir.ebaystatic.com/cr/v/c1/s_1x2.gif\n143697074678\nMorpheus M4s Case für Apple iPhone XR Hülle für M4s Halterungen (ohne Halter)\nGebraucht\nEUR 14,00\n+EUR 5,00 Versand\n0 Gebote\n9Std 22 Min\nNone\n********************************************************************************\nhttps://www.ebay.de/itm/OVP-NEU-HAMA-Sport-Case-Apple-fur-iPod-nano-4G/254704194078?hash=item3b4d8d921e%3Ag%3AuEQAAOSwM5tcE-4o&LH_Auction=1\nhttps://ir.ebaystatic.com/cr/v/c1/s_1x2.gif\n254704194078\nOVP  NEU !  HAMA Sport Case Apple für iPod nano 4G\nBrandneu\nEUR 1,99\n+EUR 2,50 Versand\n0 Gebote\n9Std 22 Min\nNone\n********************************************************************************\nhttps://www.ebay.de/itm/OVP-NEU-HAMA-Reise-Ladegerat-Apple-fur-iPod-und-iPhone/254704194079?hash=item3b4d8d921f%3Ag%3A9GoAAOSw27lcE9qU&LH_Auction=1\nhttps://ir.ebaystatic.com/cr/v/c1/s_1x2.gif\n254704194079\nOVP  NEU !  HAMA Reise - Ladegerät Apple für iPod und iPhone\nBrandneu\nEUR 3,99\n+EUR 2,50 Versand\n0 Gebote\n9Std 22 Min\nNone\n********************************************************************************\nhttps://www.ebay.de/itm/Apple-iPhone-6-32GB-Space-Grau-Ohne-Simlock-A1586-CDMA-GSM/392918400501?epid=237876757&hash=item5b7bc2fdf5%3Ag%3AfG8AAOSwSQFfHnzC&LH_Auction=1\nhttps://ir.ebaystatic.com/cr/v/c1/s_1x2.gif\n392918400501\nApple iPhone 6 - 32GB - Space Grau (Ohne Simlock) A1586 (CDMA + GSM)\nGebraucht\nEUR 200,00\n+EUR 5,00 Versand\n0 Gebote\n9Std 22 Min\nNone\n********************************************************************************\nhttps://www.ebay.de/itm/Latex-Schwarz-Corset-Taillenclip-Gummi-Sexy-Korsett-Handgemacht-Ganzanzug-S-XXL/303663681456?hash=item46b3c40fb0%3Ag%3ASsIAAOSw-GBfDp0U&LH_Auction=1\nhttps://ir.ebaystatic.com/cr/v/c1/s_1x2.gif\n303663681456\nLatex Schwarz Corset Taillenclip Gummi Sexy Korsett Handgemacht Ganzanzug S-XXL\nBrandneu\nEUR 38,99\n+EUR 14,99 Versand\n0 Gebote\n9Std 24 Min\nNone\n********************************************************************************\nhttps://www.ebay.de/itm/Latex-Klar-Rot-Corset-Taillenclip-Gummi-Sexy-Korsett-Handgemacht-Ganzanzug-S-XXL/293703825731?hash=item44621cb943%3Ag%3A9KsAAOSwGcpfDpoO&LH_Auction=1\nhttps://ir.ebaystatic.com/cr/v/c1/s_1x2.gif\n293703825731\nLatex Klar&Rot Corset Taillenclip Gummi Sexy Korsett Handgemacht Ganzanzug S-XXL\nBrandneu\nEUR 37,99\n+EUR 16,99 Versand\n0 Gebote\n9Std 24 Min\nNone\n********************************************************************************\nhttps://www.ebay.de/itm/Latex-Rubber-Lace-Blau-Weis-Corset-Taillenclip-Sexy-Korsett-Handgemacht-S-XXL/293703825802?hash=item44621cb98a%3Ag%3AWn8AAOSwmThfDpzM&LH_Auction=1\nhttps://ir.ebaystatic.com/cr/v/c1/s_1x2.gif\n293703825802\nLatex Rubber Lace Blau&Weiß Corset Taillenclip Sexy Korsett Handgemacht  S-XXL\nBrandneu\nEUR 46,99\n+EUR 16,99 Versand\n0 Gebote\n9Std 25 Min\nNone\n********************************************************************************\nhttps://www.ebay.de/itm/Latex-Weis-Corset-Taillenclip-Gummi-Sexy-Korsett-Handgemacht-Ganzanzug-Zip-S-XXL/293703825889?hash=item44621cb9e1%3Ag%3AfSQAAOSwRA9fDpvb&LH_Auction=1\nhttps://ir.ebaystatic.com/cr/v/c1/s_1x2.gif\n293703825889\nLatex Weiß Corset Taillenclip Gummi Sexy Korsett Handgemacht Ganzanzug Zip S-XXL\nBrandneu\nEUR 35,85\n+EUR 16,99 Versand\n0 Gebote\n9Std 25 Min\nNone\n********************************************************************************\nhttps://www.ebay.de/itm/Latex-Corset-Klar-Navy-Blue-Taillenclip-Sexy-Korsett-Handgemacht-Ganzanzug-S-XXL/303663681878?hash=item46b3c41156%3Ag%3A9pwAAOSwGcpfDpvp&LH_Auction=1\nhttps://ir.ebaystatic.com/cr/v/c1/s_1x2.gif\n303663681878\nLatex Corset Klar&Navy Blue Taillenclip Sexy Korsett Handgemacht Ganzanzug S-XXL\nBrandneu\nEUR 36,75\n+EUR 16,99 Versand\n0 Gebote\n9Std 25 Min\nNone\n********************************************************************************\nhttps://www.ebay.de/itm/Latex-Rosa-Schwarz-Corset-Sling-Zipper-Taillenclip-Sexy-Korsett-Ganzanzug-S-XXL/303663681998?hash=item46b3c411ce%3Ag%3AikEAAOSwCP5fDpvD&LH_Auction=1\nhttps://ir.ebaystatic.com/cr/v/c1/s_1x2.gif\n303663681998\nLatex Rosa&Schwarz Corset Sling Zipper Taillenclip Sexy Korsett Ganzanzug S-XXL\nBrandneu\nEUR 38,66\n+EUR 16,99 Versand\n0 Gebote\n9Std 26 Min\nNone\n********************************************************************************\nhttps://www.ebay.de/itm/Latex-Blue-Rot-Corset-Sling-Taillenclip-Gummi-Sexy-Korsett-Handgemacht-Zip-S-XXL/303663682037?hash=item46b3c411f5%3Ag%3ATTYAAOSwdIhfDpxO&LH_Auction=1\nhttps://ir.ebaystatic.com/cr/v/c1/s_1x2.gif\n303663682037\nLatex Blue&Rot Corset Sling Taillenclip Gummi Sexy Korsett Handgemacht Zip S-XXL\nBrandneu\nEUR 39,90\n+EUR 16,99 Versand\n0 Gebote\n9Std 26 Min\nNone\n********************************************************************************\nhttps://www.ebay.de/itm/Latex-Rubber-Weis-Schwarz-Corset-Taillenclip-Sexy-Korsett-Handgemacht-Zip-S-XXL/303663682091?hash=item46b3c4122b%3Ag%3ANJgAAOSwYPJfDpxb&LH_Auction=1\nhttps://ir.ebaystatic.com/cr/v/c1/s_1x2.gif\n303663682091\nLatex Rubber Weiß&Schwarz Corset Taillenclip Sexy Korsett Handgemacht Zip S-XXL\nBrandneu\nEUR 31,99\n+EUR 16,99 Versand\n0 Gebote\n9Std 26 Min\nNone\n********************************************************************************\nhttps://www.ebay.de/itm/NEU-Apple-Watch-HERMES-Armband-42-44mm-Silikon-orange-in-Originalverpackung/313196611401?hash=item48ebf90749%3Ag%3AgCkAAOSwUIRfRg09&LH_Auction=1\nhttps://ir.ebaystatic.com/cr/v/c1/s_1x2.gif\n313196611401\nNEU Apple Watch HERMÉS Armband 42 44mm Silikon orange in Originalverpackung\nBrandneu\nEUR 66,00\n+EUR 4,99 Versand\n9 Gebote\n9Std 27 Min\nNone\n********************************************************************************\nhttps://www.ebay.de/itm/Apple-Original-2-x-4-GB-DDR4-2400T-RAM-aus-Apple-iMac-2019/133501400174?hash=item1f154db46e%3Ag%3AfBgAAOSwbURcyfR%7E&LH_Auction=1\nhttps://ir.ebaystatic.com/cr/v/c1/s_1x2.gif\n133501400174\nApple Original 2 x 4-GB DDR4 2400T RAM aus Apple iMac 2019\nBrandneu\nEUR 29,00\n+EUR 5,49 Versand\n0 Gebote\n9Std 27 Min\nNone\n********************************************************************************\nhttps://www.ebay.de/itm/Kopfhorer-Apple-Original-iPhone/254698105576?hash=item3b4d30aae8%3Ag%3A%7ExAAAOSw3dVfJXFt&LH_Auction=1\nhttps://ir.ebaystatic.com/cr/v/c1/s_1x2.gif\n254698105576\nKopfhörer Apple Original iPhone\nBrandneu\nEUR 8,00\n+EUR 2,70 Versand\n0 Gebote\n9Std 27 Min\nNone\n********************************************************************************\nhttps://www.ebay.de/itm/Schutzhulle-Apple-AirPods-Kopfhorer-Case-Silicone-Protective-Skin-Schutz-Hulle/264846147344?hash=item3daa0f7f10%3Ag%3Ag0oAAOSw7vRfRxSp&LH_Auction=1\nhttps://ir.ebaystatic.com/cr/v/c1/s_1x2.gif\n264846147344\nSchutzhülle Apple AirPods Kopfhörer Case Silicone Protective Skin Schutz Hülle\nBrandneu\nEUR 1,99\nKostenloser Versand\n0 Gebote\n9Std 28 Min\nNone\n********************************************************************************\nhttps://www.ebay.de/itm/Apple-iPhone-7-128GB-Schwarz-Sehr-Gut-A1778/233694730848?epid=225208914&hash=item36694a9a60%3Ag%3AiS4AAOSwChpfHVjv&LH_Auction=1\nhttps://ir.ebaystatic.com/cr/v/c1/s_1x2.gif\n233694730848\nApple iPhone 7 - 128GB - Schwarz (Sehr Gut) A1778  \nGebraucht\nEUR 150,00\n+EUR 5,99 Versand\n0 Gebote\n9Std 29 Min\nNone\n********************************************************************************\nhttps://www.ebay.de/itm/Schutzhulle-Apple-AirPods-Kopfhorer-Case-Silicone-Protective-Skin-Schutz-Hulle/264846147874?hash=item3daa0f8122%3Ag%3AQFwAAOSwUblfRxS6&LH_Auction=1\nhttps://ir.ebaystatic.com/cr/v/c1/s_1x2.gif\n264846147874\nSchutzhülle Apple AirPods Kopfhörer Case Silicone Protective Skin Schutz Hülle\nBrandneu\nEUR 1,99\nKostenloser Versand\n0 Gebote\n9Std 29 Min\nNone\n********************************************************************************\nhttps://www.ebay.de/itm/Ipad-16-Gb-Weiss-Verpackung/114373065029?hash=item1aa12a7945%3Ag%3AwiEAAOSwdNleqnqg&LH_Auction=1\nhttps://ir.ebaystatic.com/cr/v/c1/s_1x2.gif\n114373065029\nIpad 16 Gb Weiss Verpackung\nGebraucht\nEUR 6,00\n+EUR 4,30 Versand\n0 Gebote\n9Std 30 Min\nNone\n********************************************************************************\nhttps://www.ebay.de/itm/pajoma-Raumduft-Rose-8x100ml-altes-Design-B-Ware/333698427646?epid=5030612166&hash=item4db1f9eafe%3Ag%3AmJcAAOSwvQdfQ2wD&LH_Auction=1\nhttps://ir.ebaystatic.com/cr/v/c1/s_1x2.gif\n333698427646\npajoma Raumduft Rose, 8x100ml, altes Design, B-Ware\nNeu (Sonstige)\nEUR 8,35\n+EUR 4,90 Versand\n9 Gebote\n9Std 31 Min\nNone\n********************************************************************************\nhttps://www.ebay.de/itm/12-x-pajoma-Raumduft-Lavendel-Apothecary-Edition-200ml-B-Ware/333698427853?hash=item4db1f9ebcd%3Ag%3A9zcAAOSwfVRfN47g&LH_Auction=1\nhttps://ir.ebaystatic.com/cr/v/c1/s_1x2.gif\n333698427853\n12 x pajoma Raumduft Lavendel, Apothecary Edition, 200ml -B-Ware\nNeu (Sonstige)\nEUR 17,00\n+EUR 4,90 Versand\n17 Gebote\n9Std 32 Min\nNone\n********************************************************************************\nhttps://www.ebay.de/itm/Orginal-Apple-Netzteil-Apple-MagSafe-Power-Adapter-85W/293703831288?hash=item44621ccef8%3Ag%3AYo0AAOSw4n1fCHGl&LH_Auction=1\nhttps://ir.ebaystatic.com/cr/v/c1/s_1x2.gif\n293703831288\nOrginal Apple Netzteil Apple MagSafe Power Adapter 85W\nNur Ersatzteile\nEUR 7,85\n+EUR 4,00 Versand\n1 Gebot\n9Std 33 Min\nNone\n********************************************************************************\nhttps://www.ebay.de/itm/Apple-iPhone-XS-64GB-Gold-TOP-ZUSTAND/264842193746?hash=item3da9d32b52%3Ag%3Ao9QAAOSwudpfQ201&LH_Auction=1\nhttps://ir.ebaystatic.com/cr/v/c1/s_1x2.gif\n264842193746\nApple iPhone XS - 64GB - Gold TOP ZUSTAND\nGebraucht\nEUR 379,00\n+EUR 8,99 Versand\n39 Gebote\n9Std 36 Min\nNone\n********************************************************************************\nhttps://www.ebay.de/itm/Apple-iPod-shuffle-2GB-4-Generation-Orange-metallic-Neu-w/114376158428?hash=item1aa159acdc%3Ag%3AJtsAAOSweVZenJPe&LH_Auction=1\nhttps://ir.ebaystatic.com/cr/v/c1/s_1x2.gif\n114376158428\nApple iPod shuffle  2GB  4. Generation   Orange  (metallic)  * Neu w.*\nGebraucht\nEUR 42,95\n+EUR 4,99 Versand\n0 Gebote\n9Std 38 Min\nNone\n********************************************************************************\nhttps://www.ebay.de/itm/Biete-euch-einen-Imac-fuer-Sammler-der-ersten-Generation-wie-neu/324271273306?hash=item4b8012f55a%3Ag%3AcUIAAOSwVtZaJDPZ&LH_Auction=1\nhttps://ir.ebaystatic.com/cr/v/c1/s_1x2.gif\n324271273306\n Biete euch einen Imac fuer Sammler der ersten Generation wie neu\nNeu (Sonstige)\nEUR 237,00\n+EUR 9,99 Versand\n0 Gebote\n9Std 39 Min\nNone\n********************************************************************************\nhttps://www.ebay.de/itm/Apple-iPhone-6-Plus-128GB-Space-Grau-Ohne-Simlock-A1524-CDMA-GSM/193635046595?epid=203708262&hash=item2d158c54c3%3Ag%3AcZQAAOSw8xRfFUk8&LH_Auction=1\nhttps://ir.ebaystatic.com/cr/v/c1/s_1x2.gif\n193635046595\nApple iPhone 6 Plus - 128GB - Space Grau (Ohne Simlock) A1524 (CDMA + GSM)\nGebraucht\nEUR 180,00\n+EUR 4,99 Versand\n0 Gebote\n9Std 40 Min\nNone\n********************************************************************************\nhttps://www.ebay.de/itm/Apple-MacBook-A1342-33-8-cm-13-3-Zoll-Laptop-MC516D-A-Mai-2010/114373076029?hash=item1aa12aa43d%3Ag%3A2ysAAOSw1EtfQ18o&LH_Auction=1\nhttps://ir.ebaystatic.com/cr/v/c1/s_1x2.gif\n114373076029\nApple MacBook A1342 33,8 cm (13,3 Zoll) Laptop - MC516D/A (Mai, 2010)\nGebraucht\nEUR 113,00\n+EUR 5,99 Versand\n19 Gebote\n9Std 40 Min\nNone\n********************************************************************************\nhttps://www.ebay.de/itm/Duftkerze-im-Glas-BAMBOO-Sonderanfertigung/333698435786?hash=item4db1fa0aca%3Ag%3Ak6QAAOSwIblfN5DB&LH_Auction=1\nhttps://ir.ebaystatic.com/cr/v/c1/s_1x2.gif\n333698435786\nDuftkerze im Glas BAMBOO, Sonderanfertigung\nBrandneu\nEUR 2,60\n+EUR 4,90 Versand\n4 Gebote\n9Std 40 Min\nNone\n********************************************************************************\nhttps://www.ebay.de/itm/Apple-iPhone-6-Plus-Gold-64-GB-OVP-Und-5-Schutzhullen-Zubehorpaket/402396584308?hash=item5db0b49974%3Ag%3AeZAAAOSw9fBfOstH&LH_Auction=1\nhttps://ir.ebaystatic.com/cr/v/c1/s_1x2.gif\n402396584308\nApple iPhone 6 Plus Gold 64 GB OVP Und 5 Schutzhüllen Zubehörpaket\nGebraucht\nEUR 145,00\n+EUR 5,00 Versand\n0 Gebote\n9Std 41 Min\nNone\n********************************************************************************\nhttps://www.ebay.de/itm/Apple-iPhone-Displayschutzfolien-Folie-2x-Glass-Screen-Protector-klar-9H-matt/174406805146?hash=item289b74a69a%3Ag%3AKcIAAOSwv7pepZEr&LH_Auction=1\nhttps://ir.ebaystatic.com/cr/v/c1/s_1x2.gif\n174406805146\nApple iPhone Displayschutzfolien Folie 2x Glass Screen Protector klar 9H matt\nBrandneu\nEUR 8,00\n+EUR 3,00 Versand\n0 Gebote\n9Std 42 Min\nNone\n********************************************************************************\nhttps://www.ebay.de/itm/4-x-Raumduft-LETTERS-mit-Dekor-T-B-Ware/333698439999?hash=item4db1fa1b3f%3Ag%3AJyoAAOSwUwRfN5HM&LH_Auction=1\nhttps://ir.ebaystatic.com/cr/v/c1/s_1x2.gif\n333698439999\n4 x Raumduft LETTERS mit Dekor \"T\", B-Ware\nNeu (Sonstige)\nEUR 1,00\n+EUR 4,90 Versand\n1 Gebot\n9Std 45 Min\nNone\n********************************************************************************\nhttps://www.ebay.de/itm/4-x-Raumduft-LETTERS-mit-Dekor-G-B-Ware/333698440655?hash=item4db1fa1dcf%3Ag%3AasUAAOSwqNVfN5Iw&LH_Auction=1\nhttps://ir.ebaystatic.com/cr/v/c1/s_1x2.gif\n333698440655\n4 x Raumduft LETTERS mit Dekor \"G\", B-Ware\nNeu (Sonstige)\nEUR 1,00\n+EUR 4,90 Versand\n1 Gebot\n9Std 47 Min\nNone\n********************************************************************************\nhttps://www.ebay.de/itm/Ladestation-Iphone-4-4s-by-OTB/224130952626?hash=item342f3eedb2%3Ag%3AWAAAAOSwfyZdY8nw&LH_Auction=1\nhttps://ir.ebaystatic.com/cr/v/c1/s_1x2.gif\n224130952626\nLadestation Iphone 4 + 4s by OTB\nGebraucht\nEUR 1,90\n+EUR 4,40 Versand\n0 Gebote\n9Std 50 Min\nNone\n********************************************************************************\nhttps://www.ebay.de/itm/Apple-MacBook-Air-13-3-Laptop-MQD32D-A-June-2017/293706619018?epid=238139792&hash=item446247588a%3Ag%3Ay0IAAOSw1g9fQNyb&LH_Auction=1\nhttps://ir.ebaystatic.com/cr/v/c1/s_1x2.gif\n293706619018\nApple MacBook Air 13.3\" Laptop - MQD32D/A ( June, 2017)\nGebraucht\nEUR 450,00\n+EUR 5,99 Versand\n0 Gebote\n9Std 51 Min\nSofort-Kaufen\n********************************************************************************\nhttps://www.ebay.de/itm/Parfumol-synthetisch-VANILLA-SANDALWOOD-fur-Raumdufte-100ml/333698442239?hash=item4db1fa23ff%3Ag%3ASNgAAOSwrStfM56n&LH_Auction=1\nhttps://ir.ebaystatic.com/cr/v/c1/s_1x2.gif\n333698442239\nParfumöl synthetisch -VANILLA SANDALWOOD- für Raumdüfte, 100ml\nNeu (Sonstige)\nEUR 1,00\n+EUR 4,90 Versand\n1 Gebot\n9Std 51 Min\nNone\n********************************************************************************\nhttps://www.ebay.de/itm/Duftkerze-im-Glas-EARL-GREY-Sonderanfertigung/333698442326?hash=item4db1fa2456%3Ag%3AEGUAAOSwwY9fN5NE&LH_Auction=1\nhttps://ir.ebaystatic.com/cr/v/c1/s_1x2.gif\n333698442326\nDuftkerze im Glas EARL GREY, Sonderanfertigung\nBrandneu\nEUR 1,50\n+EUR 4,90 Versand\n2 Gebote\n9Std 51 Min\nNone\n********************************************************************************\nhttps://www.ebay.de/itm/Apple-iPhone-8-Plus-64GB-Gold-Ohne-Simlock-A1897/233694746492?epid=239161073&hash=item36694ad77c%3Ag%3ASMQAAOSwK1dfRgGk&LH_Auction=1\nhttps://ir.ebaystatic.com/cr/v/c1/s_1x2.gif\n233694746492\nApple iPhone 8 Plus - 64GB - Gold (Ohne Simlock) A1897\nGebraucht\nEUR 250,00\n+EUR 5,99 Versand\n1 Gebot\n9Std 53 Min\nNone\n********************************************************************************\nhttps://www.ebay.de/itm/Motherboard-Macbook-Pro-11-4-Modell-A1398-C02QQJ5MG8WN-Baujahr-11-11-2015/303667584389?hash=item46b3ff9d85%3Ag%3A8i4AAOSwxJNfPi9r&LH_Auction=1\nhttps://ir.ebaystatic.com/cr/v/c1/s_1x2.gif\n303667584389\nMotherboard Macbook Pro 11,4 Modell A1398 , C02QQJ5MG8WN Baujahr 11/11/2015---\nNur Ersatzteile\nEUR 99,99\n+EUR 7,60 Versand\n0 Gebote\n9Std 53 Min\nSofort-Kaufen\n********************************************************************************\nhttps://www.ebay.de/itm/HP-OfficeJet-Pro-8210-Tintenstrahldrucker-Drucker-LAN-WLAN-Duplex-HP-I/264839280978?epid=2254414883&hash=item3da9a6b952%3Ag%3AKLoAAOSwbW9fP3MZ&LH_Auction=1\nhttps://ir.ebaystatic.com/cr/v/c1/s_1x2.gif\n264839280978\nHP OfficeJet Pro 8210 Tintenstrahldrucker (Drucker, LAN, WLAN, Duplex, HP I\nNeu (Sonstige)\nEUR 60,00\n+EUR 6,90 Versand\n1 Gebot\n9Std 53 Min\nNone\n********************************************************************************\n"
    }
   ],
   "source": [
    "for k,item in enumerate(items[1:]):\n",
    "    # print(item)\n",
    "    url = item.find('a', {'class': 's-item__link'}).attrs['href']\n",
    "    item_id = url.split(\"?hash\")[0]\n",
    "    item_id = item_id.split(\"/\")[-1]\n",
    "    item_id = item_id.split(\"?\")[0]\n",
    "    #TODO: correct for wrong case\n",
    "    title = item.find('h3', {'class': 's-item__title'}).text\n",
    "    item_condition = item.find('span', {'class': 'SECONDARY_INFO'})\n",
    "    if item_condition:\n",
    "        item_condition = item_condition.text\n",
    "    buyitnow = item.find('span', {'class': 's-item__dynamic s-item__buyItNowOption'})\n",
    "    if buyitnow:\n",
    "        buyitnow = buyitnow.text\n",
    "    shipping_price = item.find('span', {'class': 's-item__shipping s-item__logisticsCost'})\n",
    "    shipping = False\n",
    "    if shipping_price:\n",
    "        shipping_price = shipping_price.text\n",
    "        shipping = True\n",
    "    image_url = item.find('img', {'class': \"s-item__image-img\"}).attrs['src']\n",
    "    \n",
    "    highest_price = item.find('span', {'class': 's-item__price'}).text\n",
    "    nb_bids = item.find('span', {'class': 's-item__bids s-item__bidCount'}).text\n",
    "    update_time = datetime.now()\n",
    "    remaining_time = item.find('span', {'class': 's-item__time-left'}).text\n",
    "    # TODO: calculate endtime\n",
    "    # end_time = update_time + remaining_time\n",
    "    \n",
    "    \n",
    "    print(url)\n",
    "    print(image_url)\n",
    "    print(item_id)\n",
    "    print(title)\n",
    "    print(item_condition)\n",
    "    print(highest_price)\n",
    "    print(shipping_price)\n",
    "    print(nb_bids)\n",
    "    print(remaining_time)\n",
    "    print(buyitnow)\n",
    "    # if buyitnow:\n",
    "    #     print(\"\\n\\n\\n\\n\\n\\n\\n\")\n",
    "    print(\"********************************************************************************\")"
   ]
  },
  {
   "cell_type": "markdown",
   "metadata": {},
   "source": [
    "## For Item search query"
   ]
  },
  {
   "cell_type": "code",
   "execution_count": 62,
   "metadata": {},
   "outputs": [],
   "source": [
    "# item_url = \"https://www.ebay.de/itm/Apple-MacBook-Air-11-6-Zoll-Juni-2013/143699259235?hash=item217524af63%3Ag%3AlOcAAOSwfEVfRSRF&LH_Auction=1\"\n",
    "item_url = \"https://www.ebay.de/itm/HP-OfficeJet-Pro-8210-Tintenstrahldrucker-Drucker-LAN-WLAN-Duplex-HP-I/264839280978?epid=2254414883&hash=item3da9a6b952%3Ag%3AKLoAAOSwbW9fP3MZ&LH_Auction=1\""
   ]
  },
  {
   "cell_type": "code",
   "execution_count": 63,
   "metadata": {
    "tags": []
   },
   "outputs": [
    {
     "output_type": "stream",
     "name": "stderr",
     "text": "DEBUG:urllib3.connectionpool:Starting new HTTPS connection (1): www.ebay.de:443\nDEBUG:urllib3.connectionpool:https://www.ebay.de:443 \"GET /itm/HP-OfficeJet-Pro-8210-Tintenstrahldrucker-Drucker-LAN-WLAN-Duplex-HP-I/264839280978?epid=2254414883&hash=item3da9a6b952%3Ag%3AKLoAAOSwbW9fP3MZ&LH_Auction=1 HTTP/1.1\" 200 None\n"
    }
   ],
   "source": [
    "response = requests.get(item_url, headers=headers)\n",
    "with open(\"item.html\", \"wb\") as f: \n",
    "    # Writing data to a file \n",
    "    f.write(response.content) "
   ]
  },
  {
   "cell_type": "code",
   "execution_count": 64,
   "metadata": {},
   "outputs": [],
   "source": [
    "page = response.text\n",
    "doc = soup(page, \"html.parser\")"
   ]
  },
  {
   "cell_type": "code",
   "execution_count": 65,
   "metadata": {},
   "outputs": [
    {
     "output_type": "execute_result",
     "data": {
      "text/plain": "['Kreditkarte',\n 'Barzahlung bei Abholung',\n 'Kreditkarte (bitte Verkäufer kontaktieren)',\n 'Überweisung']"
     },
     "metadata": {},
     "execution_count": 65
    }
   ],
   "source": [
    "payments = doc.find('div', {'class': 'app-payments-btf-wrapper__paymentmethod'})\n",
    "payments = payments.find_all('span')[::2]\n",
    "payments = [p.text for p in payments]\n",
    "payments\n"
   ]
  },
  {
   "cell_type": "code",
   "execution_count": 66,
   "metadata": {},
   "outputs": [
    {
     "output_type": "execute_result",
     "data": {
      "text/plain": "'Maßbach, Deutschland'"
     },
     "metadata": {},
     "execution_count": 66
    }
   ],
   "source": [
    "location = doc.find('div', {'class': 'app-location-wrapper'})\n",
    "location = location.find('div', {'class': 'cc-textblock'}).text\n",
    "location"
   ]
  },
  {
   "cell_type": "code",
   "execution_count": 67,
   "metadata": {},
   "outputs": [
    {
     "output_type": "execute_result",
     "data": {
      "text/plain": "['Artikelzustand: Neu: Sonstige (siehe Artikelbeschreibung)',\n 'Anmerkungen des Verkäufers: Habe den Drucker am 13.8.20 gekauft, ist also neuwertig und hat noch Garantie bis 13.8.21',\n 'Stückzahl: 1 verfügbar',\n 'Technologie: Inkjet',\n 'Herstellernummer: D9L63A#A81',\n 'Besonderheiten: Duplex, Netzwerkfähig',\n 'Model: D9L63A']"
     },
     "metadata": {},
     "execution_count": 67
    }
   ],
   "source": [
    "info = doc.find('div', {'class': 'app-chevron-wrapper__wrapper row'})\n",
    "info = info.find_all('span')[::2]\n",
    "info = [i.text for i in info]\n",
    "info = [info[i*2] + \": \" + info[i*2+1] for i in range(len(info) // 2)]\n",
    "info"
   ]
  },
  {
   "cell_type": "code",
   "execution_count": 68,
   "metadata": {},
   "outputs": [
    {
     "output_type": "execute_result",
     "data": {
      "text/plain": "'44190'"
     },
     "metadata": {},
     "execution_count": 68
    }
   ],
   "source": [
    "seller_name = doc.find('span', {'class': 'app-sellerpresence__sellername'}).text\n",
    "seller_name"
   ]
  },
  {
   "cell_type": "code",
   "execution_count": 75,
   "metadata": {
    "tags": []
   },
   "outputs": [
    {
     "output_type": "execute_result",
     "data": {
      "text/plain": "['https://i.ebayimg.com/images/g/KLoAAOSwbW9fP3MZ/s-l400.png']"
     },
     "metadata": {},
     "execution_count": 75
    }
   ],
   "source": [
    "image_urls = doc.find_all('script')\n",
    "image_urls = image_urls[-1].contents[-1]\n",
    "m = re.findall('\"originalSize\":{\"height\":400,\"width\":400},\"URL\":\"https://i.ebayimg.com/images(.+?)\"}', image_urls)\n",
    "image_urls = [\"https://i.ebayimg.com/images\" + m[i] for i in range(len(m)//2)]\n",
    "image_urls"
   ]
  },
  {
   "cell_type": "code",
   "execution_count": 76,
   "metadata": {},
   "outputs": [
    {
     "output_type": "execute_result",
     "data": {
      "text/plain": "1"
     },
     "metadata": {},
     "execution_count": 76
    }
   ],
   "source": [
    "nb_images = len(image_urls)\n",
    "nb_images"
   ]
  },
  {
   "cell_type": "code",
   "execution_count": 77,
   "metadata": {},
   "outputs": [
    {
     "output_type": "execute_result",
     "data": {
      "text/plain": "'Drucktechnik: Tintenstrahl. Netzwerkfähiger Tintenstrahldrucker. Druckertyp: Einzelplatzdrucker. Druckgeschwindigkeit bis zu 22 S./Min. Duplexdruckgeschwindigkeit S/W mit bis zu 12 Seiten/Minute. Randloser Druck.'"
     },
     "metadata": {},
     "execution_count": 77
    }
   ],
   "source": [
    "description = doc.find('div', {\"class\": 'app-item-description__body cc-stdmargin__top--half'})\n",
    "description = description.find('span', {\"class\": \"app-item-description__body--text\"})\n",
    "description = description.text\n",
    "description"
   ]
  },
  {
   "cell_type": "code",
   "execution_count": 78,
   "metadata": {
    "tags": []
   },
   "outputs": [
    {
     "output_type": "stream",
     "name": "stdout",
     "text": "Loading page (1/2)\nRendering (2/2)                                                    \nDone                                                               \n"
    }
   ],
   "source": [
    "detail_description = doc.find_all('script')\n",
    "detail_description = detail_description[-1].contents[-1]\n",
    "detail_description\n",
    "m = re.findall('\"URL\":\"http://vi.raptor.ebaydesc.com/ws/eBayISAPI.dll(.+?)\"}}', detail_description)\n",
    "if m:\n",
    "    detail_description = \"http://vi.raptor.ebaydesc.com/ws/eBayISAPI.dll\" + m[0]\n",
    "    try:\n",
    "        imgkit.from_url(detail_description, 'detail_description_{}.jpg'.format(1))\n",
    "    except:\n",
    "        pass"
   ]
  },
  {
   "cell_type": "markdown",
   "metadata": {},
   "source": [
    "## For Bid number query"
   ]
  },
  {
   "cell_type": "code",
   "execution_count": 79,
   "metadata": {},
   "outputs": [
    {
     "output_type": "execute_result",
     "data": {
      "text/plain": "'https://www.ebay.de/bfl/viewbids/264839280978'"
     },
     "metadata": {},
     "execution_count": 79
    }
   ],
   "source": [
    "search_url = \"https://www.ebay.de/bfl/viewbids/{}\".format(item_id)\n",
    "# search_url = \"https://www.ebay.de/bfl/viewbids/{}\".format(264839280978)\n",
    "search_url"
   ]
  },
  {
   "cell_type": "code",
   "execution_count": 80,
   "metadata": {
    "tags": []
   },
   "outputs": [
    {
     "output_type": "stream",
     "name": "stderr",
     "text": "DEBUG:urllib3.connectionpool:Starting new HTTPS connection (1): www.ebay.de:443\nDEBUG:urllib3.connectionpool:https://www.ebay.de:443 \"GET /bfl/viewbids/264839280978 HTTP/1.1\" 200 None\n"
    }
   ],
   "source": [
    "response = requests.get(search_url, headers=headers)\n",
    "with open(\"bids.html\", \"wb\") as f: \n",
    "    # Writing data to a file \n",
    "    f.write(response.content) "
   ]
  },
  {
   "cell_type": "code",
   "execution_count": 81,
   "metadata": {},
   "outputs": [],
   "source": [
    "page = response.text\n",
    "doc = soup(page, \"html.parser\")"
   ]
  },
  {
   "cell_type": "code",
   "execution_count": 82,
   "metadata": {
    "tags": []
   },
   "outputs": [
    {
     "output_type": "stream",
     "name": "stdout",
     "text": "1\n1\n"
    }
   ],
   "source": [
    "# overall = doc.find('div', {'class': 'app-mobile-container-header_wrapper'})\n",
    "overall = doc.find_all('div', {'class': 'ui-label-value-list__value'})\n",
    "overall = [div.text for div in overall]\n",
    "nb_bids = overall[0]\n",
    "print(nb_bids)\n",
    "nb_bidders = overall[1]\n",
    "print(nb_bidders)"
   ]
  },
  {
   "cell_type": "code",
   "execution_count": 83,
   "metadata": {
    "tags": []
   },
   "outputs": [
    {
     "output_type": "stream",
     "name": "stdout",
     "text": "EUR 60,00\n[{'bidder': '2***9', 'price': 'EUR 60,00', 'datetime': '23 Aug 2020, 19:29:12 MESZ'}]\nEUR 60,00\n"
    }
   ],
   "source": [
    "bid_history = doc.find('div', {'class': 'app-bid-history__container'})\n",
    "bid_history = bid_history.find_all('span')\n",
    "bid_history = bid_history[::2]\n",
    "bid_history = [span.text for span in bid_history]\n",
    "start_price = bid_history[-1]\n",
    "print(start_price)\n",
    "bid_history = [{\"bidder\": bid_history[i*3], \\\n",
    "                \"price\": bid_history[i*3+1], \\\n",
    "                \"datetime\": bid_history[i*3+2]} \\\n",
    "                for i in range(len(bid_history)//3)]\n",
    "print(bid_history)\n",
    "highest_price = bid_history[0]['price']\n",
    "print(highest_price)"
   ]
  },
  {
   "cell_type": "markdown",
   "metadata": {},
   "source": [
    "## For ebay seller"
   ]
  },
  {
   "cell_type": "code",
   "execution_count": 84,
   "metadata": {},
   "outputs": [
    {
     "output_type": "execute_result",
     "data": {
      "text/plain": "'https://www.ebay.de/usr/44190'"
     },
     "metadata": {},
     "execution_count": 84
    }
   ],
   "source": [
    "user_url = \"https://www.ebay.de/usr/{}\".format(seller_name)\n",
    "user_url"
   ]
  },
  {
   "cell_type": "code",
   "execution_count": 85,
   "metadata": {
    "tags": []
   },
   "outputs": [
    {
     "output_type": "stream",
     "name": "stderr",
     "text": "DEBUG:urllib3.connectionpool:Starting new HTTPS connection (1): www.ebay.de:443\nDEBUG:urllib3.connectionpool:https://www.ebay.de:443 \"GET /usr/44190 HTTP/1.1\" 200 14089\n"
    }
   ],
   "source": [
    "response = requests.get(user_url, headers=headers)\n",
    "with open(\"user.html\", \"wb\") as f: \n",
    "    # Writing data to a file \n",
    "    f.write(response.content) "
   ]
  },
  {
   "cell_type": "code",
   "execution_count": 86,
   "metadata": {},
   "outputs": [],
   "source": [
    "page = response.text\n",
    "doc = soup(page, \"html.parser\")"
   ]
  },
  {
   "cell_type": "code",
   "execution_count": 87,
   "metadata": {},
   "outputs": [
    {
     "output_type": "execute_result",
     "data": {
      "text/plain": "'388'"
     },
     "metadata": {},
     "execution_count": 87
    }
   ],
   "source": [
    "feedback_score = doc.find('div',{'class':'mbg'})\n",
    "feedback_score = feedback_score.find_all('a')\n",
    "feedback_score = feedback_score[-1]\n",
    "feedback_score = feedback_score.contents[-1]\n",
    "feedback_score"
   ]
  },
  {
   "cell_type": "code",
   "execution_count": 88,
   "metadata": {},
   "outputs": [
    {
     "output_type": "execute_result",
     "data": {
      "text/plain": "'100% positive Bewertungen'"
     },
     "metadata": {},
     "execution_count": 88
    }
   ],
   "source": [
    "feedback_percentage = doc.find('div', {'class': 'perctg'})\n",
    "feedback_percentage = feedback_percentage.text.strip()\n",
    "feedback_percentage"
   ]
  },
  {
   "cell_type": "code",
   "execution_count": 89,
   "metadata": {},
   "outputs": [
    {
     "output_type": "execute_result",
     "data": {
      "text/plain": "'Standort: Deutschland, 44190 ist eBay-Mitglied seit 13. Jan. 2002'"
     },
     "metadata": {},
     "execution_count": 89
    }
   ],
   "source": [
    "registered_since = doc.find('h2', {'class': 'bio inline_value'})\n",
    "registered_since = registered_since.text.strip()\n",
    "registered_since\n",
    "# TODO: seperate location and time"
   ]
  },
  {
   "cell_type": "code",
   "execution_count": 90,
   "metadata": {},
   "outputs": [
    {
     "output_type": "execute_result",
     "data": {
      "text/plain": "['19', '0', '0']"
     },
     "metadata": {},
     "execution_count": 90
    }
   ],
   "source": [
    "feedback_ratings = doc.find('div', {'id': 'feedback_ratings'})\n",
    "feedback_ratings = feedback_ratings.find_all('span', {'class': 'num'})\n",
    "feedback_ratings = [f.text for f in feedback_ratings]\n",
    "feedback_ratings"
   ]
  },
  {
   "cell_type": "code",
   "execution_count": null,
   "metadata": {},
   "outputs": [],
   "source": []
  },
  {
   "cell_type": "code",
   "execution_count": null,
   "metadata": {},
   "outputs": [],
   "source": []
  },
  {
   "cell_type": "code",
   "execution_count": null,
   "metadata": {},
   "outputs": [],
   "source": []
  },
  {
   "cell_type": "code",
   "execution_count": null,
   "metadata": {},
   "outputs": [],
   "source": []
  },
  {
   "cell_type": "code",
   "execution_count": null,
   "metadata": {},
   "outputs": [],
   "source": []
  },
  {
   "cell_type": "code",
   "execution_count": null,
   "metadata": {},
   "outputs": [],
   "source": []
  },
  {
   "cell_type": "code",
   "execution_count": null,
   "metadata": {},
   "outputs": [],
   "source": []
  },
  {
   "cell_type": "code",
   "execution_count": null,
   "metadata": {},
   "outputs": [],
   "source": []
  },
  {
   "cell_type": "code",
   "execution_count": null,
   "metadata": {},
   "outputs": [],
   "source": []
  },
  {
   "cell_type": "code",
   "execution_count": null,
   "metadata": {},
   "outputs": [],
   "source": []
  },
  {
   "cell_type": "code",
   "execution_count": null,
   "metadata": {},
   "outputs": [],
   "source": []
  },
  {
   "cell_type": "code",
   "execution_count": null,
   "metadata": {},
   "outputs": [],
   "source": []
  },
  {
   "cell_type": "code",
   "execution_count": null,
   "metadata": {},
   "outputs": [],
   "source": []
  },
  {
   "cell_type": "code",
   "execution_count": null,
   "metadata": {},
   "outputs": [],
   "source": []
  },
  {
   "cell_type": "code",
   "execution_count": null,
   "metadata": {},
   "outputs": [],
   "source": []
  },
  {
   "cell_type": "code",
   "execution_count": null,
   "metadata": {},
   "outputs": [],
   "source": []
  },
  {
   "cell_type": "code",
   "execution_count": null,
   "metadata": {},
   "outputs": [],
   "source": []
  },
  {
   "cell_type": "code",
   "execution_count": null,
   "metadata": {},
   "outputs": [],
   "source": []
  },
  {
   "cell_type": "raw",
   "metadata": {},
   "source": []
  }
 ],
 "metadata": {
  "kernelspec": {
   "display_name": "Python 3.7.7 64-bit ('alpha': conda)",
   "language": "python",
   "name": "python_defaultSpec_1598702479968"
  },
  "language_info": {
   "codemirror_mode": {
    "name": "ipython",
    "version": 3
   },
   "file_extension": ".py",
   "mimetype": "text/x-python",
   "name": "python",
   "nbconvert_exporter": "python",
   "pygments_lexer": "ipython3",
   "version": "3.7.7-final"
  }
 },
 "nbformat": 4,
 "nbformat_minor": 2
}