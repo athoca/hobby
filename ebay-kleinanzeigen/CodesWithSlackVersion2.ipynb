{
 "cells": [
  {
   "cell_type": "code",
   "execution_count": 1,
   "metadata": {},
   "outputs": [],
   "source": [
    "import requests\n",
    "from bs4 import BeautifulSoup as soup\n",
    "import os.path\n",
    "import os\n",
    "import json\n",
    "from datetime import datetime\n",
    "from datetime import timedelta\n",
    "\n",
    "\n",
    "# https://api.slack.com/apps/APSE1SZPZ/incoming-webhooks?\n",
    "class SlackNotifier():\n",
    "    def __init__(self, url, interval_in_s):\n",
    "        self.slack_hook_url = url\n",
    "        self.tdelta = timedelta(seconds=interval_in_s)\n",
    "        self.lasttime = {}\n",
    "    def call(self, Id, message, forced=False):\n",
    "        if forced:\n",
    "            requests.post(self.slack_hook_url, json={\"text\":message})\n",
    "            self.lasttime[Id] = datetime.now()\n",
    "        elif not self.is_just_called(Id):\n",
    "            requests.post(self.slack_hook_url, json={\"text\":message})\n",
    "            self.lasttime[Id] = datetime.now()\n",
    "    def is_just_called(self, Id):\n",
    "        if not self.lasttime:\n",
    "            return False\n",
    "        elif Id in self.lasttime.keys():\n",
    "            return datetime.now() < self.lasttime[Id] + self.tdelta        \n",
    "        else:\n",
    "            return False\n",
    "    \n",
    "def notify_slack(message):\n",
    "    global updated\n",
    "    print(updated)\n",
    "    if not updated:\n",
    "        last_notification_time = datetime.now()\n",
    "        updated = True\n",
    "        print(\"updated\")\n",
    "    print(last_notification_time)\n",
    "    slack_hook_url = os.environ['SLACK_HOOK_URL']\n",
    "    requests.post(slack_hook_url, json={\"text\":message})\n",
    "\n",
    "\n",
    "def extract_today_created_time(item_time):\n",
    "    if \"Heute\" in item_time:\n",
    "        index = item_time.find(\"Heute,\")\n",
    "        created_hours = int(item_time[index+7:index + 9])\n",
    "        created_minutes = int(item_time[index+10:index + 12])\n",
    "        return True, timedelta(hours=created_hours, minutes=created_minutes)\n",
    "    else:\n",
    "        return False, item_time.replace(\"\\n\",\"\").replace(\" \",\"\")\n",
    "    \n",
    "def is_new(created_time, interval_in_s=30000):\n",
    "    \"\"\" Post can be updated later in 3 minutes => use default interval is 4' = 240\"\n",
    "    \"\"\"\n",
    "    tdelta = timedelta(seconds=int(interval_in_s))\n",
    "    now_hours = datetime.now().hour\n",
    "    now_minutes = datetime.now().minute\n",
    "    now_seconds = datetime.now().second\n",
    "    now = timedelta(hours=now_hours, minutes=now_minutes, seconds=now_seconds)\n",
    "    return now < created_time + tdelta"
   ]
  },
  {
   "cell_type": "code",
   "execution_count": 2,
   "metadata": {},
   "outputs": [],
   "source": [
    "notifier = SlackNotifier(os.environ['SLACK_HOOK_URL'], 10)"
   ]
  },
  {
   "cell_type": "code",
   "execution_count": 3,
   "metadata": {},
   "outputs": [],
   "source": [
    "notifier.call(0, \"FOR EBAY-KLEINANZEIGEN: NEW MESSAGE.\")"
   ]
  },
  {
   "cell_type": "code",
   "execution_count": null,
   "metadata": {},
   "outputs": [],
   "source": []
  },
  {
   "cell_type": "code",
   "execution_count": null,
   "metadata": {},
   "outputs": [],
   "source": []
  },
  {
   "cell_type": "code",
   "execution_count": null,
   "metadata": {},
   "outputs": [],
   "source": []
  },
  {
   "cell_type": "code",
   "execution_count": 63,
   "metadata": {},
   "outputs": [],
   "source": [
    "lat = \"48.1151649\"\n",
    "lng = \"11.6981558\"\n",
    "queries = [\"ikea skarsta\", \"bose revolve\"]\n",
    "queries = [\"+\".join(query.split(\" \")) for query in queries]\n",
    "distances = [20, 20] # in km\n",
    "maxprices = [110, 110] # in km\n",
    "page_num = 0\n",
    "interval_in_s = 30\n",
    "\n",
    "assert len(distances) == len(queries), \"Number of queries and distance is different.\"\n",
    "assert len(queries) == len(maxprices), \"Number of queries and maxprice is different.\""
   ]
  },
  {
   "cell_type": "code",
   "execution_count": 64,
   "metadata": {},
   "outputs": [],
   "source": [
    "i = 1\n",
    "query = queries[i]\n",
    "dist = distances[i]\n",
    "maxprice = maxprices[i]"
   ]
  },
  {
   "cell_type": "code",
   "execution_count": 66,
   "metadata": {},
   "outputs": [],
   "source": [
    "url_for_location_id = \"https://m.ebay-kleinanzeigen.de/s-ort-vorschlag.json?lat=\"+ lat + \"&lng=\" + lng\n",
    "result = requests.get(url_for_location_id)\n",
    "page = result.text\n",
    "locationId = json.loads(page)[0]['id']"
   ]
  },
  {
   "cell_type": "code",
   "execution_count": 67,
   "metadata": {},
   "outputs": [],
   "source": [
    "url = \"https://m.ebay-kleinanzeigen.de/s-suche-veraendern?locationId=\" + str(locationId) + \\\n",
    "        \"&distance=\" + str(dist) + \\\n",
    "        \"&categoryId=&minPrice=&maxPrice=\" + str(maxprice) + \\\n",
    "        \"&adType=&posterType=\"+ \\\n",
    "        \"&q=\" + query\n",
    "\n",
    "result = requests.get(url)\n",
    "page = result.text\n",
    "doc = soup(page, \"html.parser\")\n",
    "links = [element.get('content') for element in doc.find_all('meta')]\n",
    "link = links[6]\n",
    "\n",
    "link0, link1 = link.split(\"distance\")\n",
    "url = link0 + \"page=\" + str(page_num) + \"&distance\" + link1"
   ]
  },
  {
   "cell_type": "code",
   "execution_count": 69,
   "metadata": {},
   "outputs": [],
   "source": [
    "result = requests.get(url)\n",
    "page = result.text\n",
    "doc = soup(page, \"html.parser\")\n",
    "items = [element for element in doc.find_all('div', {\"class\": \"adlist--item--descarea\"})]"
   ]
  },
  {
   "cell_type": "code",
   "execution_count": 70,
   "metadata": {},
   "outputs": [
    {
     "data": {
      "text/plain": [
       "[]"
      ]
     },
     "execution_count": 70,
     "metadata": {},
     "output_type": "execute_result"
    }
   ],
   "source": [
    "items"
   ]
  },
  {
   "cell_type": "code",
   "execution_count": 71,
   "metadata": {},
   "outputs": [],
   "source": [
    "if len(items) > 0:\n",
    "    item = items[0] # get last item\n",
    "    item_time = item.find('div', {\"class\": \"adlist--item--info--date\"}).contents[0]\n",
    "    is_today, created_time = extract_today_created_time(item_time)\n",
    "    if is_today:\n",
    "        print(\"Today {}\".format(created_time))\n",
    "        if is_new(created_time):\n",
    "            notifier.call(\"FOR EBAY-KLEINANZEIGEN: NEW MESSAGE.\", forced=False)\n",
    "            print(\"SEND\")\n",
    "    else:\n",
    "        print(created_time)\n",
    "            "
   ]
  },
  {
   "cell_type": "markdown",
   "metadata": {},
   "source": [
    "# Delete process script"
   ]
  },
  {
   "cell_type": "code",
   "execution_count": 54,
   "metadata": {},
   "outputs": [],
   "source": [
    "import os\n",
    "\n",
    "if os.path.exists(\"/tmp/ebay-kleinanzeigen.pid\"):\n",
    "    with open(\"/tmp/ebay-kleinanzeigen.pid\", \"r\") as f:\n",
    "        current_pid = f.readline()\n",
    "        current_pid = current_pid.split(\"\\n\")[0]\n",
    "        kill_syntax = \"kill -9 {}\".format(current_pid)\n",
    "        os.system(kill_syntax)\n",
    "        if os.path.exists(\"/tmp/ebay-kleinanzeigen.pid.lock\"):\n",
    "            os.remove(\"/tmp/ebay-kleinanzeigen.pid.lock\")"
   ]
  },
  {
   "cell_type": "code",
   "execution_count": null,
   "metadata": {},
   "outputs": [],
   "source": []
  }
 ],
 "metadata": {
  "kernelspec": {
   "display_name": "Python [conda env:anki]",
   "language": "python",
   "name": "conda-env-anki-py"
  },
  "language_info": {
   "codemirror_mode": {
    "name": "ipython",
    "version": 3
   },
   "file_extension": ".py",
   "mimetype": "text/x-python",
   "name": "python",
   "nbconvert_exporter": "python",
   "pygments_lexer": "ipython3",
   "version": "3.6.5"
  }
 },
 "nbformat": 4,
 "nbformat_minor": 2
}
