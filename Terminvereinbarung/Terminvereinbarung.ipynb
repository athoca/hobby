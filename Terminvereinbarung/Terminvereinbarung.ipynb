{
 "cells": [
  {
   "cell_type": "code",
   "execution_count": 91,
   "metadata": {},
   "outputs": [],
   "source": [
    "import requests\n",
    "from bs4 import BeautifulSoup as soup\n",
    "import os.path\n",
    "import os\n",
    "import json\n",
    "from datetime import datetime\n",
    "from datetime import timedelta\n",
    "\n",
    "\n",
    "# https://api.slack.com/apps/APSE1SZPZ/incoming-webhooks?\n",
    "class SlackNotifier():\n",
    "    def __init__(self, url, interval_in_s):\n",
    "        self.slack_hook_url = url\n",
    "        self.tdelta = timedelta(seconds=interval_in_s)\n",
    "        self.lasttime = {}\n",
    "    def call(self, Id, message, forced=False):\n",
    "        if forced:\n",
    "            requests.post(self.slack_hook_url, json={\"text\":message})\n",
    "            self.lasttime[Id] = datetime.now()\n",
    "        elif not self.is_just_called(Id):\n",
    "            requests.post(self.slack_hook_url, json={\"text\":message})\n",
    "            self.lasttime[Id] = datetime.now()\n",
    "    def is_just_called(self, Id):\n",
    "        if not self.lasttime:\n",
    "            return False\n",
    "        elif Id in self.lasttime.keys():\n",
    "            return datetime.now() < self.lasttime[Id] + self.tdelta        \n",
    "        else:\n",
    "            return False\n",
    "\n",
    "def extract_today_created_time(item_time):\n",
    "    if \"Heute\" in item_time:\n",
    "        index = item_time.find(\"Heute,\")\n",
    "        created_hours = int(item_time[index+7:index + 9])\n",
    "        created_minutes = int(item_time[index+10:index + 12])\n",
    "        return True, timedelta(hours=created_hours, minutes=created_minutes)\n",
    "    else:\n",
    "        return False, item_time.replace(\"\\n\",\"\").replace(\" \",\"\")\n",
    "    \n",
    "def is_new(created_time, interval_in_s=30000):\n",
    "    \"\"\" Post can be updated later in 3 minutes => use default interval is 4' = 240\"\n",
    "    \"\"\"\n",
    "    tdelta = timedelta(seconds=int(interval_in_s))\n",
    "    now_hours = datetime.now().hour\n",
    "    now_minutes = datetime.now().minute\n",
    "    now_seconds = datetime.now().second\n",
    "    now = timedelta(hours=now_hours, minutes=now_minutes, seconds=now_seconds)\n",
    "    return now < created_time + tdelta"
   ]
  },
  {
   "cell_type": "code",
   "execution_count": 92,
   "metadata": {},
   "outputs": [],
   "source": [
    "notifier = SlackNotifier(os.environ['SLACK_HOOK_URL'], 10)"
   ]
  },
  {
   "cell_type": "code",
   "execution_count": 93,
   "metadata": {},
   "outputs": [],
   "source": [
    "notifier.call(0, \"FOR EBAY-KLEINANZEIGEN: NEW MESSAGE.\")"
   ]
  },
  {
   "cell_type": "code",
   "execution_count": null,
   "metadata": {},
   "outputs": [],
   "source": []
  },
  {
   "cell_type": "code",
   "execution_count": 212,
   "metadata": {},
   "outputs": [
    {
     "data": {
      "text/plain": [
       "<!DOCTYPE html>\n",
       "\n",
       "<html lang=\"de\">\n",
       "<head>\n",
       "<meta content=\"text/html; charset=utf-8\" http-equiv=\"Content-Type\"/>\n",
       "<link href=\"./img/favicon.gif\" rel=\"icon\" type=\"image/gif\"/>\n",
       "<meta content=\"width=device-width, initial-scale=1.0, max-scale=1.5, user-scalable=no\" name=\"viewport\"/>\n",
       "<link href=\"./tpl/Muc/CSS/Default.tpl.css\" rel=\"STYLESHEET\" type=\"text/css\"/>\n",
       "<link href=\"./tpl/Muc/CSS/responsive.css\" rel=\"STYLESHEET\" type=\"text/css\"/>\n",
       "<link href=\"./tpl/Muc/CSS/reader.css\" media=\"reader\" rel=\"STYLESHEET\" type=\"text/css\"/>\n",
       "<!-- CUSTOM_CSS -->\n",
       "<script src=\"./js/jquery-1.11.2.min.js\" type=\"text/javascript\"></script>\n",
       "<script src=\"./js/barr.js\" type=\"text/javascript\"></script>\n",
       "<title>Terminvereinbarung - Auswahl der Dienstleistung</title>\n",
       "<script src=\"./js/appointPicker.js\" type=\"text/javascript\"></script>\n",
       "<!--[if lt IE 8]>\n",
       "          <style type=\"text/css\">@import url(./tpl/Var_2M_loc/CSS/ie8.css);</style>\n",
       "        <![endif]-->\n",
       "<script>\n",
       "            var jsonAppoints = '{\"Termin Wartezone SCIF\":{\"caption\":\"Ausl\\u00e4nderbeh\\u00f6rde M\\u00fcnchen - Service-Center f\\u00fcr internationale Fachkr\\u00e4fte\",\"appoints\":{\"2019-10-25\":[],\"2019-10-26\":[],\"2019-10-27\":[],\"2019-10-28\":[],\"2019-10-29\":[],\"2019-10-30\":[],\"2019-10-31\":[],\"2019-11-01\":[],\"2019-11-02\":[],\"2019-11-03\":[],\"2019-11-04\":[],\"2019-11-05\":[],\"2019-11-06\":[],\"2019-11-07\":[],\"2019-11-08\":[],\"2019-11-09\":[],\"2019-11-10\":[],\"2019-11-11\":[],\"2019-11-12\":[],\"2019-11-13\":[],\"2019-11-14\":[],\"2019-11-15\":[],\"2019-11-16\":[],\"2019-11-17\":[],\"2019-11-18\":[],\"2019-11-19\":[],\"2019-11-20\":[],\"2019-11-21\":[],\"2019-11-22\":[],\"2019-11-23\":[],\"2019-11-24\":[],\"2019-11-25\":[],\"2019-11-26\":[],\"2019-11-27\":[],\"2019-11-28\":[],\"2019-11-29\":[],\"2019-11-30\":[],\"2019-12-01\":[],\"2019-12-02\":[],\"2019-12-03\":[],\"2019-12-04\":[],\"2019-12-05\":[],\"2019-12-06\":[],\"2019-12-07\":[],\"2019-12-08\":[],\"2019-12-09\":[],\"2019-12-10\":[],\"2019-12-11\":[],\"2019-12-12\":[],\"2019-12-13\":[],\"2019-12-14\":[],\"2019-12-15\":[],\"2019-12-16\":[],\"2019-12-17\":[],\"2019-12-18\":[],\"2019-12-19\":[],\"2019-12-20\":[],\"2019-12-21\":[],\"2019-12-22\":[],\"2019-12-23\":[],\"2019-12-24\":[],\"2019-12-25\":[],\"2019-12-26\":[],\"2019-12-27\":[],\"2019-12-28\":[],\"2019-12-29\":[],\"2019-12-30\":[],\"2019-12-31\":[],\"2020-01-01\":[],\"2020-01-02\":[],\"2020-01-03\":[],\"2020-01-04\":[],\"2020-01-05\":[],\"2020-01-06\":[],\"2020-01-07\":[],\"2020-01-08\":[],\"2020-01-09\":[],\"2020-01-10\":[],\"2020-01-11\":[],\"2020-01-12\":[],\"2020-01-13\":[],\"2020-01-14\":[],\"2020-01-15\":[],\"2020-01-16\":[],\"2020-01-17\":[],\"2020-01-18\":[],\"2020-01-19\":[],\"2020-01-20\":[],\"2020-01-21\":[],\"2020-01-22\":[],\"2020-01-23\":[],\"2020-01-24\":[],\"2020-01-25\":[],\"2020-01-26\":[],\"2020-01-27\":[],\"2020-01-28\":[],\"2020-01-29\":[],\"2020-01-30\":[],\"2020-01-31\":[],\"2020-02-01\":[]},\"id\":\"45d56a2da948e677504112248c84c488\"}}';\n",
       "            var appointLocationHash = '<!-- §§appoint_location_hash§§ -->';\n",
       "            var appointLocation = '<!-- §§appoint_location§§ -->';\n",
       "            var appointDate = '<!-- §§appoint_date_YMD§§ -->';\n",
       "            var appointTime = '<!-- §§appoint_time§§ -->';\n",
       "            var KEEP_ALL_LOCATIONS_OPEN = '';\n",
       "            var KEEP_LOCATION_OPEN_IF_ONE = '1';\n",
       "            var LOCATIONS_TO_KEEP_OPEN = '[]';\n",
       "            var IS_LOADBALANCER = '0';\n",
       "        </script>\n",
       "</head>\n",
       "<body>\n",
       "<h1>Terminvereinbarung</h1>\n",
       "<a href=\"#content\" style=\"display: initial; float: left;\"><img alt=\"weiter zum Inhalt\" border=\"0\" height=\"0\" src=\"./tpl/Muc/img/spacer.png\" width=\"0\"/></a>\n",
       "<ul class=\"statusleiste\">\n",
       "<li class=\"statusleiste_li\" id=\"NAV_CASETYPES\"><a class=\"statusleiste_6tabs\" href=\"./?option=s1\">Dienstleistung</a></li>\n",
       "<li class=\"statusleiste_6tabs statusleiste_aktiv\" id=\"NAV_LOCATION\">Standort</li>\n",
       "<li class=\"statusleiste_6tabs\" id=\"NAV_DATE\">Datum</li>\n",
       "<li class=\"statusleiste_6tabs\" id=\"NAV_TIME\">Uhrzeit</li>\n",
       "<li class=\"statusleiste_6tabs\" id=\"NAV_CONTACT\">Kontakt</li>\n",
       "<li class=\"statusleiste_6tabs\" id=\"NAV_CONFIRM\">Aktivierung</li>\n",
       "</ul>\n",
       "<a name=\"content\"></a>\n",
       "<div class=\"message_1\">\n",
       "<!-- §§SUCCESSMESSAGE§§ -->\n",
       "</div>\n",
       "<div class=\"message_1\">\n",
       "<!-- §§ERRORMESSAGE§§ -->\n",
       "</div>\n",
       "<p> </p>\n",
       "<div class=\"content\" style=\"overflow: auto;\">\n",
       "<div class=\"terminbuchung\">\n",
       "<div class=\"terminbuchung_head\">\n",
       "<h2>\n",
       "                        Bitte wählen Sie Ihren gewünschten Termin\n",
       "                    </h2>\n",
       "</div>\n",
       "<div class=\"location_list\" id=\"locationContent\">\n",
       "</div>\n",
       "</div>\n",
       "<div class=\"merkzettel\">\n",
       "<div class=\"merkzettel_head\">\n",
       "<h2>\n",
       "\t\t\t\t\t\tIhre bisherigen Angaben\n",
       "\t\t\t\t\t</h2>\n",
       "</div>\n",
       "<div class=\"merkzettel_content\">\n",
       "<dl>\n",
       "<dt>Dienstleistung</dt><dd>1 x <b>Aufenthaltserlaubnis Blaue Karte EU <br/></b> Anzahl der Personen, die einen Aufenthaltstitel beantragen (auch ausländische Ehegatten und Kinder) <br/><b> Residence permit Blue Card EU <br/></b> Number of persons applying for a residence permit (including foreign spouses and children)<br/></dd>\n",
       "<dt>Standort</dt><dd></dd>\n",
       "<dt>Datum</dt><dd>-</dd>\n",
       "<dt>Uhrzeit</dt><dd>- Uhr</dd>\n",
       "<dt>Termindauer</dt><dd>35 Minuten</dd>\n",
       "</dl>\n",
       "</div>\n",
       "</div>\n",
       "</div>\n",
       "</body>\n",
       "</html>"
      ]
     },
     "execution_count": 212,
     "metadata": {},
     "output_type": "execute_result"
    }
   ],
   "source": [
    "# Get information from KVR\n",
    "\n",
    "termin_url = \"https://www46.muenchen.de/termin/index.php?cts=1080627\"\n",
    "\n",
    "headers1 = {\n",
    "    'User-Agent': 'Mozilla/5.0 (iPhone; CPU iPhone OS 11_0 like Mac OS X) AppleWebKit/604.1.38 (KHTML, like Gecko) Version/11.0 Mobile/15A372 Safari/604.1',\n",
    "    'Connection' : 'keep-alive',\n",
    "    'Cache-Control' : 'max-age=0',\n",
    "    'Upgrade-Insecure-Requests' : '1',\n",
    "    'Accept' : 'text/html,application/xhtml+xml,application/xml;q=0.9,image/webp,image/apng,*/*;q=0.8,application/signed-exchange;v=b3',\n",
    "    'Accept-Encoding' : 'gzip, deflate, br',\n",
    "    'Accept-Language' : 'en-US,en;q=0.9,de;q=0.8,fr;q=0.7,vi;q=0.6',\n",
    "    'Cookie' : '_et_coid=e32c2d08fe2aec5f79ee9875c9f20463'\n",
    "}\n",
    "\n",
    "r1 = requests.get(termin_url, headers=headers1)\n",
    "page = r1.content\n",
    "doc = soup(page, \"html.parser\")\n",
    "element = doc.findAll('input', {\"name\": \"__ncforminfo\"})[0]\n",
    "\n",
    "data = {}\n",
    "data['step'] = 'WEB_APPOINT_SEARCH_BY_CASETYPES'\n",
    "data['CASETYPES[Aufenthaltserlaubnis Blaue Karte EU]'] = '1'\n",
    "data['__ncforminfo'] = element['value']\n",
    "\n",
    "headers2 = {\n",
    "    'User-Agent': 'Mozilla/5.0 (iPhone; CPU iPhone OS 11_0 like Mac OS X) AppleWebKit/604.1.38 (KHTML, like Gecko) Version/11.0 Mobile/15A372 Safari/604.1',\n",
    "    'Connection' : 'keep-alive',\n",
    "    'Cache-Control' : 'max-age=0',\n",
    "    'Upgrade-Insecure-Requests' : '1',\n",
    "    'Accept' : 'text/html,application/xhtml+xml,application/xml;q=0.9,image/webp,image/apng,*/*;q=0.8,application/signed-exchange;v=b3',\n",
    "    'Accept-Encoding' : 'gzip, deflate, br',\n",
    "    'Accept-Language' : 'en-US,en;q=0.9,de;q=0.8,fr;q=0.7,vi;q=0.6',\n",
    "}\n",
    "\n",
    "r2 = requests.post(termin_url, cookies=r1.cookies, headers=headers2, data=data)\n",
    "page = r2.content\n",
    "doc = soup(page, \"html.parser\")\n",
    "doc"
   ]
  },
  {
   "cell_type": "code",
   "execution_count": 207,
   "metadata": {},
   "outputs": [],
   "source": []
  },
  {
   "cell_type": "code",
   "execution_count": 208,
   "metadata": {},
   "outputs": [],
   "source": []
  },
  {
   "cell_type": "code",
   "execution_count": 209,
   "metadata": {},
   "outputs": [],
   "source": []
  },
  {
   "cell_type": "code",
   "execution_count": null,
   "metadata": {},
   "outputs": [],
   "source": []
  },
  {
   "cell_type": "code",
   "execution_count": null,
   "metadata": {},
   "outputs": [],
   "source": []
  },
  {
   "cell_type": "code",
   "execution_count": null,
   "metadata": {},
   "outputs": [],
   "source": []
  },
  {
   "cell_type": "code",
   "execution_count": null,
   "metadata": {},
   "outputs": [],
   "source": []
  },
  {
   "cell_type": "code",
   "execution_count": null,
   "metadata": {},
   "outputs": [],
   "source": []
  },
  {
   "cell_type": "code",
   "execution_count": null,
   "metadata": {},
   "outputs": [],
   "source": []
  },
  {
   "cell_type": "code",
   "execution_count": null,
   "metadata": {},
   "outputs": [],
   "source": []
  },
  {
   "cell_type": "code",
   "execution_count": null,
   "metadata": {},
   "outputs": [],
   "source": []
  },
  {
   "cell_type": "code",
   "execution_count": null,
   "metadata": {},
   "outputs": [],
   "source": []
  },
  {
   "cell_type": "code",
   "execution_count": null,
   "metadata": {},
   "outputs": [],
   "source": []
  },
  {
   "cell_type": "code",
   "execution_count": 6,
   "metadata": {},
   "outputs": [],
   "source": [
    "lat = \"48.1151649\"\n",
    "lng = \"11.6981558\"\n",
    "queries = [\"ikea skarsta\", \"bose revolve\"]\n",
    "queries = [\"+\".join(query.split(\" \")) for query in queries]\n",
    "distances = [20, 1] # in km\n",
    "page_num = 0\n",
    "interval_in_s = 30\n",
    "\n",
    "assert len(distances) == len(queries), \"Number of queries and distance is different.\""
   ]
  },
  {
   "cell_type": "code",
   "execution_count": 7,
   "metadata": {},
   "outputs": [],
   "source": [
    "i = 0\n",
    "query = queries[i]\n",
    "dist = distances[i]"
   ]
  },
  {
   "cell_type": "code",
   "execution_count": 8,
   "metadata": {},
   "outputs": [],
   "source": [
    "url_for_location_id = \"https://m.ebay-kleinanzeigen.de/s-ort-vorschlag.json?lat=\"+ lat + \"&lng=\" + lng\n",
    "result = requests.get(url_for_location_id)\n",
    "page = result.text\n",
    "locationId = json.loads(page)[0]['id']"
   ]
  },
  {
   "cell_type": "code",
   "execution_count": 9,
   "metadata": {},
   "outputs": [],
   "source": [
    "url = \"https://m.ebay-kleinanzeigen.de/s-suche-veraendern?locationId=\" + str(locationId) + \\\n",
    "        \"&distance=\" + str(dist) + \\\n",
    "        \"&categoryId=&minPrice=&maxPrice=&adType=&posterType=\"+ \\\n",
    "        \"&q=\" + query\n",
    "\n",
    "result = requests.get(url)\n",
    "page = result.text\n",
    "doc = soup(page, \"html.parser\")\n",
    "links = [element.get('content') for element in doc.find_all('meta')]\n",
    "link = links[6]\n",
    "\n",
    "link0, link1 = link.split(\"distance\")\n",
    "url = link0 + \"page=\" + str(page_num) + \"&distance\" + link1"
   ]
  },
  {
   "cell_type": "code",
   "execution_count": 10,
   "metadata": {},
   "outputs": [],
   "source": [
    "result = requests.get(url)\n",
    "page = result.text\n",
    "doc = soup(page, \"html.parser\")\n",
    "items = [element for element in doc.find_all('div', {\"class\": \"adlist--item--descarea\"})]"
   ]
  },
  {
   "cell_type": "code",
   "execution_count": 8,
   "metadata": {},
   "outputs": [],
   "source": [
    "# items"
   ]
  },
  {
   "cell_type": "code",
   "execution_count": 9,
   "metadata": {},
   "outputs": [
    {
     "name": "stdout",
     "output_type": "stream",
     "text": [
      "Today 17:32:00\n",
      "SEND\n"
     ]
    }
   ],
   "source": [
    "if len(items) > 0:\n",
    "    item = items[0] # get last item\n",
    "    item_time = item.find('div', {\"class\": \"adlist--item--info--date\"}).contents[0]\n",
    "    is_today, created_time = extract_today_created_time(item_time)\n",
    "    if is_today:\n",
    "        print(\"Today {}\".format(created_time))\n",
    "        if is_new(created_time):\n",
    "            notifier.call(\"FOR EBAY-KLEINANZEIGEN: NEW MESSAGE.\", forced=False)\n",
    "            print(\"SEND\")\n",
    "    else:\n",
    "        print(created_time)\n",
    "            "
   ]
  },
  {
   "cell_type": "markdown",
   "metadata": {},
   "source": [
    "# Delete process script"
   ]
  },
  {
   "cell_type": "code",
   "execution_count": 54,
   "metadata": {},
   "outputs": [],
   "source": [
    "import os\n",
    "\n",
    "if os.path.exists(\"/tmp/ebay-kleinanzeigen.pid\"):\n",
    "    with open(\"/tmp/ebay-kleinanzeigen.pid\", \"r\") as f:\n",
    "        current_pid = f.readline()\n",
    "        current_pid = current_pid.split(\"\\n\")[0]\n",
    "        kill_syntax = \"kill -9 {}\".format(current_pid)\n",
    "        os.system(kill_syntax)\n",
    "        if os.path.exists(\"/tmp/ebay-kleinanzeigen.pid.lock\"):\n",
    "            os.remove(\"/tmp/ebay-kleinanzeigen.pid.lock\")"
   ]
  },
  {
   "cell_type": "code",
   "execution_count": null,
   "metadata": {},
   "outputs": [],
   "source": []
  }
 ],
 "metadata": {
  "kernelspec": {
   "display_name": "Python [conda env:anki]",
   "language": "python",
   "name": "conda-env-anki-py"
  },
  "language_info": {
   "codemirror_mode": {
    "name": "ipython",
    "version": 3
   },
   "file_extension": ".py",
   "mimetype": "text/x-python",
   "name": "python",
   "nbconvert_exporter": "python",
   "pygments_lexer": "ipython3",
   "version": "3.6.5"
  }
 },
 "nbformat": 4,
 "nbformat_minor": 2
}
