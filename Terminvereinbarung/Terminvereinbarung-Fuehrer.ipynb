{
 "cells": [
  {
   "cell_type": "markdown",
   "metadata": {},
   "source": [
    "# Slack client"
   ]
  },
  {
   "cell_type": "code",
   "execution_count": 1,
   "metadata": {},
   "outputs": [],
   "source": [
    "import requests\n",
    "from bs4 import BeautifulSoup as soup\n",
    "import os.path\n",
    "import os\n",
    "import json\n",
    "from datetime import datetime\n",
    "from datetime import timedelta\n",
    "import ast\n",
    "\n",
    "\n",
    "# https://api.slack.com/apps/APSE1SZPZ/incoming-webhooks?\n",
    "class SlackNotifier():\n",
    "    def __init__(self, url, interval_in_s):\n",
    "        self.slack_hook_url = url\n",
    "        self.tdelta = timedelta(seconds=interval_in_s)\n",
    "        self.lasttime = {}\n",
    "    def call(self, Id, message, forced=False):\n",
    "        if forced:\n",
    "            requests.post(self.slack_hook_url, json={\"text\":message})\n",
    "            self.lasttime[Id] = datetime.now()\n",
    "        elif not self.is_just_called(Id):\n",
    "            requests.post(self.slack_hook_url, json={\"text\":message})\n",
    "            self.lasttime[Id] = datetime.now()\n",
    "    def is_just_called(self, Id):\n",
    "        if not self.lasttime:\n",
    "            return False\n",
    "        elif Id in self.lasttime.keys():\n",
    "            return datetime.now() < self.lasttime[Id] + self.tdelta        \n",
    "        else:\n",
    "            return False"
   ]
  },
  {
   "cell_type": "code",
   "execution_count": 2,
   "metadata": {},
   "outputs": [],
   "source": [
    "notifier = SlackNotifier(os.environ['SLACK_HOOK_URL'], 10)"
   ]
  },
  {
   "cell_type": "code",
   "execution_count": 3,
   "metadata": {},
   "outputs": [],
   "source": [
    "notifier.call(0, \"FOR KVR RESIDENCE PERMIT: NEW MESSAGE.\")"
   ]
  },
  {
   "cell_type": "markdown",
   "metadata": {},
   "source": [
    "# Check available dates"
   ]
  },
  {
   "cell_type": "code",
   "execution_count": 4,
   "metadata": {},
   "outputs": [],
   "source": [
    "# For other termines, e.g An- oder Ummeldung - Einzelperson\n",
    "TERMIN_URL = \"https://www56.muenchen.de/termin/index.php?loc=BB\"\n",
    "CASETYPES = 'CASETYPES[An- oder Ummeldung - Einzelperson]'\n",
    "ZONE = 'Termin Wartezone 1 P'\n",
    "\n",
    "# For SCIF\n",
    "# TERMIN_URL = \"https://www46.muenchen.de/termin/index.php?cts=1080627\"\n",
    "# CASETYPES = 'CASETYPES[Aufenthaltserlaubnis Blaue Karte EU]'\n",
    "# ZONE = 'Termin Wartezone SCIF'\n",
    "\n",
    "# For Fuehrer\n",
    "TERMIN_URL = \"https://www22.muenchen.de/view-fs/termin/index.php?\"\n",
    "CASETYPES = 'CASETYPES[FS Fahrerlaubnis erstmalig]'\n",
    "ZONE = 'Termin FS Umtauschstelle_G'\n",
    "\n",
    "def check_KRV_SCIF_available_date(termin_url, casetypes, zone):\n",
    "    # Get information for KVR from\n",
    "    # https://www46.muenchen.de/termin/index.php?cts=1080627\"\n",
    "    termin_url = termin_url\n",
    "    \n",
    "    # First call to get cookies and __ncforminfo\n",
    "    headers1 = {\n",
    "        'User-Agent': 'Mozilla/5.0 (iPhone; CPU iPhone OS 11_0 like Mac OS X) AppleWebKit/604.1.38 (KHTML, like Gecko) Version/11.0 Mobile/15A372 Safari/604.1',\n",
    "        'Connection' : 'keep-alive',\n",
    "        'Cache-Control' : 'max-age=0',\n",
    "        'Upgrade-Insecure-Requests' : '1',\n",
    "        'Accept' : 'text/html,application/xhtml+xml,application/xml;q=0.9,image/webp,image/apng,*/*;q=0.8,application/signed-exchange;v=b3',\n",
    "        'Accept-Encoding' : 'gzip, deflate, br',\n",
    "        'Accept-Language' : 'en-US,en;q=0.9,de;q=0.8,fr;q=0.7,vi;q=0.6',\n",
    "        'Cookie' : '_et_coid=e32c2d08fe2aec5f79ee9875c9f20463'\n",
    "    }\n",
    "    r1 = requests.get(termin_url, headers=headers1)\n",
    "    page = r1.content\n",
    "    doc = soup(page, \"html.parser\")\n",
    "#     element = doc.findAll('input', {\"name\": \"__ncforminfo\"})[0]\n",
    "    \n",
    "    # Second call to get available dates\n",
    "    data = {}\n",
    "    data['step'] = 'WEB_APPOINT_SEARCH_BY_CASETYPES'\n",
    "    data[casetypes] = '1'\n",
    "#     data['__ncforminfo'] = element['value']\n",
    "\n",
    "    headers2 = {\n",
    "        'User-Agent': 'Mozilla/5.0 (iPhone; CPU iPhone OS 11_0 like Mac OS X) AppleWebKit/604.1.38 (KHTML, like Gecko) Version/11.0 Mobile/15A372 Safari/604.1',\n",
    "        'Connection' : 'keep-alive',\n",
    "        'Cache-Control' : 'max-age=0',\n",
    "        'Upgrade-Insecure-Requests' : '1',\n",
    "        'Accept' : 'text/html,application/xhtml+xml,application/xml;q=0.9,image/webp,image/apng,*/*;q=0.8,application/signed-exchange;v=b3',\n",
    "        'Accept-Encoding' : 'gzip, deflate, br',\n",
    "        'Accept-Language' : 'en-US,en;q=0.9,de;q=0.8,fr;q=0.7,vi;q=0.6',\n",
    "    }\n",
    "\n",
    "    r2 = requests.post(termin_url, cookies=r1.cookies, headers=headers2, data=data)\n",
    "    page = r2.content\n",
    "    page = page.decode(\"utf-8\")\n",
    "\n",
    "    for item in page.split(\"\\n\"):\n",
    "        if \"jsonAppoints\" in item:\n",
    "            appoints_line = item.strip()\n",
    "            break\n",
    "    right = appoints_line.find('{')\n",
    "    left = appoints_line.rfind('}')\n",
    "    appoints = ast.literal_eval(appoints_line[right:left+1])\n",
    "    \n",
    "    appoints_dates = appoints[zone]['appoints']\n",
    "    available_date = None\n",
    "    for key in appoints_dates.keys():\n",
    "        if len(appoints_dates[key]) > 0:\n",
    "            available_date = key\n",
    "            break\n",
    "    \n",
    "    return available_date"
   ]
  },
  {
   "cell_type": "code",
   "execution_count": 5,
   "metadata": {},
   "outputs": [],
   "source": [
    "a = check_KRV_SCIF_available_date(TERMIN_URL, CASETYPES, ZONE)"
   ]
  },
  {
   "cell_type": "code",
   "execution_count": 6,
   "metadata": {},
   "outputs": [
    {
     "data": {
      "text/plain": [
       "'2020-05-13'"
      ]
     },
     "execution_count": 6,
     "metadata": {},
     "output_type": "execute_result"
    }
   ],
   "source": [
    "a"
   ]
  },
  {
   "cell_type": "code",
   "execution_count": 7,
   "metadata": {},
   "outputs": [
    {
     "data": {
      "text/plain": [
       "'None'"
      ]
     },
     "execution_count": 7,
     "metadata": {},
     "output_type": "execute_result"
    }
   ],
   "source": [
    "str(None)"
   ]
  },
  {
   "cell_type": "code",
   "execution_count": 7,
   "metadata": {},
   "outputs": [
    {
     "name": "stdout",
     "output_type": "stream",
     "text": [
      "2019-11-11\n"
     ]
    }
   ],
   "source": [
    "print(check_KRV_SCIF_available_date(TERMIN_URL, CASETYPES, ZONE))"
   ]
  },
  {
   "cell_type": "markdown",
   "metadata": {},
   "source": [
    "# Delete process script"
   ]
  },
  {
   "cell_type": "code",
   "execution_count": 54,
   "metadata": {},
   "outputs": [],
   "source": [
    "import os\n",
    "\n",
    "if os.path.exists(\"/tmp/terminvereinbarung.pid\"):\n",
    "    with open(\"/tmp/terminvereinbarung.pid\", \"r\") as f:\n",
    "        current_pid = f.readline()\n",
    "        current_pid = current_pid.split(\"\\n\")[0]\n",
    "        kill_syntax = \"kill -9 {}\".format(current_pid)\n",
    "        os.system(kill_syntax)\n",
    "        if os.path.exists(\"/tmp/terminvereinbarung.pid.lock\"):\n",
    "            os.remove(\"/tmp/terminvereinbarung.pid.lock\")"
   ]
  },
  {
   "cell_type": "code",
   "execution_count": null,
   "metadata": {},
   "outputs": [],
   "source": [
    "datetime."
   ]
  }
 ],
 "metadata": {
  "kernelspec": {
   "display_name": "Python [conda env:anki]",
   "language": "python",
   "name": "conda-env-anki-py"
  },
  "language_info": {
   "codemirror_mode": {
    "name": "ipython",
    "version": 3
   },
   "file_extension": ".py",
   "mimetype": "text/x-python",
   "name": "python",
   "nbconvert_exporter": "python",
   "pygments_lexer": "ipython3",
   "version": "3.6.5"
  }
 },
 "nbformat": 4,
 "nbformat_minor": 2
}
